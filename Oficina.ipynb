{
 "cells": [
  {
   "cell_type": "markdown",
   "metadata": {
    "slideshow": {
     "slide_type": "slide"
    }
   },
   "source": [
    "<img src=\"JEAP.jpg\" width=\"480\">"
   ]
  },
  {
   "cell_type": "markdown",
   "metadata": {
    "slideshow": {
     "slide_type": "slide"
    },
    "toc": true
   },
   "source": [
    "<h1>Sumário<span class=\"tocSkip\"></span></h1>\n",
    "<div class=\"toc\"><ul class=\"toc-item\"><li><span><a href=\"#Introdução\" data-toc-modified-id=\"Introdução-1\"><span class=\"toc-item-num\">1&nbsp;&nbsp;</span>Introdução</a></span><ul class=\"toc-item\"><li><span><a href=\"#Sobre-o-autor\" data-toc-modified-id=\"Sobre-o-autor-1.1\"><span class=\"toc-item-num\">1.1&nbsp;&nbsp;</span>Sobre o autor</a></span></li><li><span><a href=\"#Sobre-o-material\" data-toc-modified-id=\"Sobre-o-material-1.2\"><span class=\"toc-item-num\">1.2&nbsp;&nbsp;</span>Sobre o material</a></span></li><li><span><a href=\"#Porque-Python?-ref\" data-toc-modified-id=\"Porque-Python?-ref-1.3\"><span class=\"toc-item-num\">1.3&nbsp;&nbsp;</span>Porque Python? <a href=\"https://www.hostgator.com.br/blog/10-motivos-para-voce-aprender-python/\" target=\"_blank\">ref</a></a></span></li><li><span><a href=\"#Porque-Jupyter-Notebooks?\" data-toc-modified-id=\"Porque-Jupyter-Notebooks?-1.4\"><span class=\"toc-item-num\">1.4&nbsp;&nbsp;</span>Porque Jupyter Notebooks?</a></span></li><li><span><a href=\"#Material-Complementar\" data-toc-modified-id=\"Material-Complementar-1.5\"><span class=\"toc-item-num\">1.5&nbsp;&nbsp;</span>Material Complementar</a></span></li></ul></li><li><span><a href=\"#Revisão\" data-toc-modified-id=\"Revisão-2\"><span class=\"toc-item-num\">2&nbsp;&nbsp;</span>Revisão</a></span><ul class=\"toc-item\"><li><span><a href=\"#Módulos\" data-toc-modified-id=\"Módulos-2.1\"><span class=\"toc-item-num\">2.1&nbsp;&nbsp;</span>Módulos</a></span></li><li><span><a href=\"#Classes\" data-toc-modified-id=\"Classes-2.2\"><span class=\"toc-item-num\">2.2&nbsp;&nbsp;</span>Classes</a></span></li><li><span><a href=\"#Dicionários\" data-toc-modified-id=\"Dicionários-2.3\"><span class=\"toc-item-num\">2.3&nbsp;&nbsp;</span>Dicionários</a></span></li><li><span><a href=\"#Principais-Bibliotecas\" data-toc-modified-id=\"Principais-Bibliotecas-2.4\"><span class=\"toc-item-num\">2.4&nbsp;&nbsp;</span>Principais Bibliotecas</a></span><ul class=\"toc-item\"><li><span><a href=\"#SciPy\" data-toc-modified-id=\"SciPy-2.4.1\"><span class=\"toc-item-num\">2.4.1&nbsp;&nbsp;</span>SciPy</a></span></li><li><span><a href=\"#Numpy\" data-toc-modified-id=\"Numpy-2.4.2\"><span class=\"toc-item-num\">2.4.2&nbsp;&nbsp;</span>Numpy</a></span></li><li><span><a href=\"#Exemplos\" data-toc-modified-id=\"Exemplos-2.4.3\"><span class=\"toc-item-num\">2.4.3&nbsp;&nbsp;</span>Exemplos</a></span></li><li><span><a href=\"#Pandas\" data-toc-modified-id=\"Pandas-2.4.4\"><span class=\"toc-item-num\">2.4.4&nbsp;&nbsp;</span>Pandas</a></span></li><li><span><a href=\"#Matplotlib\" data-toc-modified-id=\"Matplotlib-2.4.5\"><span class=\"toc-item-num\">2.4.5&nbsp;&nbsp;</span>Matplotlib</a></span></li><li><span><a href=\"#Bokeh\" data-toc-modified-id=\"Bokeh-2.4.6\"><span class=\"toc-item-num\">2.4.6&nbsp;&nbsp;</span>Bokeh</a></span></li></ul></li><li><span><a href=\"#Boas-práticas-em-programação\" data-toc-modified-id=\"Boas-práticas-em-programação-2.5\"><span class=\"toc-item-num\">2.5&nbsp;&nbsp;</span>Boas práticas em programação</a></span></li><li><span><a href=\"#Fortran-vs.-Python\" data-toc-modified-id=\"Fortran-vs.-Python-2.6\"><span class=\"toc-item-num\">2.6&nbsp;&nbsp;</span>Fortran vs. Python</a></span></li></ul></li><li><span><a href=\"#Exercícios-Resolvidos\" data-toc-modified-id=\"Exercícios-Resolvidos-3\"><span class=\"toc-item-num\">3&nbsp;&nbsp;</span>Exercícios Resolvidos</a></span><ul class=\"toc-item\"><li><span><a href=\"#Métodos-Numéricos\" data-toc-modified-id=\"Métodos-Numéricos-3.1\"><span class=\"toc-item-num\">3.1&nbsp;&nbsp;</span>Métodos Numéricos</a></span></li><li><span><a href=\"#Transferência-de-Calor\" data-toc-modified-id=\"Transferência-de-Calor-3.2\"><span class=\"toc-item-num\">3.2&nbsp;&nbsp;</span>Transferência de Calor</a></span><ul class=\"toc-item\"><li><span><a href=\"#1D-Radiação-+-Convecção\" data-toc-modified-id=\"1D-Radiação-+-Convecção-3.2.1\"><span class=\"toc-item-num\">3.2.1&nbsp;&nbsp;</span>1D Radiação + Convecção</a></span></li></ul></li><li><span><a href=\"#Mecânica-dos-Fluidos\" data-toc-modified-id=\"Mecânica-dos-Fluidos-3.3\"><span class=\"toc-item-num\">3.3&nbsp;&nbsp;</span>Mecânica dos Fluidos</a></span></li><li><span><a href=\"#Vibrações-Mecânicas\" data-toc-modified-id=\"Vibrações-Mecânicas-3.4\"><span class=\"toc-item-num\">3.4&nbsp;&nbsp;</span>Vibrações Mecânicas</a></span></li><li><span><a href=\"#Resistência-dos-Materiais\" data-toc-modified-id=\"Resistência-dos-Materiais-3.5\"><span class=\"toc-item-num\">3.5&nbsp;&nbsp;</span>Resistência dos Materiais</a></span></li><li><span><a href=\"#Ciência-dos-Materiais\" data-toc-modified-id=\"Ciência-dos-Materiais-3.6\"><span class=\"toc-item-num\">3.6&nbsp;&nbsp;</span>Ciência dos Materiais</a></span></li><li><span><a href=\"#Controle-e-Automação\" data-toc-modified-id=\"Controle-e-Automação-3.7\"><span class=\"toc-item-num\">3.7&nbsp;&nbsp;</span>Controle e Automação</a></span></li><li><span><a href=\"#Engenharia-Econômica\" data-toc-modified-id=\"Engenharia-Econômica-3.8\"><span class=\"toc-item-num\">3.8&nbsp;&nbsp;</span>Engenharia Econômica</a></span></li></ul></li><li><span><a href=\"#Exercícios-Propostos\" data-toc-modified-id=\"Exercícios-Propostos-4\"><span class=\"toc-item-num\">4&nbsp;&nbsp;</span>Exercícios Propostos</a></span></li></ul></div>"
   ]
  },
  {
   "cell_type": "markdown",
   "metadata": {
    "slideshow": {
     "slide_type": "-"
    }
   },
   "source": [
    "## Introdução"
   ]
  },
  {
   "cell_type": "markdown",
   "metadata": {
    "slideshow": {
     "slide_type": "slide"
    }
   },
   "source": [
    "### Sobre o autor\n",
    "\n",
    "Possui graduação em Engenharia Mecânica pela Pontifícia Universidade Católica do Rio Grande do Sul (2013) e Mestrado em Engenharia e Tecnologia de Materiais pela mesma instituição. Atualmente atua como doutorando no Laboratório de Simulação de Escoamentos Turbulentos, Escola Politécnica da PUCRS. Possui experiencia em mecânica dos fluidos computacional, simulação numérica direta, simulação de grandes escalas, fenômenos de transporte, programação, programação paralela e métodos numéricos.\n",
    "\n",
    "> **Felipe Nornberg Schuch**,<br>\n",
    "> Laboratório de Simulação de Escoamentos Turbulentos (LaSET),<br>\n",
    "> Escola Politécnica, Pontifícia Universidade Católica do Rio Grande do Sul.<br>\n",
    "> felipe.schuch@edu.pucrs.br"
   ]
  },
  {
   "cell_type": "markdown",
   "metadata": {},
   "source": [
    "### Sobre o material"
   ]
  },
  {
   "cell_type": "markdown",
   "metadata": {},
   "source": [
    "### Porque Python? [ref](https://www.hostgator.com.br/blog/10-motivos-para-voce-aprender-python/)\n",
    "\n",
    "1. Simples e fácil de aprender\n",
    "2. Portátil e Extensível\n",
    "3. Desenvolvimento Web\n",
    "4. Inteligência Artificial\n",
    "5. Computação Gráfica\n",
    "6. Enquadramento de Testes\n",
    "7. Big Data\n",
    "8. Scripting e Automação\n",
    "9. Ciência de Dados\n",
    "10. Popularidade"
   ]
  },
  {
   "cell_type": "markdown",
   "metadata": {},
   "source": [
    "### Porque Jupyter Notebooks?\n",
    "\n",
    "* [Markdown quick reference](https://en.support.wordpress.com/markdown-quick-reference/)\n",
    "* [Jupyter tools to increase productivity](https://towardsdatascience.com/jupyter-tools-to-increase-productivity-7b3c6b90be09)\n",
    "* [LaTeX/Mathematics](https://en.wikibooks.org/wiki/LaTeX/Mathematics)"
   ]
  },
  {
   "cell_type": "markdown",
   "metadata": {},
   "source": [
    "### Material Complementar\n",
    "\n",
    "* [12 Steps to Navier-Stokes](https://github.com/barbagroup/CFDPython)\n",
    "* [An example machine learning notebook](https://nbviewer.jupyter.org/github/rhiever/Data-Analysis-and-Machine-Learning-Projects/blob/master/example-data-science-notebook/Example%2520Machine%2520Learning%2520Notebook.ipynb)\n",
    "* [Mythbusters Demo GPU versus CPU](https://www.youtube.com/watch?v=-P28LKWTzrI)"
   ]
  },
  {
   "cell_type": "markdown",
   "metadata": {},
   "source": [
    "## Revisão"
   ]
  },
  {
   "cell_type": "code",
   "execution_count": 1,
   "metadata": {},
   "outputs": [
    {
     "name": "stdout",
     "output_type": "stream",
     "text": [
      "Olá mundo\n"
     ]
    }
   ],
   "source": [
    "'''\n",
    "Isso é um comentário\n",
    "'''\n",
    "\n",
    "print(\"Olá mundo\")\n",
    "\n",
    "# Isso também é um comentário"
   ]
  },
  {
   "cell_type": "markdown",
   "metadata": {},
   "source": [
    "### Módulos\n",
    "\n",
    "### Classes\n",
    "\n",
    "### Dicionários\n",
    "\n",
    "* [Dictionaries in Python](https://realpython.com/python-dicts/)"
   ]
  },
  {
   "cell_type": "markdown",
   "metadata": {},
   "source": [
    "### Principais Bibliotecas"
   ]
  },
  {
   "cell_type": "markdown",
   "metadata": {},
   "source": [
    "####  SciPy\n",
    "\n",
    "![SciPy](https://www.scipy.org/_static/images/scipy_med.png \"SciPy\")\n",
    "\n",
    "Ferramentas de computação científica para Python. SciPy refere-se a várias entidades relacionadas, mas distintas:\n",
    "\n",
    "* O ecossistema SciPy, uma coleção de software de código aberto para computação científica em Python.\n",
    "* A comunidade de pessoas que usam e desenvolvem essa biblioteca.\n",
    "* Várias conferências dedicadas à computação científica em Python - SciPy, EuroSciPy e SciPy.in.\n",
    "* Fazem parte da família os pacotes, que serão melhor descritos a seguir:\n",
    "  * Numpy\n",
    "  * Matplotlib\n",
    "  * Sympy\n",
    "  * IPython\n",
    "  * Pandas\n",
    "* Além disso, a própria biblioteca SciPy, um componente do conjunto SciPy, fornecendo muitas rotinas numéricas:\n",
    "  * Funções especiais\n",
    "  * Integração numérica\n",
    "  * Diferenciação numérica\n",
    "  * Otimização\n",
    "  * Interpolação\n",
    "  * Transformada de Fourier\n",
    "  * Processamento de sinal\n",
    "  * Algebra linear e Algebra linear esparsa\n",
    "  * Problema de autovalor esparso com ARPACK\n",
    "  * Algoritmos e estruturas de dados espaciais\n",
    "  * Estatistica\n",
    "  * Processamento de imagem multidimensional\n",
    "  * I/O de arquivos\n",
    "  \n",
    "Material complementar:\n",
    "* [SciPy](https://www.scipy.org/)\n",
    "* [Getting Started](https://www.scipy.org/getting-started.html)\n",
    "* [Scipy Lecture Notes](http://scipy-lectures.org/index.html)"
   ]
  },
  {
   "cell_type": "markdown",
   "metadata": {},
   "source": [
    "####  Numpy\n",
    "\n",
    "![Numpy](https://www.scipy.org/_static/images/numpylogo_med.png \"Numpy\")\n",
    "\n",
    "Numpy é um pacote fundamental para a computação científica em Python. Entre outras coisas, destaca-se:\n",
    "* Objetos em arranjos N-dimensionais\n",
    "* Funções sofisticadas\n",
    "* Ferramentas para integrar código C/C++ e Fortran\n",
    "* Conveniente álgebra linear, transformada de Fourier e capacidade de números aleatórios\n",
    "\n",
    "Além de seus usos científicos óbvios, o NumPy também pode ser usado como um contêiner multidimensional eficiente de dados genéricos. Tipos de dados arbitrários podem ser definidos. Isso permite que o NumPy integre-se de forma fácil e rápida a uma ampla variedade de bancos de dados.\n",
    "\n",
    "#### Exemplos"
   ]
  },
  {
   "cell_type": "code",
   "execution_count": 2,
   "metadata": {},
   "outputs": [],
   "source": [
    "import numpy as np # Importando a biblioteca numpy e definindo-a com o codnome de np"
   ]
  },
  {
   "cell_type": "code",
   "execution_count": 3,
   "metadata": {
    "scrolled": true
   },
   "outputs": [
    {
     "name": "stdout",
     "output_type": "stream",
     "text": [
      "arange([start,] stop[, step,], dtype=None)\n",
      "\n",
      "    Return evenly spaced values within a given interval.\n",
      "\n",
      "    Values are generated within the half-open interval ``[start, stop)``\n",
      "    (in other words, the interval including `start` but excluding `stop`).\n",
      "    For integer arguments the function is equivalent to the Python built-in\n",
      "    `range` function, but returns an ndarray rather than a list.\n",
      "\n",
      "    When using a non-integer step, such as 0.1, the results will often not\n",
      "    be consistent.  It is better to use `numpy.linspace` for these cases.\n",
      "\n",
      "    Parameters\n",
      "    ----------\n",
      "    start : number, optional\n",
      "        Start of interval.  The interval includes this value.  The default\n",
      "        start value is 0.\n",
      "    stop : number\n",
      "        End of interval.  The interval does not include this value, except\n",
      "        in some cases where `step` is not an integer and floating point\n",
      "        round-off affects the length of `out`.\n",
      "    step : number, optional\n",
      "        Spacing between values.  For any output `out`, this is the distance\n",
      "        between two adjacent values, ``out[i+1] - out[i]``.  The default\n",
      "        step size is 1.  If `step` is specified as a position argument,\n",
      "        `start` must also be given.\n",
      "    dtype : dtype\n",
      "        The type of the output array.  If `dtype` is not given, infer the data\n",
      "        type from the other input arguments.\n",
      "\n",
      "    Returns\n",
      "    -------\n",
      "    arange : ndarray\n",
      "        Array of evenly spaced values.\n",
      "\n",
      "        For floating point arguments, the length of the result is\n",
      "        ``ceil((stop - start)/step)``.  Because of floating point overflow,\n",
      "        this rule may result in the last element of `out` being greater\n",
      "        than `stop`.\n",
      "\n",
      "    See Also\n",
      "    --------\n",
      "    linspace : Evenly spaced numbers with careful handling of endpoints.\n",
      "    ogrid: Arrays of evenly spaced numbers in N-dimensions.\n",
      "    mgrid: Grid-shaped arrays of evenly spaced numbers in N-dimensions.\n",
      "\n",
      "    Examples\n",
      "    --------\n",
      "    >>> np.arange(3)\n",
      "    array([0, 1, 2])\n",
      "    >>> np.arange(3.0)\n",
      "    array([ 0.,  1.,  2.])\n",
      "    >>> np.arange(3,7)\n",
      "    array([3, 4, 5, 6])\n",
      "    >>> np.arange(3,7,2)\n",
      "    array([3, 5])\n"
     ]
    }
   ],
   "source": [
    "print(np.arange.__doc__) # É sempre possível checar a documentação de uma dada função"
   ]
  },
  {
   "cell_type": "code",
   "execution_count": 4,
   "metadata": {},
   "outputs": [],
   "source": [
    "a = np.arange(15).reshape(3, 5) # Criando um arranjo com 15 elementos e o redimensionando para o formato 3x5"
   ]
  },
  {
   "cell_type": "code",
   "execution_count": 5,
   "metadata": {},
   "outputs": [
    {
     "data": {
      "text/plain": [
       "array([[ 0,  1,  2,  3,  4],\n",
       "       [ 5,  6,  7,  8,  9],\n",
       "       [10, 11, 12, 13, 14]])"
      ]
     },
     "execution_count": 5,
     "metadata": {},
     "output_type": "execute_result"
    }
   ],
   "source": [
    "a # Escrevendo a"
   ]
  },
  {
   "cell_type": "code",
   "execution_count": 6,
   "metadata": {},
   "outputs": [
    {
     "data": {
      "text/plain": [
       "(3, 5)"
      ]
     },
     "execution_count": 6,
     "metadata": {},
     "output_type": "execute_result"
    }
   ],
   "source": [
    "a.shape # Verificando as dimensões do arranjo"
   ]
  },
  {
   "cell_type": "code",
   "execution_count": 7,
   "metadata": {},
   "outputs": [
    {
     "data": {
      "text/plain": [
       "2"
      ]
     },
     "execution_count": 7,
     "metadata": {},
     "output_type": "execute_result"
    }
   ],
   "source": [
    "a.ndim # O número de dimensões"
   ]
  },
  {
   "cell_type": "code",
   "execution_count": 8,
   "metadata": {},
   "outputs": [
    {
     "data": {
      "text/plain": [
       "'int64'"
      ]
     },
     "execution_count": 8,
     "metadata": {},
     "output_type": "execute_result"
    }
   ],
   "source": [
    "a.dtype.name # Classificação quando ao tipo dos elementos"
   ]
  },
  {
   "cell_type": "code",
   "execution_count": 9,
   "metadata": {},
   "outputs": [
    {
     "data": {
      "text/plain": [
       "8"
      ]
     },
     "execution_count": 9,
     "metadata": {},
     "output_type": "execute_result"
    }
   ],
   "source": [
    "a.itemsize # Tamanho em bytes de cada elemento"
   ]
  },
  {
   "cell_type": "code",
   "execution_count": 10,
   "metadata": {},
   "outputs": [
    {
     "data": {
      "text/plain": [
       "15"
      ]
     },
     "execution_count": 10,
     "metadata": {},
     "output_type": "execute_result"
    }
   ],
   "source": [
    "a.size # Número total de elementos no arranjo"
   ]
  },
  {
   "cell_type": "code",
   "execution_count": 11,
   "metadata": {},
   "outputs": [
    {
     "data": {
      "text/plain": [
       "numpy.ndarray"
      ]
     },
     "execution_count": 11,
     "metadata": {},
     "output_type": "execute_result"
    }
   ],
   "source": [
    "type(a)"
   ]
  },
  {
   "cell_type": "code",
   "execution_count": 12,
   "metadata": {},
   "outputs": [
    {
     "name": "stdout",
     "output_type": "stream",
     "text": [
      "=============== zeros ===============\n",
      "\n",
      "zeros(shape, dtype=float, order='C')\n",
      "\n",
      "    Return a new array of given shape and type, filled with zeros.\n",
      "\n",
      "    Parameters\n",
      "    ----------\n",
      "    shape : int or tuple of ints\n",
      "        Shape of the new array, e.g., ``(2, 3)`` or ``2``.\n",
      "    dtype : data-type, optional\n",
      "        The desired data-type for the array, e.g., `numpy.int8`.  Default is\n",
      "        `numpy.float64`.\n",
      "    order : {'C', 'F'}, optional, default: 'C'\n",
      "        Whether to store multi-dimensional data in row-major\n",
      "        (C-style) or column-major (Fortran-style) order in\n",
      "        memory.\n",
      "\n",
      "    Returns\n",
      "    -------\n",
      "    out : ndarray\n",
      "        Array of zeros with the given shape, dtype, and order.\n",
      "\n",
      "    See Also\n",
      "    --------\n",
      "    zeros_like : Return an array of zeros with shape and type of input.\n",
      "    empty : Return a new uninitialized array.\n",
      "    ones : Return a new array setting values to one.\n",
      "    full : Return a new array of given shape filled with value.\n",
      "\n",
      "    Examples\n",
      "    --------\n",
      "    >>> np.zeros(5)\n",
      "    array([ 0.,  0.,  0.,  0.,  0.])\n",
      "\n",
      "    >>> np.zeros((5,), dtype=int)\n",
      "    array([0, 0, 0, 0, 0])\n",
      "\n",
      "    >>> np.zeros((2, 1))\n",
      "    array([[ 0.],\n",
      "           [ 0.]])\n",
      "\n",
      "    >>> s = (2,2)\n",
      "    >>> np.zeros(s)\n",
      "    array([[ 0.,  0.],\n",
      "           [ 0.,  0.]])\n",
      "\n",
      "    >>> np.zeros((2,), dtype=[('x', 'i4'), ('y', 'i4')]) # custom dtype\n",
      "    array([(0, 0), (0, 0)],\n",
      "          dtype=[('x', '<i4'), ('y', '<i4')])\n",
      "\n",
      "=============== zeros_like ===============\n",
      "\n",
      "\n",
      "    Return an array of zeros with the same shape and type as a given array.\n",
      "\n",
      "    Parameters\n",
      "    ----------\n",
      "    a : array_like\n",
      "        The shape and data-type of `a` define these same attributes of\n",
      "        the returned array.\n",
      "    dtype : data-type, optional\n",
      "        Overrides the data type of the result.\n",
      "\n",
      "        .. versionadded:: 1.6.0\n",
      "    order : {'C', 'F', 'A', or 'K'}, optional\n",
      "        Overrides the memory layout of the result. 'C' means C-order,\n",
      "        'F' means F-order, 'A' means 'F' if `a` is Fortran contiguous,\n",
      "        'C' otherwise. 'K' means match the layout of `a` as closely\n",
      "        as possible.\n",
      "\n",
      "        .. versionadded:: 1.6.0\n",
      "    subok : bool, optional.\n",
      "        If True, then the newly created array will use the sub-class\n",
      "        type of 'a', otherwise it will be a base-class array. Defaults\n",
      "        to True.\n",
      "\n",
      "    Returns\n",
      "    -------\n",
      "    out : ndarray\n",
      "        Array of zeros with the same shape and type as `a`.\n",
      "\n",
      "    See Also\n",
      "    --------\n",
      "    empty_like : Return an empty array with shape and type of input.\n",
      "    ones_like : Return an array of ones with shape and type of input.\n",
      "    full_like : Return a new array with shape of input filled with value.\n",
      "    zeros : Return a new array setting values to zero.\n",
      "\n",
      "    Examples\n",
      "    --------\n",
      "    >>> x = np.arange(6)\n",
      "    >>> x = x.reshape((2, 3))\n",
      "    >>> x\n",
      "    array([[0, 1, 2],\n",
      "           [3, 4, 5]])\n",
      "    >>> np.zeros_like(x)\n",
      "    array([[0, 0, 0],\n",
      "           [0, 0, 0]])\n",
      "\n",
      "    >>> y = np.arange(3, dtype=float)\n",
      "    >>> y\n",
      "    array([ 0.,  1.,  2.])\n",
      "    >>> np.zeros_like(y)\n",
      "    array([ 0.,  0.,  0.])\n",
      "\n",
      "    \n",
      "\n",
      "=============== ones ===============\n",
      "\n",
      "\n",
      "    Return a new array of given shape and type, filled with ones.\n",
      "\n",
      "    Parameters\n",
      "    ----------\n",
      "    shape : int or sequence of ints\n",
      "        Shape of the new array, e.g., ``(2, 3)`` or ``2``.\n",
      "    dtype : data-type, optional\n",
      "        The desired data-type for the array, e.g., `numpy.int8`.  Default is\n",
      "        `numpy.float64`.\n",
      "    order : {'C', 'F'}, optional, default: C\n",
      "        Whether to store multi-dimensional data in row-major\n",
      "        (C-style) or column-major (Fortran-style) order in\n",
      "        memory.\n",
      "\n",
      "    Returns\n",
      "    -------\n",
      "    out : ndarray\n",
      "        Array of ones with the given shape, dtype, and order.\n",
      "\n",
      "    See Also\n",
      "    --------\n",
      "    ones_like : Return an array of ones with shape and type of input.\n",
      "    empty : Return a new uninitialized array.\n",
      "    zeros : Return a new array setting values to zero.\n",
      "    full : Return a new array of given shape filled with value.\n",
      "\n",
      "\n",
      "    Examples\n",
      "    --------\n",
      "    >>> np.ones(5)\n",
      "    array([ 1.,  1.,  1.,  1.,  1.])\n",
      "\n",
      "    >>> np.ones((5,), dtype=int)\n",
      "    array([1, 1, 1, 1, 1])\n",
      "\n",
      "    >>> np.ones((2, 1))\n",
      "    array([[ 1.],\n",
      "           [ 1.]])\n",
      "\n",
      "    >>> s = (2,2)\n",
      "    >>> np.ones(s)\n",
      "    array([[ 1.,  1.],\n",
      "           [ 1.,  1.]])\n",
      "\n",
      "    \n",
      "\n",
      "=============== linspace ===============\n",
      "\n",
      "\n",
      "    Return evenly spaced numbers over a specified interval.\n",
      "\n",
      "    Returns `num` evenly spaced samples, calculated over the\n",
      "    interval [`start`, `stop`].\n",
      "\n",
      "    The endpoint of the interval can optionally be excluded.\n",
      "\n",
      "    .. versionchanged:: 1.16.0\n",
      "        Non-scalar `start` and `stop` are now supported.\n",
      "\n",
      "    Parameters\n",
      "    ----------\n",
      "    start : array_like\n",
      "        The starting value of the sequence.\n",
      "    stop : array_like\n",
      "        The end value of the sequence, unless `endpoint` is set to False.\n",
      "        In that case, the sequence consists of all but the last of ``num + 1``\n",
      "        evenly spaced samples, so that `stop` is excluded.  Note that the step\n",
      "        size changes when `endpoint` is False.\n",
      "    num : int, optional\n",
      "        Number of samples to generate. Default is 50. Must be non-negative.\n",
      "    endpoint : bool, optional\n",
      "        If True, `stop` is the last sample. Otherwise, it is not included.\n",
      "        Default is True.\n",
      "    retstep : bool, optional\n",
      "        If True, return (`samples`, `step`), where `step` is the spacing\n",
      "        between samples.\n",
      "    dtype : dtype, optional\n",
      "        The type of the output array.  If `dtype` is not given, infer the data\n",
      "        type from the other input arguments.\n",
      "\n",
      "        .. versionadded:: 1.9.0\n",
      "\n",
      "    axis : int, optional\n",
      "        The axis in the result to store the samples.  Relevant only if start\n",
      "        or stop are array-like.  By default (0), the samples will be along a\n",
      "        new axis inserted at the beginning. Use -1 to get an axis at the end.\n",
      "\n",
      "        .. versionadded:: 1.16.0\n",
      "\n",
      "    Returns\n",
      "    -------\n",
      "    samples : ndarray\n",
      "        There are `num` equally spaced samples in the closed interval\n",
      "        ``[start, stop]`` or the half-open interval ``[start, stop)``\n",
      "        (depending on whether `endpoint` is True or False).\n",
      "    step : float, optional\n",
      "        Only returned if `retstep` is True\n",
      "\n",
      "        Size of spacing between samples.\n",
      "\n",
      "\n",
      "    See Also\n",
      "    --------\n",
      "    arange : Similar to `linspace`, but uses a step size (instead of the\n",
      "             number of samples).\n",
      "    geomspace : Similar to `linspace`, but with numbers spaced evenly on a log\n",
      "                scale (a geometric progression).\n",
      "    logspace : Similar to `geomspace`, but with the end points specified as\n",
      "               logarithms.\n",
      "\n",
      "    Examples\n",
      "    --------\n",
      "    >>> np.linspace(2.0, 3.0, num=5)\n",
      "    array([ 2.  ,  2.25,  2.5 ,  2.75,  3.  ])\n",
      "    >>> np.linspace(2.0, 3.0, num=5, endpoint=False)\n",
      "    array([ 2. ,  2.2,  2.4,  2.6,  2.8])\n",
      "    >>> np.linspace(2.0, 3.0, num=5, retstep=True)\n",
      "    (array([ 2.  ,  2.25,  2.5 ,  2.75,  3.  ]), 0.25)\n",
      "\n",
      "    Graphical illustration:\n",
      "\n",
      "    >>> import matplotlib.pyplot as plt\n",
      "    >>> N = 8\n",
      "    >>> y = np.zeros(N)\n",
      "    >>> x1 = np.linspace(0, 10, N, endpoint=True)\n",
      "    >>> x2 = np.linspace(0, 10, N, endpoint=False)\n",
      "    >>> plt.plot(x1, y, 'o')\n",
      "    [<matplotlib.lines.Line2D object at 0x...>]\n",
      "    >>> plt.plot(x2, y + 0.5, 'o')\n",
      "    [<matplotlib.lines.Line2D object at 0x...>]\n",
      "    >>> plt.ylim([-0.5, 1])\n",
      "    (-0.5, 1)\n",
      "    >>> plt.show()\n",
      "\n",
      "    \n",
      "\n"
     ]
    }
   ],
   "source": [
    "# outras funções que merecem destaque:\n",
    "for f in [np.zeros, np.zeros_like, np.ones, np.linspace]:\n",
    "    print('=============== '+f.__name__+' ===============\\n')\n",
    "    print(f.__doc__+'\\n')"
   ]
  },
  {
   "cell_type": "markdown",
   "metadata": {},
   "source": [
    "* [NumPy](https://www.numpy.org/)\n",
    "* [Quickstart tutorial](https://www.numpy.org/devdocs/user/quickstart.html)"
   ]
  },
  {
   "cell_type": "markdown",
   "metadata": {},
   "source": [
    "####  Pandas\n",
    "\n",
    "![Pandas](https://www.scipy.org/_static/images/pandas_badge2.jpg \"Pandas\")\n",
    "\n",
    "####  Matplotlib\n",
    "\n",
    "![Matplotlib](https://www.scipy.org/_static/images/matplotlib_med.png \"Matplotlib\")\n",
    "\n",
    "* [Style sheets reference](https://matplotlib.org/3.1.0/gallery/style_sheets/style_sheets_reference.html)\n",
    "* [Gallery](https://matplotlib.org/3.1.0/gallery/index.html)\n",
    "\n",
    "####  Bokeh\n",
    "\n",
    " ![Bokeh](https://bokeh.pydata.org/en/latest/_static/images/logo.png \"Bokeh\")\n",
    "\n",
    "O Bokeh é uma biblioteca de visualização interativa para Python que permite uma apresentação visual de dados bonita e significativa em navegadores modernos. Com o Bokeh, você pode criar, de maneira rápida e fácil, plotagens interativas, painéis e aplicativos de dados.\n",
    "\n",
    "O Bokeh fornece uma maneira elegante e concisa de construir gráficos versáteis e, ao mesmo tempo, oferecer interatividade de alto desempenho para conjuntos de dados grandes ou em fluxo.\n",
    "\n",
    "* [Tutorial](https://mybinder.org/v2/gh/bokeh/bokeh-notebooks/master?filepath=tutorial%2F00%20-%20Introduction%20and%20Setup.ipynb)\n",
    "* [Gallery](https://bokeh.pydata.org/en/latest/docs/gallery.html)"
   ]
  },
  {
   "cell_type": "markdown",
   "metadata": {},
   "source": [
    "### Boas práticas em programação"
   ]
  },
  {
   "cell_type": "markdown",
   "metadata": {},
   "source": [
    "### Fortran vs. Python"
   ]
  },
  {
   "cell_type": "markdown",
   "metadata": {},
   "source": [
    "É preciso criar o arquivo `escreve_sin_cos.f90`\n",
    "```fortran\n",
    "program escreve_sin_cos\n",
    "\n",
    "    implicit none\n",
    "    \n",
    "    !Declarar variáveis\n",
    "    integer :: i, nx\n",
    "    real(4) :: xi, xf, dx\n",
    "    real(4), allocatable, dimension(:) :: x, sinx, cosx\n",
    "\n",
    "    nx=200\n",
    "    xi = 0.\n",
    "    xf = 3.14\n",
    "\n",
    "    !Alocar variáveis\n",
    "    allocate(x(nx), sinx(nx), cosx(nx))\n",
    "\n",
    "    !Calcular\n",
    "    dx = (xi-xf)/(nx-1)\n",
    "    do i=1, nx\n",
    "        x(i) = real(i-1,4)*dx\n",
    "        sinx(i) = sin(x(i))\n",
    "        cosx(i) = cos(x(i))\n",
    "    end do\n",
    "\n",
    "    !Escrever em disco e abrir em outro\n",
    "    !programa para gerar imagens\n",
    "    open (1, file = \"teste.csv\")\n",
    "    do i=1, nx\n",
    "        write(1,*) x(i), sinx(i), cosx(i)\n",
    "    end do\n",
    "    close(1)\n",
    "    \n",
    "    !Encerrar programa\n",
    "end program escreve_sin_cos\n",
    "```\n",
    "\n",
    "Além de compilar\n",
    "\n",
    "`gfortran -o teste escreve_sin_cos.f90`,\n",
    "\n",
    "executar:\n",
    "\n",
    "`./teste`,\n",
    "\n",
    "e ainda processar o arquivo de saída `teste.csv` em outro software."
   ]
  },
  {
   "cell_type": "code",
   "execution_count": 1,
   "metadata": {},
   "outputs": [
    {
     "ename": "NameError",
     "evalue": "name 'np' is not defined",
     "output_type": "error",
     "traceback": [
      "\u001b[0;31m---------------------------------------------------------------------------\u001b[0m",
      "\u001b[0;31mNameError\u001b[0m                                 Traceback (most recent call last)",
      "\u001b[0;32m<ipython-input-1-841eb067f2ee>\u001b[0m in \u001b[0;36m<module>\u001b[0;34m\u001b[0m\n\u001b[0;32m----> 1\u001b[0;31m \u001b[0mx\u001b[0m \u001b[0;34m=\u001b[0m \u001b[0mnp\u001b[0m\u001b[0;34m.\u001b[0m\u001b[0mlinspace\u001b[0m\u001b[0;34m(\u001b[0m\u001b[0;36m0.\u001b[0m\u001b[0;34m,\u001b[0m \u001b[0;36m2\u001b[0m\u001b[0;34m*\u001b[0m\u001b[0mnp\u001b[0m\u001b[0;34m.\u001b[0m\u001b[0mpi\u001b[0m\u001b[0;34m,\u001b[0m \u001b[0mnum\u001b[0m\u001b[0;34m=\u001b[0m\u001b[0;36m200\u001b[0m\u001b[0;34m,\u001b[0m \u001b[0mendpoint\u001b[0m\u001b[0;34m=\u001b[0m\u001b[0;32mTrue\u001b[0m\u001b[0;34m)\u001b[0m\u001b[0;34m\u001b[0m\u001b[0;34m\u001b[0m\u001b[0m\n\u001b[0m\u001b[1;32m      2\u001b[0m \u001b[0;34m\u001b[0m\u001b[0m\n\u001b[1;32m      3\u001b[0m \u001b[0msinx\u001b[0m \u001b[0;34m=\u001b[0m \u001b[0mnp\u001b[0m\u001b[0;34m.\u001b[0m\u001b[0msin\u001b[0m\u001b[0;34m(\u001b[0m\u001b[0mx\u001b[0m\u001b[0;34m)\u001b[0m\u001b[0;34m\u001b[0m\u001b[0;34m\u001b[0m\u001b[0m\n\u001b[1;32m      4\u001b[0m \u001b[0mcosx\u001b[0m \u001b[0;34m=\u001b[0m \u001b[0mnp\u001b[0m\u001b[0;34m.\u001b[0m\u001b[0mcos\u001b[0m\u001b[0;34m(\u001b[0m\u001b[0mx\u001b[0m\u001b[0;34m)\u001b[0m\u001b[0;34m\u001b[0m\u001b[0;34m\u001b[0m\u001b[0m\n\u001b[1;32m      5\u001b[0m \u001b[0;34m\u001b[0m\u001b[0m\n",
      "\u001b[0;31mNameError\u001b[0m: name 'np' is not defined"
     ]
    }
   ],
   "source": [
    "x = np.linspace(0., 2*np.pi, num=200, endpoint=True)\n",
    "\n",
    "sinx = np.sin(x)\n",
    "cosx = np.cos(x)\n",
    "\n",
    "plt.plot(x, sinx, label='sin')\n",
    "plt.plot(x, cosx, label='sin')\n",
    "\n",
    "plt.legend()\n",
    "plt.show()"
   ]
  },
  {
   "cell_type": "code",
   "execution_count": 81,
   "metadata": {},
   "outputs": [
    {
     "data": {
      "image/png": "[encoded data removed]",
      "text/plain": [
       "<Figure size 432x288 with 1 Axes>"
      ]
     },
     "metadata": {
      "needs_background": "light"
     },
     "output_type": "display_data"
    }
   ],
   "source": [
    "x = np.linspace(0., 2*np.pi, num=200, endpoint=True)\n",
    "\n",
    "for f in [np.sin, np.cos]:\n",
    "    plt.plot(x, f(x), label=f.__name__)\n",
    "    \n",
    "plt.legend()\n",
    "plt.show()"
   ]
  },
  {
   "cell_type": "code",
   "execution_count": 82,
   "metadata": {},
   "outputs": [],
   "source": [
    "del x, f"
   ]
  },
  {
   "cell_type": "markdown",
   "metadata": {},
   "source": [
    "## Exercícios Resolvidos"
   ]
  },
  {
   "cell_type": "code",
   "execution_count": 1,
   "metadata": {},
   "outputs": [],
   "source": [
    "import numpy as np\n",
    "import scipy as sp\n",
    "import sympy as sm\n",
    "import bokeh as bk\n",
    "import pandas as pd\n",
    "import matplotlib.pyplot as plt\n",
    "\n",
    "sm.init_printing()"
   ]
  },
  {
   "cell_type": "markdown",
   "metadata": {},
   "source": [
    "### Métodos Numéricos"
   ]
  },
  {
   "cell_type": "markdown",
   "metadata": {},
   "source": [
    "### Transferência de Calor"
   ]
  },
  {
   "cell_type": "markdown",
   "metadata": {},
   "source": [
    "#### 1D Radiação + Convecção"
   ]
  },
  {
   "cell_type": "code",
   "execution_count": 33,
   "metadata": {},
   "outputs": [],
   "source": [
    "k, t1, t2, l, epsi, sigma, tviz, too, h = sm.symbols(\"k t_1 t_2 L \\epsilon \\sigma t_{viz} t_\\infty h\")"
   ]
  },
  {
   "cell_type": "code",
   "execution_count": 34,
   "metadata": {},
   "outputs": [
    {
     "data": {
      "image/png": "[encoded data removed]",
      "text/latex": [
       "$$\\frac{k \\left(t_{1} - t_{2}\\right)}{L} = \\epsilon \\sigma \\left(t_{2}^{4.0} - t_{viz}^{4.0}\\right) + h \\left(t_{2} - t_\\infty\\right)$$"
      ],
      "text/plain": [
       "k⋅(t₁ - t₂)                   ⎛  4.0          4.0⎞                    \n",
       "─────────── = \\epsilon⋅\\sigma⋅⎝t₂    - t_{viz}   ⎠ + h⋅(t₂ - t_\\infty)\n",
       "     L                                                                "
      ]
     },
     "execution_count": 34,
     "metadata": {},
     "output_type": "execute_result"
    }
   ],
   "source": [
    "eq1 = sm.Eq(k*(t1-t2)/l,epsi*sigma*(t2**4.-tviz**4.)+h*(t2-too))\n",
    "eq1"
   ]
  },
  {
   "cell_type": "code",
   "execution_count": 39,
   "metadata": {},
   "outputs": [
    {
     "name": "stdout",
     "output_type": "stream",
     "text": [
      "\n",
      "        Substitutes old for new in an expression after sympifying args.\n",
      "\n",
      "        `args` is either:\n",
      "          - two arguments, e.g. foo.subs(old, new)\n",
      "          - one iterable argument, e.g. foo.subs(iterable). The iterable may be\n",
      "             o an iterable container with (old, new) pairs. In this case the\n",
      "               replacements are processed in the order given with successive\n",
      "               patterns possibly affecting replacements already made.\n",
      "             o a dict or set whose key/value items correspond to old/new pairs.\n",
      "               In this case the old/new pairs will be sorted by op count and in\n",
      "               case of a tie, by number of args and the default_sort_key. The\n",
      "               resulting sorted list is then processed as an iterable container\n",
      "               (see previous).\n",
      "\n",
      "        If the keyword ``simultaneous`` is True, the subexpressions will not be\n",
      "        evaluated until all the substitutions have been made.\n",
      "\n",
      "        Examples\n",
      "        ========\n",
      "\n",
      "        >>> from sympy import pi, exp, limit, oo\n",
      "        >>> from sympy.abc import x, y\n",
      "        >>> (1 + x*y).subs(x, pi)\n",
      "        pi*y + 1\n",
      "        >>> (1 + x*y).subs({x:pi, y:2})\n",
      "        1 + 2*pi\n",
      "        >>> (1 + x*y).subs([(x, pi), (y, 2)])\n",
      "        1 + 2*pi\n",
      "        >>> reps = [(y, x**2), (x, 2)]\n",
      "        >>> (x + y).subs(reps)\n",
      "        6\n",
      "        >>> (x + y).subs(reversed(reps))\n",
      "        x**2 + 2\n",
      "\n",
      "        >>> (x**2 + x**4).subs(x**2, y)\n",
      "        y**2 + y\n",
      "\n",
      "        To replace only the x**2 but not the x**4, use xreplace:\n",
      "\n",
      "        >>> (x**2 + x**4).xreplace({x**2: y})\n",
      "        x**4 + y\n",
      "\n",
      "        To delay evaluation until all substitutions have been made,\n",
      "        set the keyword ``simultaneous`` to True:\n",
      "\n",
      "        >>> (x/y).subs([(x, 0), (y, 0)])\n",
      "        0\n",
      "        >>> (x/y).subs([(x, 0), (y, 0)], simultaneous=True)\n",
      "        nan\n",
      "\n",
      "        This has the added feature of not allowing subsequent substitutions\n",
      "        to affect those already made:\n",
      "\n",
      "        >>> ((x + y)/y).subs({x + y: y, y: x + y})\n",
      "        1\n",
      "        >>> ((x + y)/y).subs({x + y: y, y: x + y}, simultaneous=True)\n",
      "        y/(x + y)\n",
      "\n",
      "        In order to obtain a canonical result, unordered iterables are\n",
      "        sorted by count_op length, number of arguments and by the\n",
      "        default_sort_key to break any ties. All other iterables are left\n",
      "        unsorted.\n",
      "\n",
      "        >>> from sympy import sqrt, sin, cos\n",
      "        >>> from sympy.abc import a, b, c, d, e\n",
      "\n",
      "        >>> A = (sqrt(sin(2*x)), a)\n",
      "        >>> B = (sin(2*x), b)\n",
      "        >>> C = (cos(2*x), c)\n",
      "        >>> D = (x, d)\n",
      "        >>> E = (exp(x), e)\n",
      "\n",
      "        >>> expr = sqrt(sin(2*x))*sin(exp(x)*x)*cos(2*x) + sin(2*x)\n",
      "\n",
      "        >>> expr.subs(dict([A, B, C, D, E]))\n",
      "        a*c*sin(d*e) + b\n",
      "\n",
      "        The resulting expression represents a literal replacement of the\n",
      "        old arguments with the new arguments. This may not reflect the\n",
      "        limiting behavior of the expression:\n",
      "\n",
      "        >>> (x**3 - 3*x).subs({x: oo})\n",
      "        nan\n",
      "\n",
      "        >>> limit(x**3 - 3*x, x, oo)\n",
      "        oo\n",
      "\n",
      "        If the substitution will be followed by numerical\n",
      "        evaluation, it is better to pass the substitution to\n",
      "        evalf as\n",
      "\n",
      "        >>> (1/x).evalf(subs={x: 3.0}, n=21)\n",
      "        0.333333333333333333333\n",
      "\n",
      "        rather than\n",
      "\n",
      "        >>> (1/x).subs({x: 3.0}).evalf(21)\n",
      "        0.333333333333333314830\n",
      "\n",
      "        as the former will ensure that the desired level of precision is\n",
      "        obtained.\n",
      "\n",
      "        See Also\n",
      "        ========\n",
      "        replace: replacement capable of doing wildcard-like matching,\n",
      "                 parsing of match, and conditional replacements\n",
      "        xreplace: exact node replacement in expr tree; also capable of\n",
      "                  using matching rules\n",
      "        evalf: calculates the given formula to a desired level of precision\n",
      "\n",
      "        \n"
     ]
    }
   ],
   "source": [
    "print(eq1.subs.__doc__)"
   ]
  },
  {
   "cell_type": "code",
   "execution_count": 42,
   "metadata": {},
   "outputs": [
    {
     "data": {
      "image/png": "[encoded data removed]",
      "text/latex": [
       "$$- 1.0 t_{2} = 1.0 t_{2} + 1.0 t_{2}^{4.0} - 2.0$$"
      ],
      "text/plain": [
       "                         4.0      \n",
       "-1.0⋅t₂ = 1.0⋅t₂ + 1.0⋅t₂    - 2.0"
      ]
     },
     "execution_count": 42,
     "metadata": {},
     "output_type": "execute_result"
    }
   ],
   "source": [
    "dic = {k: 1., t1: 0., l: 1., epsi: 1., sigma: 1., tviz: 1., too: 1., h: 1.}\n",
    "eq1.subs(dic)"
   ]
  },
  {
   "cell_type": "code",
   "execution_count": 44,
   "metadata": {},
   "outputs": [
    {
     "name": "stdout",
     "output_type": "stream",
     "text": [
      "\n",
      "    Algebraically solves equations and systems of equations.\n",
      "\n",
      "    Currently supported are:\n",
      "        - polynomial,\n",
      "        - transcendental\n",
      "        - piecewise combinations of the above\n",
      "        - systems of linear and polynomial equations\n",
      "        - systems containing relational expressions.\n",
      "\n",
      "    Input is formed as:\n",
      "\n",
      "    * f\n",
      "        - a single Expr or Poly that must be zero,\n",
      "        - an Equality\n",
      "        - a Relational expression or boolean\n",
      "        - iterable of one or more of the above\n",
      "\n",
      "    * symbols (object(s) to solve for) specified as\n",
      "        - none given (other non-numeric objects will be used)\n",
      "        - single symbol\n",
      "        - denested list of symbols\n",
      "          e.g. solve(f, x, y)\n",
      "        - ordered iterable of symbols\n",
      "          e.g. solve(f, [x, y])\n",
      "\n",
      "    * flags\n",
      "        'dict'=True (default is False)\n",
      "            return list (perhaps empty) of solution mappings\n",
      "        'set'=True (default is False)\n",
      "            return list of symbols and set of tuple(s) of solution(s)\n",
      "        'exclude=[] (default)'\n",
      "            don't try to solve for any of the free symbols in exclude;\n",
      "            if expressions are given, the free symbols in them will\n",
      "            be extracted automatically.\n",
      "        'check=True (default)'\n",
      "            If False, don't do any testing of solutions. This can be\n",
      "            useful if one wants to include solutions that make any\n",
      "            denominator zero.\n",
      "        'numerical=True (default)'\n",
      "            do a fast numerical check if ``f`` has only one symbol.\n",
      "        'minimal=True (default is False)'\n",
      "            a very fast, minimal testing.\n",
      "        'warn=True (default is False)'\n",
      "            show a warning if checksol() could not conclude.\n",
      "        'simplify=True (default)'\n",
      "            simplify all but polynomials of order 3 or greater before\n",
      "            returning them and (if check is not False) use the\n",
      "            general simplify function on the solutions and the\n",
      "            expression obtained when they are substituted into the\n",
      "            function which should be zero\n",
      "        'force=True (default is False)'\n",
      "            make positive all symbols without assumptions regarding sign.\n",
      "        'rational=True (default)'\n",
      "            recast Floats as Rational; if this option is not used, the\n",
      "            system containing floats may fail to solve because of issues\n",
      "            with polys. If rational=None, Floats will be recast as\n",
      "            rationals but the answer will be recast as Floats. If the\n",
      "            flag is False then nothing will be done to the Floats.\n",
      "        'manual=True (default is False)'\n",
      "            do not use the polys/matrix method to solve a system of\n",
      "            equations, solve them one at a time as you might \"manually\"\n",
      "        'implicit=True (default is False)'\n",
      "            allows solve to return a solution for a pattern in terms of\n",
      "            other functions that contain that pattern; this is only\n",
      "            needed if the pattern is inside of some invertible function\n",
      "            like cos, exp, ....\n",
      "        'particular=True (default is False)'\n",
      "            instructs solve to try to find a particular solution to a linear\n",
      "            system with as many zeros as possible; this is very expensive\n",
      "        'quick=True (default is False)'\n",
      "            when using particular=True, use a fast heuristic instead to find a\n",
      "            solution with many zeros (instead of using the very slow method\n",
      "            guaranteed to find the largest number of zeros possible)\n",
      "        'cubics=True (default)'\n",
      "            return explicit solutions when cubic expressions are encountered\n",
      "        'quartics=True (default)'\n",
      "            return explicit solutions when quartic expressions are encountered\n",
      "        'quintics=True (default)'\n",
      "            return explicit solutions (if possible) when quintic expressions\n",
      "            are encountered\n",
      "\n",
      "    Examples\n",
      "    ========\n",
      "\n",
      "    The output varies according to the input and can be seen by example::\n",
      "\n",
      "        >>> from sympy import solve, Poly, Eq, Function, exp\n",
      "        >>> from sympy.abc import x, y, z, a, b\n",
      "        >>> f = Function('f')\n",
      "\n",
      "    * boolean or univariate Relational\n",
      "\n",
      "        >>> solve(x < 3)\n",
      "        (-oo < x) & (x < 3)\n",
      "\n",
      "\n",
      "    * to always get a list of solution mappings, use flag dict=True\n",
      "\n",
      "        >>> solve(x - 3, dict=True)\n",
      "        [{x: 3}]\n",
      "        >>> sol = solve([x - 3, y - 1], dict=True)\n",
      "        >>> sol\n",
      "        [{x: 3, y: 1}]\n",
      "        >>> sol[0][x]\n",
      "        3\n",
      "        >>> sol[0][y]\n",
      "        1\n",
      "\n",
      "\n",
      "    * to get a list of symbols and set of solution(s) use flag set=True\n",
      "\n",
      "        >>> solve([x**2 - 3, y - 1], set=True)\n",
      "        ([x, y], {(-sqrt(3), 1), (sqrt(3), 1)})\n",
      "\n",
      "\n",
      "    * single expression and single symbol that is in the expression\n",
      "\n",
      "        >>> solve(x - y, x)\n",
      "        [y]\n",
      "        >>> solve(x - 3, x)\n",
      "        [3]\n",
      "        >>> solve(Eq(x, 3), x)\n",
      "        [3]\n",
      "        >>> solve(Poly(x - 3), x)\n",
      "        [3]\n",
      "        >>> solve(x**2 - y**2, x, set=True)\n",
      "        ([x], {(-y,), (y,)})\n",
      "        >>> solve(x**4 - 1, x, set=True)\n",
      "        ([x], {(-1,), (1,), (-I,), (I,)})\n",
      "\n",
      "    * single expression with no symbol that is in the expression\n",
      "\n",
      "        >>> solve(3, x)\n",
      "        []\n",
      "        >>> solve(x - 3, y)\n",
      "        []\n",
      "\n",
      "    * single expression with no symbol given\n",
      "\n",
      "          In this case, all free symbols will be selected as potential\n",
      "          symbols to solve for. If the equation is univariate then a list\n",
      "          of solutions is returned; otherwise -- as is the case when symbols are\n",
      "          given as an iterable of length > 1 -- a list of mappings will be returned.\n",
      "\n",
      "            >>> solve(x - 3)\n",
      "            [3]\n",
      "            >>> solve(x**2 - y**2)\n",
      "            [{x: -y}, {x: y}]\n",
      "            >>> solve(z**2*x**2 - z**2*y**2)\n",
      "            [{x: -y}, {x: y}, {z: 0}]\n",
      "            >>> solve(z**2*x - z**2*y**2)\n",
      "            [{x: y**2}, {z: 0}]\n",
      "\n",
      "    * when an object other than a Symbol is given as a symbol, it is\n",
      "      isolated algebraically and an implicit solution may be obtained.\n",
      "      This is mostly provided as a convenience to save one from replacing\n",
      "      the object with a Symbol and solving for that Symbol. It will only\n",
      "      work if the specified object can be replaced with a Symbol using the\n",
      "      subs method.\n",
      "\n",
      "          >>> solve(f(x) - x, f(x))\n",
      "          [x]\n",
      "          >>> solve(f(x).diff(x) - f(x) - x, f(x).diff(x))\n",
      "          [x + f(x)]\n",
      "          >>> solve(f(x).diff(x) - f(x) - x, f(x))\n",
      "          [-x + Derivative(f(x), x)]\n",
      "          >>> solve(x + exp(x)**2, exp(x), set=True)\n",
      "          ([exp(x)], {(-sqrt(-x),), (sqrt(-x),)})\n",
      "\n",
      "          >>> from sympy import Indexed, IndexedBase, Tuple, sqrt\n",
      "          >>> A = IndexedBase('A')\n",
      "          >>> eqs = Tuple(A[1] + A[2] - 3, A[1] - A[2] + 1)\n",
      "          >>> solve(eqs, eqs.atoms(Indexed))\n",
      "          {A[1]: 1, A[2]: 2}\n",
      "\n",
      "        * To solve for a *symbol* implicitly, use 'implicit=True':\n",
      "\n",
      "            >>> solve(x + exp(x), x)\n",
      "            [-LambertW(1)]\n",
      "            >>> solve(x + exp(x), x, implicit=True)\n",
      "            [-exp(x)]\n",
      "\n",
      "        * It is possible to solve for anything that can be targeted with\n",
      "          subs:\n",
      "\n",
      "            >>> solve(x + 2 + sqrt(3), x + 2)\n",
      "            [-sqrt(3)]\n",
      "            >>> solve((x + 2 + sqrt(3), x + 4 + y), y, x + 2)\n",
      "            {y: -2 + sqrt(3), x + 2: -sqrt(3)}\n",
      "\n",
      "        * Nothing heroic is done in this implicit solving so you may end up\n",
      "          with a symbol still in the solution:\n",
      "\n",
      "            >>> eqs = (x*y + 3*y + sqrt(3), x + 4 + y)\n",
      "            >>> solve(eqs, y, x + 2)\n",
      "            {y: -sqrt(3)/(x + 3), x + 2: (-2*x - 6 + sqrt(3))/(x + 3)}\n",
      "            >>> solve(eqs, y*x, x)\n",
      "            {x: -y - 4, x*y: -3*y - sqrt(3)}\n",
      "\n",
      "        * if you attempt to solve for a number remember that the number\n",
      "          you have obtained does not necessarily mean that the value is\n",
      "          equivalent to the expression obtained:\n",
      "\n",
      "            >>> solve(sqrt(2) - 1, 1)\n",
      "            [sqrt(2)]\n",
      "            >>> solve(x - y + 1, 1)  # /!\\ -1 is targeted, too\n",
      "            [x/(y - 1)]\n",
      "            >>> [_.subs(z, -1) for _ in solve((x - y + 1).subs(-1, z), 1)]\n",
      "            [-x + y]\n",
      "\n",
      "        * To solve for a function within a derivative, use dsolve.\n",
      "\n",
      "    * single expression and more than 1 symbol\n",
      "\n",
      "        * when there is a linear solution\n",
      "\n",
      "            >>> solve(x - y**2, x, y)\n",
      "            [(y**2, y)]\n",
      "            >>> solve(x**2 - y, x, y)\n",
      "            [(x, x**2)]\n",
      "            >>> solve(x**2 - y, x, y, dict=True)\n",
      "            [{y: x**2}]\n",
      "\n",
      "        * when undetermined coefficients are identified\n",
      "\n",
      "            * that are linear\n",
      "\n",
      "                >>> solve((a + b)*x - b + 2, a, b)\n",
      "                {a: -2, b: 2}\n",
      "\n",
      "            * that are nonlinear\n",
      "\n",
      "                >>> solve((a + b)*x - b**2 + 2, a, b, set=True)\n",
      "                ([a, b], {(-sqrt(2), sqrt(2)), (sqrt(2), -sqrt(2))})\n",
      "\n",
      "        * if there is no linear solution then the first successful\n",
      "          attempt for a nonlinear solution will be returned\n",
      "\n",
      "            >>> solve(x**2 - y**2, x, y, dict=True)\n",
      "            [{x: -y}, {x: y}]\n",
      "            >>> solve(x**2 - y**2/exp(x), x, y, dict=True)\n",
      "            [{x: 2*LambertW(y/2)}]\n",
      "            >>> solve(x**2 - y**2/exp(x), y, x)\n",
      "            [(-x*sqrt(exp(x)), x), (x*sqrt(exp(x)), x)]\n",
      "\n",
      "    * iterable of one or more of the above\n",
      "\n",
      "        * involving relationals or bools\n",
      "\n",
      "            >>> solve([x < 3, x - 2])\n",
      "            Eq(x, 2)\n",
      "            >>> solve([x > 3, x - 2])\n",
      "            False\n",
      "\n",
      "        * when the system is linear\n",
      "\n",
      "            * with a solution\n",
      "\n",
      "                >>> solve([x - 3], x)\n",
      "                {x: 3}\n",
      "                >>> solve((x + 5*y - 2, -3*x + 6*y - 15), x, y)\n",
      "                {x: -3, y: 1}\n",
      "                >>> solve((x + 5*y - 2, -3*x + 6*y - 15), x, y, z)\n",
      "                {x: -3, y: 1}\n",
      "                >>> solve((x + 5*y - 2, -3*x + 6*y - z), z, x, y)\n",
      "                {x: -5*y + 2, z: 21*y - 6}\n",
      "\n",
      "            * without a solution\n",
      "\n",
      "                >>> solve([x + 3, x - 3])\n",
      "                []\n",
      "\n",
      "        * when the system is not linear\n",
      "\n",
      "            >>> solve([x**2 + y -2, y**2 - 4], x, y, set=True)\n",
      "            ([x, y], {(-2, -2), (0, 2), (2, -2)})\n",
      "\n",
      "        * if no symbols are given, all free symbols will be selected and a list\n",
      "          of mappings returned\n",
      "\n",
      "            >>> solve([x - 2, x**2 + y])\n",
      "            [{x: 2, y: -4}]\n",
      "            >>> solve([x - 2, x**2 + f(x)], {f(x), x})\n",
      "            [{x: 2, f(x): -4}]\n",
      "\n",
      "        * if any equation doesn't depend on the symbol(s) given it will be\n",
      "          eliminated from the equation set and an answer may be given\n",
      "          implicitly in terms of variables that were not of interest\n",
      "\n",
      "            >>> solve([x - y, y - 3], x)\n",
      "            {x: y}\n",
      "\n",
      "    Notes\n",
      "    =====\n",
      "\n",
      "    solve() with check=True (default) will run through the symbol tags to\n",
      "    elimate unwanted solutions.  If no assumptions are included all possible\n",
      "    solutions will be returned.\n",
      "\n",
      "        >>> from sympy import Symbol, solve\n",
      "        >>> x = Symbol(\"x\")\n",
      "        >>> solve(x**2 - 1)\n",
      "        [-1, 1]\n",
      "\n",
      "    By using the positive tag only one solution will be returned:\n",
      "\n",
      "        >>> pos = Symbol(\"pos\", positive=True)\n",
      "        >>> solve(pos**2 - 1)\n",
      "        [1]\n",
      "\n",
      "\n",
      "    Assumptions aren't checked when `solve()` input involves\n",
      "    relationals or bools.\n",
      "\n",
      "    When the solutions are checked, those that make any denominator zero\n",
      "    are automatically excluded. If you do not want to exclude such solutions\n",
      "    then use the check=False option:\n",
      "\n",
      "        >>> from sympy import sin, limit\n",
      "        >>> solve(sin(x)/x)  # 0 is excluded\n",
      "        [pi]\n",
      "\n",
      "    If check=False then a solution to the numerator being zero is found: x = 0.\n",
      "    In this case, this is a spurious solution since sin(x)/x has the well known\n",
      "    limit (without dicontinuity) of 1 at x = 0:\n",
      "\n",
      "        >>> solve(sin(x)/x, check=False)\n",
      "        [0, pi]\n",
      "\n",
      "    In the following case, however, the limit exists and is equal to the\n",
      "    value of x = 0 that is excluded when check=True:\n",
      "\n",
      "        >>> eq = x**2*(1/x - z**2/x)\n",
      "        >>> solve(eq, x)\n",
      "        []\n",
      "        >>> solve(eq, x, check=False)\n",
      "        [0]\n",
      "        >>> limit(eq, x, 0, '-')\n",
      "        0\n",
      "        >>> limit(eq, x, 0, '+')\n",
      "        0\n",
      "\n",
      "    Disabling high-order, explicit solutions\n",
      "    ----------------------------------------\n",
      "\n",
      "    When solving polynomial expressions, one might not want explicit solutions\n",
      "    (which can be quite long). If the expression is univariate, CRootOf\n",
      "    instances will be returned instead:\n",
      "\n",
      "        >>> solve(x**3 - x + 1)\n",
      "        [-1/((-1/2 - sqrt(3)*I/2)*(3*sqrt(69)/2 + 27/2)**(1/3)) - (-1/2 -\n",
      "        sqrt(3)*I/2)*(3*sqrt(69)/2 + 27/2)**(1/3)/3, -(-1/2 +\n",
      "        sqrt(3)*I/2)*(3*sqrt(69)/2 + 27/2)**(1/3)/3 - 1/((-1/2 +\n",
      "        sqrt(3)*I/2)*(3*sqrt(69)/2 + 27/2)**(1/3)), -(3*sqrt(69)/2 +\n",
      "        27/2)**(1/3)/3 - 1/(3*sqrt(69)/2 + 27/2)**(1/3)]\n",
      "        >>> solve(x**3 - x + 1, cubics=False)\n",
      "        [CRootOf(x**3 - x + 1, 0),\n",
      "         CRootOf(x**3 - x + 1, 1),\n",
      "         CRootOf(x**3 - x + 1, 2)]\n",
      "\n",
      "        If the expression is multivariate, no solution might be returned:\n",
      "\n",
      "        >>> solve(x**3 - x + a, x, cubics=False)\n",
      "        []\n",
      "\n",
      "    Sometimes solutions will be obtained even when a flag is False because the\n",
      "    expression could be factored. In the following example, the equation can\n",
      "    be factored as the product of a linear and a quadratic factor so explicit\n",
      "    solutions (which did not require solving a cubic expression) are obtained:\n",
      "\n",
      "        >>> eq = x**3 + 3*x**2 + x - 1\n",
      "        >>> solve(eq, cubics=False)\n",
      "        [-1, -1 + sqrt(2), -sqrt(2) - 1]\n",
      "\n",
      "    Solving equations involving radicals\n",
      "    ------------------------------------\n",
      "\n",
      "    Because of SymPy's use of the principle root (issue #8789), some solutions\n",
      "    to radical equations will be missed unless check=False:\n",
      "\n",
      "        >>> from sympy import root\n",
      "        >>> eq = root(x**3 - 3*x**2, 3) + 1 - x\n",
      "        >>> solve(eq)\n",
      "        []\n",
      "        >>> solve(eq, check=False)\n",
      "        [1/3]\n",
      "\n",
      "    In the above example there is only a single solution to the\n",
      "    equation. Other expressions will yield spurious roots which\n",
      "    must be checked manually; roots which give a negative argument\n",
      "    to odd-powered radicals will also need special checking:\n",
      "\n",
      "        >>> from sympy import real_root, S\n",
      "        >>> eq = root(x, 3) - root(x, 5) + S(1)/7\n",
      "        >>> solve(eq)  # this gives 2 solutions but misses a 3rd\n",
      "        [CRootOf(7*_p**5 - 7*_p**3 + 1, 1)**15,\n",
      "        CRootOf(7*_p**5 - 7*_p**3 + 1, 2)**15]\n",
      "        >>> sol = solve(eq, check=False)\n",
      "        >>> [abs(eq.subs(x,i).n(2)) for i in sol]\n",
      "        [0.48, 0.e-110, 0.e-110, 0.052, 0.052]\n",
      "\n",
      "        The first solution is negative so real_root must be used to see\n",
      "        that it satisfies the expression:\n",
      "\n",
      "        >>> abs(real_root(eq.subs(x, sol[0])).n(2))\n",
      "        0.e-110\n",
      "\n",
      "    If the roots of the equation are not real then more care will be\n",
      "    necessary to find the roots, especially for higher order equations.\n",
      "    Consider the following expression:\n",
      "\n",
      "        >>> expr = root(x, 3) - root(x, 5)\n",
      "\n",
      "    We will construct a known value for this expression at x = 3 by selecting\n",
      "    the 1-th root for each radical:\n",
      "\n",
      "        >>> expr1 = root(x, 3, 1) - root(x, 5, 1)\n",
      "        >>> v = expr1.subs(x, -3)\n",
      "\n",
      "    The solve function is unable to find any exact roots to this equation:\n",
      "\n",
      "        >>> eq = Eq(expr, v); eq1 = Eq(expr1, v)\n",
      "        >>> solve(eq, check=False), solve(eq1, check=False)\n",
      "        ([], [])\n",
      "\n",
      "    The function unrad, however, can be used to get a form of the equation for\n",
      "    which numerical roots can be found:\n",
      "\n",
      "        >>> from sympy.solvers.solvers import unrad\n",
      "        >>> from sympy import nroots\n",
      "        >>> e, (p, cov) = unrad(eq)\n",
      "        >>> pvals = nroots(e)\n",
      "        >>> inversion = solve(cov, x)[0]\n",
      "        >>> xvals = [inversion.subs(p, i) for i in pvals]\n",
      "\n",
      "    Although eq or eq1 could have been used to find xvals, the solution can\n",
      "    only be verified with expr1:\n",
      "\n",
      "        >>> z = expr - v\n",
      "        >>> [xi.n(chop=1e-9) for xi in xvals if abs(z.subs(x, xi).n()) < 1e-9]\n",
      "        []\n",
      "        >>> z1 = expr1 - v\n",
      "        >>> [xi.n(chop=1e-9) for xi in xvals if abs(z1.subs(x, xi).n()) < 1e-9]\n",
      "        [-3.0]\n",
      "\n",
      "    See Also\n",
      "    ========\n",
      "\n",
      "        - rsolve() for solving recurrence relationships\n",
      "        - dsolve() for solving differential equations\n",
      "\n",
      "    \n"
     ]
    }
   ],
   "source": [
    "print(sm.solve.__doc__)"
   ]
  },
  {
   "cell_type": "code",
   "execution_count": 55,
   "metadata": {},
   "outputs": [],
   "source": [
    "sol = sm.solve(eq1.subs(dic), t2)"
   ]
  },
  {
   "cell_type": "code",
   "execution_count": 69,
   "metadata": {},
   "outputs": [
    {
     "name": "stdout",
     "output_type": "stream",
     "text": [
      "0.797623109794516\n"
     ]
    }
   ],
   "source": [
    "for val in sol:\n",
    "    if val.is_real:\n",
    "        if val.is_positive:\n",
    "            print(val)  "
   ]
  },
  {
   "cell_type": "code",
   "execution_count": 32,
   "metadata": {},
   "outputs": [],
   "source": [
    "del k, t1, t2, l, epsi, sigma, tviz, too, h, eq1, dic, sol"
   ]
  },
  {
   "cell_type": "markdown",
   "metadata": {},
   "source": [
    "### 2D(t)\n",
    "\n",
    "Uma placa de alumínio de $40cm \\times 40cm$ inicialmente possui temperatura em toda a sua extensão igual a $0^oC$. Instantaneamente , suas bordas são levadas às temperaturas de $75^oC$ em $x=0$; $50^oC$ em $x=40cm$; $0^oC$ em $y=0$ e $100^oC$ em $y=40$. A difusividade térmica do alumínio é $0,835cm^2/s$. Escolha um $\\Delta t$ adequado com o critério de estabilidade para formulação explícita e calcule a evolução da temperatura para a posição central da placa até o tempo de $400s$. Para o tempo de $200s$ apresente o perfil de temperatura em todos os pontos discretos do domínio, usando $\\Delta x=4cm$., dt=4\n",
    "\n",
    "Equação bidimensional:\n",
    "\n",
    "\\begin{equation}\n",
    "\\alpha \\left( \\dfrac{\\partial ^2 T}{\\partial x^2} + \\dfrac{\\partial ^2 T}{\\partial y^2} \\right) =\\dfrac{\\partial T}{\\partial t}\n",
    "\\end{equation}\n",
    "\n",
    "Discretizando com a derivada segunda numa representação por diferença central e a derivada primeira com diferença ascendente:\n",
    "\n",
    "\\begin{equation}\n",
    "\\dfrac{T^{n+1}_{l,j}-T^{n}_{l,j}}{\\Delta t}=\\alpha \\left[ \\dfrac{T^{n}_{l-1,j}-2T^{n}_{l,j}+T^{n}_{l+1,j}}{(\\Delta x)^2} +\\dfrac{T^{n}_{l,j-1}-2T^{n}_{l,j}+T^{n}_{l,j+1}}{(\\Delta y)^2}  \\right]\n",
    "\\end{equation}"
   ]
  },
  {
   "cell_type": "code",
   "execution_count": 123,
   "metadata": {},
   "outputs": [],
   "source": [
    "x = np.linspace(0., 40., num=11, endpoint=True)\n",
    "y = np.linspace(0., 40., num=11, endpoint=True)\n",
    "t = np.linspace(0., 400., num=101, endpoint=True)\n",
    "\n",
    "a =0.835\n",
    "\n",
    "T = np.zeros((x.size,y.size,t.size))\n",
    "\n",
    "T[0,:,:] = 75.\n",
    "T[-1,:,:] = 50.\n",
    "T[:,0,:] = 0.\n",
    "T[:,-1,:] = 100."
   ]
  },
  {
   "cell_type": "code",
   "execution_count": 124,
   "metadata": {},
   "outputs": [],
   "source": [
    "dt = t[1]-t[0]\n",
    "dx2 = (x[1]-x[0])**2.\n",
    "dy2 = (y[1]-y[0])**2.\n",
    "for n in range(t.size-1):\n",
    "    for i in range(1,x.size-1):\n",
    "        for j in range(1,y.size-1):\n",
    "            T[i,j,n+1] = dt*a*((T[i-1,j,n]-2.*T[i,j,n]+T[i+1,j,n])/dx2+(T[i,j-1,n]-2.*T[i,j,n]+T[i,j+1,n])/dy2)+T[i,j,n]"
   ]
  },
  {
   "cell_type": "code",
   "execution_count": 137,
   "metadata": {},
   "outputs": [
    {
     "data": {
      "image/png": "[encoded data removed]",
      "text/plain": [
       "<Figure size 432x288 with 5 Axes>"
      ]
     },
     "metadata": {
      "needs_background": "light"
     },
     "output_type": "display_data"
    }
   ],
   "source": [
    "#Adicionar subplot\n",
    "fig, ax = plt.subplots(nrows=1, ncols=5, sharex=True, sharey=True)\n",
    "\n",
    "for i, n in enumerate(T[:,:,::25].T):\n",
    "    ax[i].imshow(n)\n",
    "    ax[i].set_title('t={}'.format(t[i*25]))\n",
    "    \n",
    "plt.show()"
   ]
  },
  {
   "cell_type": "code",
   "execution_count": 141,
   "metadata": {
    "scrolled": true
   },
   "outputs": [
    {
     "data": {
      "image/png": "[encoded data removed]",
      "text/plain": [
       "<Figure size 432x288 with 1 Axes>"
      ]
     },
     "metadata": {
      "needs_background": "light"
     },
     "output_type": "display_data"
    }
   ],
   "source": [
    "plt.plot(t, T[5,5,:])\n",
    "plt.title('Evolução da temperatura no centro da placa')\n",
    "plt.xlabel('t')\n",
    "plt.ylabel('T')\n",
    "plt.show()"
   ]
  },
  {
   "cell_type": "code",
   "execution_count": 120,
   "metadata": {},
   "outputs": [],
   "source": [
    "del T, x, y, t, a, dx2, dy2, dt, i, n"
   ]
  },
  {
   "cell_type": "markdown",
   "metadata": {},
   "source": [
    "#### Convecção / Difusão\n",
    "\n",
    "Resolver a EDP\n",
    "\n",
    "\\begin{eqnarray*}\n",
    "&\\dfrac{\\partial T}{\\partial t}+u\\dfrac{\\partial T}{\\partial x}=\\alpha \\dfrac{\\partial^2 T}{\\partial x^2} \\ \\ \\ \\ \\ 0\\leq x \\leq 1 ; 0\\leq t \\leq 8\\\\\n",
    "&T(0,t)=T(1,t)=0\\\\\n",
    "&T(x,0)=  \\left\\{ \\begin{tabular}{c l}\n",
    "$1-(10x-1)^2$ & se $0\\leq x \\leq 0,2$\\\\\n",
    "0 & se $0.2 < x \\leq 1$\n",
    "\\end{tabular}\n",
    "\\right.\n",
    "\\end{eqnarray*}\n",
    "\n",
    "\\begin{equation}\n",
    "\\dfrac{T_{i,j+1}-T_{i,j}}{\\Delta t}=\\alpha \\dfrac{T_{i-1,j}-2T_{i,j}+T_{i+1,j}}{(\\Delta x)^2} -u\\dfrac{T_{i+1,j}-T_{i-1,j}}{2\\Delta x}\n",
    "\\end{equation}"
   ]
  },
  {
   "cell_type": "code",
   "execution_count": 251,
   "metadata": {},
   "outputs": [],
   "source": [
    "import scipy.sparse as sps\n",
    "\n",
    "x = np.linspace(0., 1, num=101, endpoint=True)\n",
    "t = np.linspace(0., 8., num=8001, endpoint=True)\n",
    "\n",
    "visu = 2000.\n",
    "alpha = 0.001\n",
    "u = 0.08\n",
    "\n",
    "T = np.zeros((x.size))\n",
    "for i, ival in enumerate(x):\n",
    "    if ival > 0.2:\n",
    "        break\n",
    "    T[i] = 1. - (10. * ival - 1)**2.\n",
    "\n",
    "dx = (x[-1]-x[0])/(x.size-1)\n",
    "dt = (t[-1]-t[0])/(t.size-1)\n",
    "\n",
    "Dx = sps.diags([-1., 0., 1.],\n",
    "              offsets=[-1, 0, 1],\n",
    "              shape=(x.size,x.size)\n",
    "              ).toarray()\n",
    "\n",
    "Dx2 = sps.diags([1., -2., 1.],\n",
    "              offsets=[-1, 0, 1],\n",
    "              shape=(x.size,x.size)\n",
    "               ).toarray()\n",
    "\n",
    "for D in [Dx, Dx2]:\n",
    "    D[0,:] = 0.\n",
    "    D[-1,:] = 0.\n",
    "    \n",
    "A = dt*(alpha*Dx2/(dx)**2.-u*Dx/(2.*dx))"
   ]
  },
  {
   "cell_type": "code",
   "execution_count": 252,
   "metadata": {},
   "outputs": [
    {
     "data": {
      "image/png": "[encoded data removed]",
      "text/plain": [
       "<Figure size 432x288 with 1 Axes>"
      ]
     },
     "metadata": {
      "needs_background": "light"
     },
     "output_type": "display_data"
    }
   ],
   "source": [
    "plt.close('all')\n",
    "\n",
    "for n in range(t.size):\n",
    "    T += A.dot(T)\n",
    "    if n % visu == 0:\n",
    "        plt.plot(x, T, label='t={}'.format(t[n]))\n",
    "\n",
    "plt.xlabel('x')\n",
    "plt.ylabel('T(x)')\n",
    "plt.legend()\n",
    "plt.show()"
   ]
  },
  {
   "cell_type": "code",
   "execution_count": 253,
   "metadata": {},
   "outputs": [],
   "source": [
    "def convdiff(alpha, u):\n",
    "\n",
    "    T = np.zeros((x.size))\n",
    "    for i, ival in enumerate(x):\n",
    "        if ival > 0.2:\n",
    "            break\n",
    "        T[i] = 1. - (10. * ival - 1)**2.\n",
    "\n",
    "    A = dt*(alpha*Dx2/(dx)**2.-u*Dx/(2.*dx))\n",
    "    \n",
    "    return A, T"
   ]
  },
  {
   "cell_type": "code",
   "execution_count": 258,
   "metadata": {},
   "outputs": [
    {
     "data": {
      "image/png": "[encoded data removed]",
      "text/plain": [
       "<Figure size 432x288 with 9 Axes>"
      ]
     },
     "metadata": {
      "needs_background": "light"
     },
     "output_type": "display_data"
    }
   ],
   "source": [
    "fig, ax = plt.subplots(nrows=3, ncols=3, sharex=True, sharey=True)\n",
    "\n",
    "for i, alpha in enumerate([0., 0.0005, 0.001]):\n",
    "    for j, u in enumerate([0., 0.04, 0.08]):\n",
    "        A, T = convdiff(alpha, u)\n",
    "        for n in range(t.size):\n",
    "            T += A.dot(T)\n",
    "            if n % visu == 0:\n",
    "                ax[i,j].plot(x, T, label='t={}'.format(t[n]))\n",
    "                ax[-1,j].set_xlabel(r'$u = {}$'.format(u))\n",
    "                ax[i,0].set_ylabel(r'$\\alpha = {}$'.format(alpha))\n",
    "\n",
    "plt.show()"
   ]
  },
  {
   "cell_type": "markdown",
   "metadata": {},
   "source": [
    "### Mecânica dos Fluidos"
   ]
  },
  {
   "cell_type": "markdown",
   "metadata": {},
   "source": [
    "### Vibrações Mecânicas"
   ]
  },
  {
   "cell_type": "markdown",
   "metadata": {},
   "source": [
    "### Resistência dos Materiais"
   ]
  },
  {
   "cell_type": "markdown",
   "metadata": {},
   "source": [
    "### Ciência dos Materiais"
   ]
  },
  {
   "cell_type": "markdown",
   "metadata": {},
   "source": [
    "### Controle e Automação"
   ]
  },
  {
   "cell_type": "markdown",
   "metadata": {},
   "source": [
    "### Engenharia Econômica"
   ]
  },
  {
   "cell_type": "markdown",
   "metadata": {},
   "source": [
    "## Exercícios Propostos"
   ]
  },
  {
   "cell_type": "markdown",
   "metadata": {},
   "source": [
    "<img src=\"circuit.png\" width=\"480\">"
   ]
  },
  {
   "cell_type": "markdown",
   "metadata": {},
   "source": [
    "Pela primeira lei de Kirchhoff:\n",
    "\\begin{equation}\n",
    "    I_1 + I_2 - I_3 = 0\n",
    "\\end{equation}\n",
    "\n",
    "Pela segunda lei de Kirchhoff:\n",
    "\\begin{equation}\n",
    "R_4 I_1 + R_3 I_3 + R_1 I_1 = V_1\n",
    "\\end{equation}\n",
    "\\begin{equation}\n",
    "R_5 I_2 + R_3 I_3 + R_2 I_2 = V_2\n",
    "\\end{equation}"
   ]
  },
  {
   "cell_type": "code",
   "execution_count": 263,
   "metadata": {},
   "outputs": [],
   "source": [
    "r1, r2, r3, r4, r5 = 10., 22., 47., 22., 10.\n",
    "v1, v2 = 9., 9.\n",
    "\n",
    "A = [[1., 1., -1.],\n",
    "     [r1+r4, 0., r3],\n",
    "     [0., r2+r5, r3]]\n",
    "\n",
    "B = [0., v1, v2]\n",
    "\n"
   ]
  },
  {
   "cell_type": "code",
   "execution_count": 266,
   "metadata": {},
   "outputs": [],
   "source": [
    "I = np.linalg.solve(A,B)"
   ]
  },
  {
   "cell_type": "code",
   "execution_count": 270,
   "metadata": {},
   "outputs": [
    {
     "name": "stdout",
     "output_type": "stream",
     "text": [
      "I0 = 0.07142857142857144\n",
      "I1 = 0.07142857142857144\n",
      "I2 = 0.14285714285714285\n"
     ]
    }
   ],
   "source": [
    "for i, ival in enumerate(I):\n",
    "    print('I{} = {}'.format(i, ival))"
   ]
  },
  {
   "cell_type": "markdown",
   "metadata": {},
   "source": [
    "<img src=\"trelica.png\" width=\"640\">"
   ]
  },
  {
   "cell_type": "markdown",
   "metadata": {},
   "source": [
    "F1x\n",
    "F1y\n",
    "F4y\n",
    "F15\n",
    "F12\n",
    "F23\n",
    "F25\n",
    "F27\n",
    "F34\n",
    "F36\n",
    "F37\n",
    "F46\n",
    "F57\n",
    "F67\n",
    "\n",
    "SOHCAHTOA"
   ]
  },
  {
   "cell_type": "code",
   "execution_count": 3,
   "metadata": {},
   "outputs": [],
   "source": [
    "A = np.zeros((14, 14))\n",
    "B = np.zeros((14))"
   ]
  },
  {
   "cell_type": "markdown",
   "metadata": {},
   "source": [
    "\\begin{equation}\n",
    "  F_{1x} - F_{12} - \\cos(30^o) F_{15} = 0\\\\\n",
    "  F_{1y} - \\sin(30^o) F_{15} = 0 \\\\\n",
    "  F_{12} - F_{23} + \\cos(60^o) F_{25} - \\cos(60^o) F_{27} = 0 \\\\\n",
    "  - \\sin(60^o) F_{25} - \\sin(60^o) F_{27} = 0 \\\\\n",
    "  F_{23} - F_{34} + \\cos(60^o) F_{37} - \\cos(60^o) F_{36} = 0 \\\\\n",
    "  - \\sin(60^o) F_{37} - \\sin(60^o) F_{36} = 0 \\\\\n",
    "  F_{34} + \\cos(30^o) F_{46} = 0 \\\\\n",
    "  F_{4y} - \\sin(30^o) F_{46} = 0 \\\\\n",
    "  \\cos(30^o) F_{15} - \\cos(60^o) F_{25} - \\cos(30^o) F_{57} = 0 \\\\\n",
    "  \\sin(30^o) F_{15} + \\sin(60^o) F_{25} - \\sin(30^o) F_{57} - F_{5} = 0 \\\\\n",
    "   - \\cos(30^o) F_{46} + \\cos(60^o) F_{36} + \\cos(30^o) F_{67} = 0 \\\\\n",
    "  \\sin(30^o) F_{46} + \\sin(60^o) F_{36} - \\sin(30^o) F_{67} - F_{6} = 0 \\\\\n",
    "  \\cos(30^o) F_{57} + \\cos(60^o) F_{27} - \\cos(30^o) F_{67} - \\cos(60^o) F_{37} = 0 \\\\\n",
    "  \\sin(30^o) F_{57} + \\sin(60^o) F_{27} + \\sin(30^o) F_{67} + \\sin(60^o) F_{37} - F_7 = 0\n",
    "\\end{equation}"
   ]
  },
  {
   "cell_type": "code",
   "execution_count": 4,
   "metadata": {},
   "outputs": [],
   "source": [
    "angle = np.deg2rad(30.)\n",
    "F5 = 1.\n",
    "F6 = 1. \n",
    "F7 = 2.\n",
    "\n",
    "cos = np.cos(angle)\n",
    "sin = np.sin(angle)\n",
    "\n",
    "A[0,0] = 1.\n",
    "A[0,4] = -1.\n",
    "A[0,3] = -cos\n",
    "#\n",
    "A[1,1] = 1.\n",
    "A[1,3] = -sin\n",
    "#\n",
    "A[2,4] = 1.\n",
    "A[2,5] = -1.\n",
    "A[2,6] = sin\n",
    "A[2,7] = -sin\n",
    "#\n",
    "A[3,6] = -cos\n",
    "A[3,7] = -cos\n",
    "#\n",
    "A[4,5] = 1.\n",
    "A[4,8] = -1.\n",
    "A[4,10] = sin\n",
    "A[4,9] = -sin\n",
    "#\n",
    "A[5,10] = -cos\n",
    "A[5,9] = -cos\n",
    "#\n",
    "A[6,10] = 1.\n",
    "A[6,11] = cos\n",
    "#\n",
    "A[7,2] = 1.\n",
    "A[7,11] = -sin\n",
    "#\n",
    "A[8,3] = cos\n",
    "A[8,6] = -cos\n",
    "A[8,12] = -cos\n",
    "#\n",
    "A[9,3] = sin\n",
    "A[9,6] = cos\n",
    "A[9,12] = -sin\n",
    "B[9] = F5\n",
    "#\n",
    "A[10,11] = -cos\n",
    "A[10,9] = sin\n",
    "A[10,13] = cos\n",
    "#\n",
    "A[11,11] = sin\n",
    "A[11,9] = cos\n",
    "A[11,13] = -sin\n",
    "B[11] = F6\n",
    "#\n",
    "A[12,12] = cos\n",
    "A[12,7] = sin\n",
    "A[12,13] = -cos\n",
    "A[12,10] = -sin\n",
    "#\n",
    "A[13,12] = sin\n",
    "A[13,7] = cos\n",
    "A[13,13] = sin\n",
    "A[13,10] = cos\n",
    "B[13] = F7"
   ]
  },
  {
   "cell_type": "code",
   "execution_count": 6,
   "metadata": {},
   "outputs": [
    {
     "data": {
      "text/plain": [
       "array([[ 1.       ,  0.       ,  0.       , -0.8660254, -1.       ,\n",
       "         0.       ,  0.       ,  0.       ,  0.       ,  0.       ,\n",
       "         0.       ,  0.       ,  0.       ,  0.       ],\n",
       "       [ 0.       ,  1.       ,  0.       , -0.5      ,  0.       ,\n",
       "         0.       ,  0.       ,  0.       ,  0.       ,  0.       ,\n",
       "         0.       ,  0.       ,  0.       ,  0.       ],\n",
       "       [ 0.       ,  0.       ,  0.       ,  0.       ,  1.       ,\n",
       "        -1.       ,  0.5      , -0.5      ,  0.       ,  0.       ,\n",
       "         0.       ,  0.       ,  0.       ,  0.       ],\n",
       "       [ 0.       ,  0.       ,  0.       ,  0.       ,  0.       ,\n",
       "         0.       , -0.8660254, -0.8660254,  0.       ,  0.       ,\n",
       "         0.       ,  0.       ,  0.       ,  0.       ],\n",
       "       [ 0.       ,  0.       ,  0.       ,  0.       ,  0.       ,\n",
       "         1.       ,  0.       ,  0.       , -1.       , -0.5      ,\n",
       "         0.5      ,  0.       ,  0.       ,  0.       ],\n",
       "       [ 0.       ,  0.       ,  0.       ,  0.       ,  0.       ,\n",
       "         0.       ,  0.       ,  0.       ,  0.       , -0.8660254,\n",
       "        -0.8660254,  0.       ,  0.       ,  0.       ],\n",
       "       [ 0.       ,  0.       ,  0.       ,  0.       ,  0.       ,\n",
       "         0.       ,  0.       ,  0.       ,  0.       ,  0.       ,\n",
       "         1.       ,  0.8660254,  0.       ,  0.       ],\n",
       "       [ 0.       ,  0.       ,  1.       ,  0.       ,  0.       ,\n",
       "         0.       ,  0.       ,  0.       ,  0.       ,  0.       ,\n",
       "         0.       , -0.5      ,  0.       ,  0.       ],\n",
       "       [ 0.       ,  0.       ,  0.       ,  0.8660254,  0.       ,\n",
       "         0.       , -0.8660254,  0.       ,  0.       ,  0.       ,\n",
       "         0.       ,  0.       , -0.8660254,  0.       ],\n",
       "       [ 0.       ,  0.       ,  0.       ,  0.5      ,  0.       ,\n",
       "         0.       ,  0.8660254,  0.       ,  0.       ,  0.       ,\n",
       "         0.       ,  0.       , -0.5      ,  0.       ],\n",
       "       [ 0.       ,  0.       ,  0.       ,  0.       ,  0.       ,\n",
       "         0.       ,  0.       ,  0.       ,  0.       ,  0.5      ,\n",
       "         0.       , -0.8660254,  0.       ,  0.8660254],\n",
       "       [ 0.       ,  0.       ,  0.       ,  0.       ,  0.       ,\n",
       "         0.       ,  0.       ,  0.       ,  0.       ,  0.8660254,\n",
       "         0.       ,  0.5      ,  0.       , -0.5      ],\n",
       "       [ 0.       ,  0.       ,  0.       ,  0.       ,  0.       ,\n",
       "         0.       ,  0.       ,  0.5      ,  0.       ,  0.       ,\n",
       "        -0.5      ,  0.       ,  0.8660254, -0.8660254],\n",
       "       [ 0.       ,  0.       ,  0.       ,  0.       ,  0.       ,\n",
       "         0.       ,  0.       ,  0.8660254,  0.       ,  0.       ,\n",
       "         0.8660254,  0.       ,  0.5      ,  0.5      ]])"
      ]
     },
     "execution_count": 6,
     "metadata": {},
     "output_type": "execute_result"
    }
   ],
   "source": [
    "A"
   ]
  },
  {
   "cell_type": "code",
   "execution_count": 14,
   "metadata": {},
   "outputs": [],
   "source": [
    "#I = np.linalg.solve(A,B)\n",
    "from scipy.sparse.linalg import lsqr\n",
    "I = lsqr(A,B)[0]"
   ]
  },
  {
   "cell_type": "code",
   "execution_count": 15,
   "metadata": {},
   "outputs": [
    {
     "name": "stdout",
     "output_type": "stream",
     "text": [
      "0 F1x 1.8227936479979554\n",
      "1 F1y 1.312033222060418\n",
      "2 F4y 0.947988975953104\n",
      "3 F15 2.62406644412086\n",
      "4 F12 -0.44971455382896314\n",
      "5 F23 -0.25352684519228924\n",
      "6 F25 0.454834264497218\n",
      "7 F27 0.062458847223780936\n",
      "8 F34 -1.1195522489767031\n",
      "9 F36 0.8660254037844397\n",
      "10 F37 -0.8660254037844577\n",
      "11 F46 1.8959779519061988\n",
      "12 F57 1.9798897595310163\n",
      "13 F67 2.0679614158358604\n"
     ]
    }
   ],
   "source": [
    "for i, key in enumerate(['F1x','F1y','F4y','F15','F12','F23','F25','F27','F34','F36','F37','F46','F57','F67']):\n",
    "    print(i,key,I[i])"
   ]
  },
  {
   "cell_type": "code",
   "execution_count": 300,
   "metadata": {},
   "outputs": [],
   "source": [
    "l = 2. #[m]\n",
    "angle = np.deg2rad(30.)\n",
    "\n",
    "#T=O/A\n",
    "\n",
    "points = {'1': [0., 0.],\n",
    "          '2': [l, 0.],\n",
    "          '3': [2.*l, 0.],\n",
    "          '4': [3.*l, 0.],\n",
    "          '5': [.75*l, .75*l*np.tan(angle)],\n",
    "          '6': [2.25*l, .75*l*np.tan(angle)],\n",
    "          '7': [1.5*l, 1.5*l*np.tan(angle)]\n",
    "          }"
   ]
  },
  {
   "cell_type": "code",
   "execution_count": 302,
   "metadata": {},
   "outputs": [
    {
     "data": {
      "image/png": "[encoded data removed]",
      "text/plain": [
       "<Figure size 432x288 with 1 Axes>"
      ]
     },
     "metadata": {
      "needs_background": "light"
     },
     "output_type": "display_data"
    }
   ],
   "source": [
    "for key, p in points.items():\n",
    "    #print(key, p)\n",
    "    plt.scatter(p[0], p[1], label=key)\n",
    "#plt.legend()\n",
    "plt.show()"
   ]
  },
  {
   "cell_type": "code",
   "execution_count": null,
   "metadata": {},
   "outputs": [],
   "source": []
  }
 ],
 "metadata": {
  "celltoolbar": "Slideshow",
  "kernelspec": {
   "display_name": "Python 3",
   "language": "python",
   "name": "python3"
  },
  "language_info": {
   "codemirror_mode": {
    "name": "ipython",
    "version": 3
   },
   "file_extension": ".py",
   "mimetype": "text/x-python",
   "name": "python",
   "nbconvert_exporter": "python",
   "pygments_lexer": "ipython3",
   "version": "3.7.2"
  },
  "toc": {
   "base_numbering": 1,
   "nav_menu": {},
   "number_sections": true,
   "sideBar": true,
   "skip_h1_title": true,
   "title_cell": "Sumário",
   "title_sidebar": "Sumário",
   "toc_cell": true,
   "toc_position": {
    "height": "calc(100% - 180px)",
    "left": "10px",
    "top": "150px",
    "width": "334.6px"
   },
   "toc_section_display": true,
   "toc_window_display": true
  },
  "varInspector": {
   "cols": {
    "lenName": 16,
    "lenType": 16,
    "lenVar": 40
   },
   "kernels_config": {
    "python": {
     "delete_cmd_postfix": "",
     "delete_cmd_prefix": "del ",
     "library": "var_list.py",
     "varRefreshCmd": "print(var_dic_list())"
    },
    "r": {
     "delete_cmd_postfix": ") ",
     "delete_cmd_prefix": "rm(",
     "library": "var_list.r",
     "varRefreshCmd": "cat(var_dic_list()) "
    }
   },
   "oldHeight": 413.85,
   "position": {
    "height": "576.85px",
    "left": "1476px",
    "right": "20px",
    "top": "189px",
    "width": "342px"
   },
   "types_to_exclude": [
    "module",
    "function",
    "builtin_function_or_method",
    "instance",
    "_Feature"
   ],
   "varInspector_section_display": "block",
   "window_display": true
  }
 },
 "nbformat": 4,
 "nbformat_minor": 2
}
