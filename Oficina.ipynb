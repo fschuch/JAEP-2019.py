{
 "cells": [
  {
   "cell_type": "markdown",
   "metadata": {
    "slideshow": {
     "slide_type": "slide"
    }
   },
   "source": [
    "<img src=\"JEAP.jpg\" width=\"480\">"
   ]
  },
  {
   "cell_type": "markdown",
   "metadata": {
    "slideshow": {
     "slide_type": "slide"
    },
    "toc": true
   },
   "source": [
    "<h1>Sumário<span class=\"tocSkip\"></span></h1>\n",
    "<div class=\"toc\"><ul class=\"toc-item\"><li><span><a href=\"#Introdução\" data-toc-modified-id=\"Introdução-1\"><span class=\"toc-item-num\">1&nbsp;&nbsp;</span>Introdução</a></span><ul class=\"toc-item\"><li><span><a href=\"#Sobre-o-autor\" data-toc-modified-id=\"Sobre-o-autor-1.1\"><span class=\"toc-item-num\">1.1&nbsp;&nbsp;</span>Sobre o autor</a></span></li><li><span><a href=\"#Sobre-o-material\" data-toc-modified-id=\"Sobre-o-material-1.2\"><span class=\"toc-item-num\">1.2&nbsp;&nbsp;</span>Sobre o material</a></span></li><li><span><a href=\"#Porque-Python?-ref\" data-toc-modified-id=\"Porque-Python?-ref-1.3\"><span class=\"toc-item-num\">1.3&nbsp;&nbsp;</span>Porque Python? <a href=\"https://www.hostgator.com.br/blog/10-motivos-para-voce-aprender-python/\" target=\"_blank\">ref</a></a></span></li><li><span><a href=\"#Porque-Jupyter-Notebooks?\" data-toc-modified-id=\"Porque-Jupyter-Notebooks?-1.4\"><span class=\"toc-item-num\">1.4&nbsp;&nbsp;</span>Porque Jupyter Notebooks?</a></span></li><li><span><a href=\"#Material-Complementar\" data-toc-modified-id=\"Material-Complementar-1.5\"><span class=\"toc-item-num\">1.5&nbsp;&nbsp;</span>Material Complementar</a></span></li></ul></li><li><span><a href=\"#Revisão\" data-toc-modified-id=\"Revisão-2\"><span class=\"toc-item-num\">2&nbsp;&nbsp;</span>Revisão</a></span><ul class=\"toc-item\"><li><span><a href=\"#Módulos\" data-toc-modified-id=\"Módulos-2.1\"><span class=\"toc-item-num\">2.1&nbsp;&nbsp;</span>Módulos</a></span></li><li><span><a href=\"#Classes\" data-toc-modified-id=\"Classes-2.2\"><span class=\"toc-item-num\">2.2&nbsp;&nbsp;</span>Classes</a></span></li><li><span><a href=\"#Dicionários\" data-toc-modified-id=\"Dicionários-2.3\"><span class=\"toc-item-num\">2.3&nbsp;&nbsp;</span>Dicionários</a></span></li><li><span><a href=\"#Principais-Bibliotecas\" data-toc-modified-id=\"Principais-Bibliotecas-2.4\"><span class=\"toc-item-num\">2.4&nbsp;&nbsp;</span>Principais Bibliotecas</a></span><ul class=\"toc-item\"><li><span><a href=\"#SciPy\" data-toc-modified-id=\"SciPy-2.4.1\"><span class=\"toc-item-num\">2.4.1&nbsp;&nbsp;</span>SciPy</a></span></li><li><span><a href=\"#Numpy\" data-toc-modified-id=\"Numpy-2.4.2\"><span class=\"toc-item-num\">2.4.2&nbsp;&nbsp;</span>Numpy</a></span></li><li><span><a href=\"#Exemplos\" data-toc-modified-id=\"Exemplos-2.4.3\"><span class=\"toc-item-num\">2.4.3&nbsp;&nbsp;</span>Exemplos</a></span></li><li><span><a href=\"#Pandas\" data-toc-modified-id=\"Pandas-2.4.4\"><span class=\"toc-item-num\">2.4.4&nbsp;&nbsp;</span>Pandas</a></span></li><li><span><a href=\"#Matplotlib\" data-toc-modified-id=\"Matplotlib-2.4.5\"><span class=\"toc-item-num\">2.4.5&nbsp;&nbsp;</span>Matplotlib</a></span></li><li><span><a href=\"#Bokeh\" data-toc-modified-id=\"Bokeh-2.4.6\"><span class=\"toc-item-num\">2.4.6&nbsp;&nbsp;</span>Bokeh</a></span></li></ul></li><li><span><a href=\"#Boas-práticas-em-programação\" data-toc-modified-id=\"Boas-práticas-em-programação-2.5\"><span class=\"toc-item-num\">2.5&nbsp;&nbsp;</span>Boas práticas em programação</a></span></li><li><span><a href=\"#Fortran-vs.-Python\" data-toc-modified-id=\"Fortran-vs.-Python-2.6\"><span class=\"toc-item-num\">2.6&nbsp;&nbsp;</span>Fortran vs. Python</a></span></li></ul></li><li><span><a href=\"#Exercícios-Resolvidos\" data-toc-modified-id=\"Exercícios-Resolvidos-3\"><span class=\"toc-item-num\">3&nbsp;&nbsp;</span>Exercícios Resolvidos</a></span><ul class=\"toc-item\"><li><span><a href=\"#Métodos-numéricos\" data-toc-modified-id=\"Métodos-numéricos-3.1\"><span class=\"toc-item-num\">3.1&nbsp;&nbsp;</span>Métodos numéricos</a></span><ul class=\"toc-item\"><li><span><a href=\"#Diferenciação\" data-toc-modified-id=\"Diferenciação-3.1.1\"><span class=\"toc-item-num\">3.1.1&nbsp;&nbsp;</span>Diferenciação</a></span></li><li><span><a href=\"#Integração\" data-toc-modified-id=\"Integração-3.1.2\"><span class=\"toc-item-num\">3.1.2&nbsp;&nbsp;</span>Integração</a></span></li></ul></li><li><span><a href=\"#Fenômenos-de-Transporte\" data-toc-modified-id=\"Fenômenos-de-Transporte-3.2\"><span class=\"toc-item-num\">3.2&nbsp;&nbsp;</span>Fenômenos de Transporte</a></span><ul class=\"toc-item\"><li><span><a href=\"#1D-Radiação-+-Convecção\" data-toc-modified-id=\"1D-Radiação-+-Convecção-3.2.1\"><span class=\"toc-item-num\">3.2.1&nbsp;&nbsp;</span>1D Radiação + Convecção</a></span></li></ul></li><li><span><a href=\"#2D(t)\" data-toc-modified-id=\"2D(t)-3.3\"><span class=\"toc-item-num\">3.3&nbsp;&nbsp;</span>2D(t)</a></span><ul class=\"toc-item\"><li><span><a href=\"#Convecção-/-Difusão\" data-toc-modified-id=\"Convecção-/-Difusão-3.3.1\"><span class=\"toc-item-num\">3.3.1&nbsp;&nbsp;</span>Convecção / Difusão</a></span></li></ul></li><li><span><a href=\"#Vibrações-Mecânicas\" data-toc-modified-id=\"Vibrações-Mecânicas-3.4\"><span class=\"toc-item-num\">3.4&nbsp;&nbsp;</span>Vibrações Mecânicas</a></span></li><li><span><a href=\"#Controle-e-Automação\" data-toc-modified-id=\"Controle-e-Automação-3.5\"><span class=\"toc-item-num\">3.5&nbsp;&nbsp;</span>Controle e Automação</a></span></li><li><span><a href=\"#Engenharia-Econômica\" data-toc-modified-id=\"Engenharia-Econômica-3.6\"><span class=\"toc-item-num\">3.6&nbsp;&nbsp;</span>Engenharia Econômica</a></span></li></ul></li><li><span><a href=\"#Exercícios-Propostos\" data-toc-modified-id=\"Exercícios-Propostos-4\"><span class=\"toc-item-num\">4&nbsp;&nbsp;</span>Exercícios Propostos</a></span><ul class=\"toc-item\"><li><span><a href=\"#Eletronica\" data-toc-modified-id=\"Eletronica-4.1\"><span class=\"toc-item-num\">4.1&nbsp;&nbsp;</span>Eletronica</a></span></li><li><span><a href=\"#Resistência-dos-Materiais\" data-toc-modified-id=\"Resistência-dos-Materiais-4.2\"><span class=\"toc-item-num\">4.2&nbsp;&nbsp;</span>Resistência dos Materiais</a></span></li></ul></li></ul></div>"
   ]
  },
  {
   "cell_type": "markdown",
   "metadata": {
    "slideshow": {
     "slide_type": "-"
    }
   },
   "source": [
    "## Introdução"
   ]
  },
  {
   "cell_type": "markdown",
   "metadata": {
    "slideshow": {
     "slide_type": "slide"
    }
   },
   "source": [
    "### Sobre o autor\n",
    "\n",
    "Possui graduação em Engenharia Mecânica pela Pontifícia Universidade Católica do Rio Grande do Sul (2013) e Mestrado em Engenharia e Tecnologia de Materiais pela mesma instituição. Atualmente atua como doutorando no Laboratório de Simulação de Escoamentos Turbulentos, Escola Politécnica da PUCRS. Possui experiencia em mecânica dos fluidos computacional, simulação numérica direta, simulação de grandes escalas, fenômenos de transporte, programação, programação paralela e métodos numéricos.\n",
    "\n",
    "> **Felipe Nornberg Schuch**,<br>\n",
    "> Laboratório de Simulação de Escoamentos Turbulentos (LaSET),<br>\n",
    "> Escola Politécnica, Pontifícia Universidade Católica do Rio Grande do Sul.<br>\n",
    "> felipe.schuch@edu.pucrs.br"
   ]
  },
  {
   "cell_type": "markdown",
   "metadata": {},
   "source": [
    "### Sobre o material"
   ]
  },
  {
   "cell_type": "markdown",
   "metadata": {},
   "source": [
    "### Porque Python? [ref](https://www.hostgator.com.br/blog/10-motivos-para-voce-aprender-python/)\n",
    "\n",
    "1. Simples e fácil de aprender\n",
    "2. Portátil e Extensível\n",
    "3. Desenvolvimento Web\n",
    "4. Inteligência Artificial\n",
    "5. Computação Gráfica\n",
    "6. Enquadramento de Testes\n",
    "7. Big Data\n",
    "8. Scripting e Automação\n",
    "9. Ciência de Dados\n",
    "10. Popularidade"
   ]
  },
  {
   "cell_type": "markdown",
   "metadata": {},
   "source": [
    "### Porque Jupyter Notebooks?\n",
    "\n",
    "* [Markdown quick reference](https://en.support.wordpress.com/markdown-quick-reference/)\n",
    "* [Jupyter tools to increase productivity](https://towardsdatascience.com/jupyter-tools-to-increase-productivity-7b3c6b90be09)\n",
    "* [LaTeX/Mathematics](https://en.wikibooks.org/wiki/LaTeX/Mathematics)"
   ]
  },
  {
   "cell_type": "markdown",
   "metadata": {},
   "source": [
    "### Material Complementar\n",
    "\n",
    "* [12 Steps to Navier-Stokes](https://github.com/barbagroup/CFDPython)\n",
    "* [An example machine learning notebook](https://nbviewer.jupyter.org/github/rhiever/Data-Analysis-and-Machine-Learning-Projects/blob/master/example-data-science-notebook/Example%2520Machine%2520Learning%2520Notebook.ipynb)\n",
    "* [Mythbusters Demo GPU versus CPU](https://www.youtube.com/watch?v=-P28LKWTzrI)"
   ]
  },
  {
   "cell_type": "markdown",
   "metadata": {},
   "source": [
    "## Revisão"
   ]
  },
  {
   "cell_type": "code",
   "execution_count": 1,
   "metadata": {},
   "outputs": [
    {
     "name": "stdout",
     "output_type": "stream",
     "text": [
      "Olá mundo\n"
     ]
    }
   ],
   "source": [
    "'''\n",
    "Isso é um comentário\n",
    "'''\n",
    "\n",
    "print(\"Olá mundo\")\n",
    "\n",
    "# Isso também é um comentário"
   ]
  },
  {
   "cell_type": "code",
   "execution_count": 48,
   "metadata": {},
   "outputs": [],
   "source": [
    "# Declarando variáveis\n",
    "i = 5        #inteiro\n",
    "f = 6.7      #ponto flutuante\n",
    "s = 'abcdef' #string\n",
    "c = 5.0 + 6j #complexo"
   ]
  },
  {
   "cell_type": "code",
   "execution_count": 38,
   "metadata": {},
   "outputs": [
    {
     "data": {
      "text/plain": [
       "7"
      ]
     },
     "execution_count": 38,
     "metadata": {},
     "output_type": "execute_result"
    }
   ],
   "source": [
    "i = i + 1    #acumulador \n",
    "i"
   ]
  },
  {
   "cell_type": "code",
   "execution_count": 44,
   "metadata": {},
   "outputs": [
    {
     "data": {
      "text/plain": [
       "5"
      ]
     },
     "execution_count": 44,
     "metadata": {},
     "output_type": "execute_result"
    }
   ],
   "source": [
    "i += 1       #forma alternativa para acumulador\n",
    "i"
   ]
  },
  {
   "cell_type": "code",
   "execution_count": 42,
   "metadata": {},
   "outputs": [
    {
     "name": "stdout",
     "output_type": "stream",
     "text": [
      "0\n",
      "1\n",
      "2\n",
      "3\n",
      "4\n"
     ]
    }
   ],
   "source": [
    "#laço de zero a 4\n",
    "for i in range(5):\n",
    "    print(i)"
   ]
  },
  {
   "cell_type": "code",
   "execution_count": 47,
   "metadata": {},
   "outputs": [
    {
     "name": "stdout",
     "output_type": "stream",
     "text": [
      "i não é igual a 4, i é igual a 5\n"
     ]
    }
   ],
   "source": [
    "#teste lógico\n",
    "if i == 4:\n",
    "    print('i é igual a 4')\n",
    "else:\n",
    "    print('i não é igual a 4, i é igual a '+str(i))"
   ]
  },
  {
   "cell_type": "markdown",
   "metadata": {},
   "source": [
    "### Módulos\n",
    "\n",
    "### Classes\n",
    "\n",
    "### Dicionários\n",
    "\n",
    "* [Dictionaries in Python](https://realpython.com/python-dicts/)"
   ]
  },
  {
   "cell_type": "markdown",
   "metadata": {},
   "source": [
    "### Principais Bibliotecas"
   ]
  },
  {
   "cell_type": "markdown",
   "metadata": {},
   "source": [
    "####  SciPy\n",
    "\n",
    "![SciPy](https://www.scipy.org/_static/images/scipy_med.png \"SciPy\")\n",
    "\n",
    "Ferramentas de computação científica para Python. SciPy refere-se a várias entidades relacionadas, mas distintas:\n",
    "\n",
    "* O ecossistema SciPy, uma coleção de software de código aberto para computação científica em Python.\n",
    "* A comunidade de pessoas que usam e desenvolvem essa biblioteca.\n",
    "* Várias conferências dedicadas à computação científica em Python - SciPy, EuroSciPy e SciPy.in.\n",
    "* Fazem parte da família os pacotes, que serão melhor descritos a seguir:\n",
    "  * Numpy\n",
    "  * Matplotlib\n",
    "  * Sympy\n",
    "  * IPython\n",
    "  * Pandas\n",
    "* Além disso, a própria biblioteca SciPy, um componente do conjunto SciPy, fornecendo muitas rotinas numéricas:\n",
    "  * Funções especiais\n",
    "  * Integração numérica\n",
    "  * Diferenciação numérica\n",
    "  * Otimização\n",
    "  * Interpolação\n",
    "  * Transformada de Fourier\n",
    "  * Processamento de sinal\n",
    "  * Algebra linear e Algebra linear esparsa\n",
    "  * Problema de autovalor esparso com ARPACK\n",
    "  * Algoritmos e estruturas de dados espaciais\n",
    "  * Estatistica\n",
    "  * Processamento de imagem multidimensional\n",
    "  * I/O de arquivos\n",
    "  \n",
    "Material complementar:\n",
    "* [SciPy](https://www.scipy.org/)\n",
    "* [Getting Started](https://www.scipy.org/getting-started.html)\n",
    "* [Scipy Lecture Notes](http://scipy-lectures.org/index.html)"
   ]
  },
  {
   "cell_type": "markdown",
   "metadata": {},
   "source": [
    "####  Numpy\n",
    "\n",
    "![Numpy](https://www.scipy.org/_static/images/numpylogo_med.png \"Numpy\")\n",
    "\n",
    "Numpy é um pacote fundamental para a computação científica em Python. Entre outras coisas, destaca-se:\n",
    "* Objetos em arranjos N-dimensionais\n",
    "* Funções sofisticadas\n",
    "* Ferramentas para integrar código C/C++ e Fortran\n",
    "* Conveniente álgebra linear, transformada de Fourier e capacidade de números aleatórios\n",
    "\n",
    "Além de seus usos científicos óbvios, o NumPy também pode ser usado como um contêiner multidimensional eficiente de dados genéricos. Tipos de dados arbitrários podem ser definidos. Isso permite que o NumPy integre-se de forma fácil e rápida a uma ampla variedade de bancos de dados.\n",
    "\n",
    "#### Exemplos"
   ]
  },
  {
   "cell_type": "code",
   "execution_count": 2,
   "metadata": {},
   "outputs": [],
   "source": [
    "import numpy as np # Importando a biblioteca numpy e definindo-a com o codnome de np"
   ]
  },
  {
   "cell_type": "code",
   "execution_count": 3,
   "metadata": {
    "scrolled": true
   },
   "outputs": [
    {
     "name": "stdout",
     "output_type": "stream",
     "text": [
      "arange([start,] stop[, step,], dtype=None)\n",
      "\n",
      "    Return evenly spaced values within a given interval.\n",
      "\n",
      "    Values are generated within the half-open interval ``[start, stop)``\n",
      "    (in other words, the interval including `start` but excluding `stop`).\n",
      "    For integer arguments the function is equivalent to the Python built-in\n",
      "    `range` function, but returns an ndarray rather than a list.\n",
      "\n",
      "    When using a non-integer step, such as 0.1, the results will often not\n",
      "    be consistent.  It is better to use `numpy.linspace` for these cases.\n",
      "\n",
      "    Parameters\n",
      "    ----------\n",
      "    start : number, optional\n",
      "        Start of interval.  The interval includes this value.  The default\n",
      "        start value is 0.\n",
      "    stop : number\n",
      "        End of interval.  The interval does not include this value, except\n",
      "        in some cases where `step` is not an integer and floating point\n",
      "        round-off affects the length of `out`.\n",
      "    step : number, optional\n",
      "        Spacing between values.  For any output `out`, this is the distance\n",
      "        between two adjacent values, ``out[i+1] - out[i]``.  The default\n",
      "        step size is 1.  If `step` is specified as a position argument,\n",
      "        `start` must also be given.\n",
      "    dtype : dtype\n",
      "        The type of the output array.  If `dtype` is not given, infer the data\n",
      "        type from the other input arguments.\n",
      "\n",
      "    Returns\n",
      "    -------\n",
      "    arange : ndarray\n",
      "        Array of evenly spaced values.\n",
      "\n",
      "        For floating point arguments, the length of the result is\n",
      "        ``ceil((stop - start)/step)``.  Because of floating point overflow,\n",
      "        this rule may result in the last element of `out` being greater\n",
      "        than `stop`.\n",
      "\n",
      "    See Also\n",
      "    --------\n",
      "    linspace : Evenly spaced numbers with careful handling of endpoints.\n",
      "    ogrid: Arrays of evenly spaced numbers in N-dimensions.\n",
      "    mgrid: Grid-shaped arrays of evenly spaced numbers in N-dimensions.\n",
      "\n",
      "    Examples\n",
      "    --------\n",
      "    >>> np.arange(3)\n",
      "    array([0, 1, 2])\n",
      "    >>> np.arange(3.0)\n",
      "    array([ 0.,  1.,  2.])\n",
      "    >>> np.arange(3,7)\n",
      "    array([3, 4, 5, 6])\n",
      "    >>> np.arange(3,7,2)\n",
      "    array([3, 5])\n"
     ]
    }
   ],
   "source": [
    "print(np.arange.__doc__) # É sempre possível checar a documentação de uma dada função"
   ]
  },
  {
   "cell_type": "code",
   "execution_count": 4,
   "metadata": {},
   "outputs": [],
   "source": [
    "a = np.arange(15).reshape(3, 5) # Criando um arranjo com 15 elementos e o redimensionando para o formato 3x5"
   ]
  },
  {
   "cell_type": "code",
   "execution_count": 5,
   "metadata": {},
   "outputs": [
    {
     "data": {
      "text/plain": [
       "array([[ 0,  1,  2,  3,  4],\n",
       "       [ 5,  6,  7,  8,  9],\n",
       "       [10, 11, 12, 13, 14]])"
      ]
     },
     "execution_count": 5,
     "metadata": {},
     "output_type": "execute_result"
    }
   ],
   "source": [
    "a # Escrevendo a"
   ]
  },
  {
   "cell_type": "code",
   "execution_count": 6,
   "metadata": {},
   "outputs": [
    {
     "data": {
      "text/plain": [
       "(3, 5)"
      ]
     },
     "execution_count": 6,
     "metadata": {},
     "output_type": "execute_result"
    }
   ],
   "source": [
    "a.shape # Verificando as dimensões do arranjo"
   ]
  },
  {
   "cell_type": "code",
   "execution_count": 7,
   "metadata": {},
   "outputs": [
    {
     "data": {
      "text/plain": [
       "2"
      ]
     },
     "execution_count": 7,
     "metadata": {},
     "output_type": "execute_result"
    }
   ],
   "source": [
    "a.ndim # O número de dimensões"
   ]
  },
  {
   "cell_type": "code",
   "execution_count": 8,
   "metadata": {},
   "outputs": [
    {
     "data": {
      "text/plain": [
       "'int64'"
      ]
     },
     "execution_count": 8,
     "metadata": {},
     "output_type": "execute_result"
    }
   ],
   "source": [
    "a.dtype.name # Classificação quando ao tipo dos elementos"
   ]
  },
  {
   "cell_type": "code",
   "execution_count": 9,
   "metadata": {},
   "outputs": [
    {
     "data": {
      "text/plain": [
       "8"
      ]
     },
     "execution_count": 9,
     "metadata": {},
     "output_type": "execute_result"
    }
   ],
   "source": [
    "a.itemsize # Tamanho em bytes de cada elemento"
   ]
  },
  {
   "cell_type": "code",
   "execution_count": 10,
   "metadata": {},
   "outputs": [
    {
     "data": {
      "text/plain": [
       "15"
      ]
     },
     "execution_count": 10,
     "metadata": {},
     "output_type": "execute_result"
    }
   ],
   "source": [
    "a.size # Número total de elementos no arranjo"
   ]
  },
  {
   "cell_type": "code",
   "execution_count": 11,
   "metadata": {},
   "outputs": [
    {
     "data": {
      "text/plain": [
       "numpy.ndarray"
      ]
     },
     "execution_count": 11,
     "metadata": {},
     "output_type": "execute_result"
    }
   ],
   "source": [
    "type(a)"
   ]
  },
  {
   "cell_type": "code",
   "execution_count": 12,
   "metadata": {},
   "outputs": [
    {
     "name": "stdout",
     "output_type": "stream",
     "text": [
      "=============== zeros ===============\n",
      "\n",
      "zeros(shape, dtype=float, order='C')\n",
      "\n",
      "    Return a new array of given shape and type, filled with zeros.\n",
      "\n",
      "    Parameters\n",
      "    ----------\n",
      "    shape : int or tuple of ints\n",
      "        Shape of the new array, e.g., ``(2, 3)`` or ``2``.\n",
      "    dtype : data-type, optional\n",
      "        The desired data-type for the array, e.g., `numpy.int8`.  Default is\n",
      "        `numpy.float64`.\n",
      "    order : {'C', 'F'}, optional, default: 'C'\n",
      "        Whether to store multi-dimensional data in row-major\n",
      "        (C-style) or column-major (Fortran-style) order in\n",
      "        memory.\n",
      "\n",
      "    Returns\n",
      "    -------\n",
      "    out : ndarray\n",
      "        Array of zeros with the given shape, dtype, and order.\n",
      "\n",
      "    See Also\n",
      "    --------\n",
      "    zeros_like : Return an array of zeros with shape and type of input.\n",
      "    empty : Return a new uninitialized array.\n",
      "    ones : Return a new array setting values to one.\n",
      "    full : Return a new array of given shape filled with value.\n",
      "\n",
      "    Examples\n",
      "    --------\n",
      "    >>> np.zeros(5)\n",
      "    array([ 0.,  0.,  0.,  0.,  0.])\n",
      "\n",
      "    >>> np.zeros((5,), dtype=int)\n",
      "    array([0, 0, 0, 0, 0])\n",
      "\n",
      "    >>> np.zeros((2, 1))\n",
      "    array([[ 0.],\n",
      "           [ 0.]])\n",
      "\n",
      "    >>> s = (2,2)\n",
      "    >>> np.zeros(s)\n",
      "    array([[ 0.,  0.],\n",
      "           [ 0.,  0.]])\n",
      "\n",
      "    >>> np.zeros((2,), dtype=[('x', 'i4'), ('y', 'i4')]) # custom dtype\n",
      "    array([(0, 0), (0, 0)],\n",
      "          dtype=[('x', '<i4'), ('y', '<i4')])\n",
      "\n",
      "=============== zeros_like ===============\n",
      "\n",
      "\n",
      "    Return an array of zeros with the same shape and type as a given array.\n",
      "\n",
      "    Parameters\n",
      "    ----------\n",
      "    a : array_like\n",
      "        The shape and data-type of `a` define these same attributes of\n",
      "        the returned array.\n",
      "    dtype : data-type, optional\n",
      "        Overrides the data type of the result.\n",
      "\n",
      "        .. versionadded:: 1.6.0\n",
      "    order : {'C', 'F', 'A', or 'K'}, optional\n",
      "        Overrides the memory layout of the result. 'C' means C-order,\n",
      "        'F' means F-order, 'A' means 'F' if `a` is Fortran contiguous,\n",
      "        'C' otherwise. 'K' means match the layout of `a` as closely\n",
      "        as possible.\n",
      "\n",
      "        .. versionadded:: 1.6.0\n",
      "    subok : bool, optional.\n",
      "        If True, then the newly created array will use the sub-class\n",
      "        type of 'a', otherwise it will be a base-class array. Defaults\n",
      "        to True.\n",
      "\n",
      "    Returns\n",
      "    -------\n",
      "    out : ndarray\n",
      "        Array of zeros with the same shape and type as `a`.\n",
      "\n",
      "    See Also\n",
      "    --------\n",
      "    empty_like : Return an empty array with shape and type of input.\n",
      "    ones_like : Return an array of ones with shape and type of input.\n",
      "    full_like : Return a new array with shape of input filled with value.\n",
      "    zeros : Return a new array setting values to zero.\n",
      "\n",
      "    Examples\n",
      "    --------\n",
      "    >>> x = np.arange(6)\n",
      "    >>> x = x.reshape((2, 3))\n",
      "    >>> x\n",
      "    array([[0, 1, 2],\n",
      "           [3, 4, 5]])\n",
      "    >>> np.zeros_like(x)\n",
      "    array([[0, 0, 0],\n",
      "           [0, 0, 0]])\n",
      "\n",
      "    >>> y = np.arange(3, dtype=float)\n",
      "    >>> y\n",
      "    array([ 0.,  1.,  2.])\n",
      "    >>> np.zeros_like(y)\n",
      "    array([ 0.,  0.,  0.])\n",
      "\n",
      "    \n",
      "\n",
      "=============== ones ===============\n",
      "\n",
      "\n",
      "    Return a new array of given shape and type, filled with ones.\n",
      "\n",
      "    Parameters\n",
      "    ----------\n",
      "    shape : int or sequence of ints\n",
      "        Shape of the new array, e.g., ``(2, 3)`` or ``2``.\n",
      "    dtype : data-type, optional\n",
      "        The desired data-type for the array, e.g., `numpy.int8`.  Default is\n",
      "        `numpy.float64`.\n",
      "    order : {'C', 'F'}, optional, default: C\n",
      "        Whether to store multi-dimensional data in row-major\n",
      "        (C-style) or column-major (Fortran-style) order in\n",
      "        memory.\n",
      "\n",
      "    Returns\n",
      "    -------\n",
      "    out : ndarray\n",
      "        Array of ones with the given shape, dtype, and order.\n",
      "\n",
      "    See Also\n",
      "    --------\n",
      "    ones_like : Return an array of ones with shape and type of input.\n",
      "    empty : Return a new uninitialized array.\n",
      "    zeros : Return a new array setting values to zero.\n",
      "    full : Return a new array of given shape filled with value.\n",
      "\n",
      "\n",
      "    Examples\n",
      "    --------\n",
      "    >>> np.ones(5)\n",
      "    array([ 1.,  1.,  1.,  1.,  1.])\n",
      "\n",
      "    >>> np.ones((5,), dtype=int)\n",
      "    array([1, 1, 1, 1, 1])\n",
      "\n",
      "    >>> np.ones((2, 1))\n",
      "    array([[ 1.],\n",
      "           [ 1.]])\n",
      "\n",
      "    >>> s = (2,2)\n",
      "    >>> np.ones(s)\n",
      "    array([[ 1.,  1.],\n",
      "           [ 1.,  1.]])\n",
      "\n",
      "    \n",
      "\n",
      "=============== linspace ===============\n",
      "\n",
      "\n",
      "    Return evenly spaced numbers over a specified interval.\n",
      "\n",
      "    Returns `num` evenly spaced samples, calculated over the\n",
      "    interval [`start`, `stop`].\n",
      "\n",
      "    The endpoint of the interval can optionally be excluded.\n",
      "\n",
      "    .. versionchanged:: 1.16.0\n",
      "        Non-scalar `start` and `stop` are now supported.\n",
      "\n",
      "    Parameters\n",
      "    ----------\n",
      "    start : array_like\n",
      "        The starting value of the sequence.\n",
      "    stop : array_like\n",
      "        The end value of the sequence, unless `endpoint` is set to False.\n",
      "        In that case, the sequence consists of all but the last of ``num + 1``\n",
      "        evenly spaced samples, so that `stop` is excluded.  Note that the step\n",
      "        size changes when `endpoint` is False.\n",
      "    num : int, optional\n",
      "        Number of samples to generate. Default is 50. Must be non-negative.\n",
      "    endpoint : bool, optional\n",
      "        If True, `stop` is the last sample. Otherwise, it is not included.\n",
      "        Default is True.\n",
      "    retstep : bool, optional\n",
      "        If True, return (`samples`, `step`), where `step` is the spacing\n",
      "        between samples.\n",
      "    dtype : dtype, optional\n",
      "        The type of the output array.  If `dtype` is not given, infer the data\n",
      "        type from the other input arguments.\n",
      "\n",
      "        .. versionadded:: 1.9.0\n",
      "\n",
      "    axis : int, optional\n",
      "        The axis in the result to store the samples.  Relevant only if start\n",
      "        or stop are array-like.  By default (0), the samples will be along a\n",
      "        new axis inserted at the beginning. Use -1 to get an axis at the end.\n",
      "\n",
      "        .. versionadded:: 1.16.0\n",
      "\n",
      "    Returns\n",
      "    -------\n",
      "    samples : ndarray\n",
      "        There are `num` equally spaced samples in the closed interval\n",
      "        ``[start, stop]`` or the half-open interval ``[start, stop)``\n",
      "        (depending on whether `endpoint` is True or False).\n",
      "    step : float, optional\n",
      "        Only returned if `retstep` is True\n",
      "\n",
      "        Size of spacing between samples.\n",
      "\n",
      "\n",
      "    See Also\n",
      "    --------\n",
      "    arange : Similar to `linspace`, but uses a step size (instead of the\n",
      "             number of samples).\n",
      "    geomspace : Similar to `linspace`, but with numbers spaced evenly on a log\n",
      "                scale (a geometric progression).\n",
      "    logspace : Similar to `geomspace`, but with the end points specified as\n",
      "               logarithms.\n",
      "\n",
      "    Examples\n",
      "    --------\n",
      "    >>> np.linspace(2.0, 3.0, num=5)\n",
      "    array([ 2.  ,  2.25,  2.5 ,  2.75,  3.  ])\n",
      "    >>> np.linspace(2.0, 3.0, num=5, endpoint=False)\n",
      "    array([ 2. ,  2.2,  2.4,  2.6,  2.8])\n",
      "    >>> np.linspace(2.0, 3.0, num=5, retstep=True)\n",
      "    (array([ 2.  ,  2.25,  2.5 ,  2.75,  3.  ]), 0.25)\n",
      "\n",
      "    Graphical illustration:\n",
      "\n",
      "    >>> import matplotlib.pyplot as plt\n",
      "    >>> N = 8\n",
      "    >>> y = np.zeros(N)\n",
      "    >>> x1 = np.linspace(0, 10, N, endpoint=True)\n",
      "    >>> x2 = np.linspace(0, 10, N, endpoint=False)\n",
      "    >>> plt.plot(x1, y, 'o')\n",
      "    [<matplotlib.lines.Line2D object at 0x...>]\n",
      "    >>> plt.plot(x2, y + 0.5, 'o')\n",
      "    [<matplotlib.lines.Line2D object at 0x...>]\n",
      "    >>> plt.ylim([-0.5, 1])\n",
      "    (-0.5, 1)\n",
      "    >>> plt.show()\n",
      "\n",
      "    \n",
      "\n"
     ]
    }
   ],
   "source": [
    "# outras funções que merecem destaque:\n",
    "for f in [np.zeros, np.zeros_like, np.ones, np.linspace]:\n",
    "    print('=============== '+f.__name__+' ===============\\n')\n",
    "    print(f.__doc__+'\\n')"
   ]
  },
  {
   "cell_type": "markdown",
   "metadata": {},
   "source": [
    "* [NumPy](https://www.numpy.org/)\n",
    "* [Quickstart tutorial](https://www.numpy.org/devdocs/user/quickstart.html)"
   ]
  },
  {
   "cell_type": "markdown",
   "metadata": {},
   "source": [
    "####  Pandas\n",
    "\n",
    "![Pandas](https://www.scipy.org/_static/images/pandas_badge2.jpg \"Pandas\")\n",
    "\n",
    "####  Matplotlib\n",
    "\n",
    "![Matplotlib](https://www.scipy.org/_static/images/matplotlib_med.png \"Matplotlib\")\n",
    "\n",
    "* [Style sheets reference](https://matplotlib.org/3.1.0/gallery/style_sheets/style_sheets_reference.html)\n",
    "* [Gallery](https://matplotlib.org/3.1.0/gallery/index.html)\n",
    "\n",
    "####  Bokeh\n",
    "\n",
    " ![Bokeh](https://bokeh.pydata.org/en/latest/_static/images/logo.png \"Bokeh\")\n",
    "\n",
    "O Bokeh é uma biblioteca de visualização interativa para Python que permite uma apresentação visual de dados bonita e significativa em navegadores modernos. Com o Bokeh, você pode criar, de maneira rápida e fácil, plotagens interativas, painéis e aplicativos de dados.\n",
    "\n",
    "O Bokeh fornece uma maneira elegante e concisa de construir gráficos versáteis e, ao mesmo tempo, oferecer interatividade de alto desempenho para conjuntos de dados grandes ou em fluxo.\n",
    "\n",
    "* [Tutorial](https://mybinder.org/v2/gh/bokeh/bokeh-notebooks/master?filepath=tutorial%2F00%20-%20Introduction%20and%20Setup.ipynb)\n",
    "* [Gallery](https://bokeh.pydata.org/en/latest/docs/gallery.html)"
   ]
  },
  {
   "cell_type": "markdown",
   "metadata": {},
   "source": [
    "### Boas práticas em programação"
   ]
  },
  {
   "cell_type": "markdown",
   "metadata": {},
   "source": [
    "### Fortran vs. Python"
   ]
  },
  {
   "cell_type": "markdown",
   "metadata": {},
   "source": [
    "É preciso criar o arquivo `escreve_sin_cos.f90`\n",
    "```fortran\n",
    "program escreve_sin_cos\n",
    "\n",
    "    implicit none\n",
    "    \n",
    "    !Declarar variáveis\n",
    "    integer :: i, nx\n",
    "    real(4) :: xi, xf, dx\n",
    "    real(4), allocatable, dimension(:) :: x, sinx, cosx\n",
    "\n",
    "    nx=200\n",
    "    xi = 0.\n",
    "    xf = 3.14\n",
    "\n",
    "    !Alocar variáveis\n",
    "    allocate(x(nx), sinx(nx), cosx(nx))\n",
    "\n",
    "    !Calcular\n",
    "    dx = (xi-xf)/(nx-1)\n",
    "    do i=1, nx\n",
    "        x(i) = real(i-1,4)*dx\n",
    "        sinx(i) = sin(x(i))\n",
    "        cosx(i) = cos(x(i))\n",
    "    end do\n",
    "\n",
    "    !Escrever em disco e abrir em outro\n",
    "    !programa para gerar imagens\n",
    "    open (1, file = \"teste.csv\")\n",
    "    do i=1, nx\n",
    "        write(1,*) x(i), sinx(i), cosx(i)\n",
    "    end do\n",
    "    close(1)\n",
    "    \n",
    "    !Encerrar programa\n",
    "end program escreve_sin_cos\n",
    "```\n",
    "\n",
    "Além de compilar\n",
    "\n",
    "`gfortran -o teste escreve_sin_cos.f90`,\n",
    "\n",
    "executar:\n",
    "\n",
    "`./teste`,\n",
    "\n",
    "e ainda processar o arquivo de saída `teste.csv` em outro software."
   ]
  },
  {
   "cell_type": "code",
   "execution_count": 13,
   "metadata": {},
   "outputs": [
    {
     "ename": "NameError",
     "evalue": "name 'plt' is not defined",
     "output_type": "error",
     "traceback": [
      "\u001b[0;31m---------------------------------------------------------------------------\u001b[0m",
      "\u001b[0;31mNameError\u001b[0m                                 Traceback (most recent call last)",
      "\u001b[0;32m<ipython-input-13-841eb067f2ee>\u001b[0m in \u001b[0;36m<module>\u001b[0;34m\u001b[0m\n\u001b[1;32m      4\u001b[0m \u001b[0mcosx\u001b[0m \u001b[0;34m=\u001b[0m \u001b[0mnp\u001b[0m\u001b[0;34m.\u001b[0m\u001b[0mcos\u001b[0m\u001b[0;34m(\u001b[0m\u001b[0mx\u001b[0m\u001b[0;34m)\u001b[0m\u001b[0;34m\u001b[0m\u001b[0;34m\u001b[0m\u001b[0m\n\u001b[1;32m      5\u001b[0m \u001b[0;34m\u001b[0m\u001b[0m\n\u001b[0;32m----> 6\u001b[0;31m \u001b[0mplt\u001b[0m\u001b[0;34m.\u001b[0m\u001b[0mplot\u001b[0m\u001b[0;34m(\u001b[0m\u001b[0mx\u001b[0m\u001b[0;34m,\u001b[0m \u001b[0msinx\u001b[0m\u001b[0;34m,\u001b[0m \u001b[0mlabel\u001b[0m\u001b[0;34m=\u001b[0m\u001b[0;34m'sin'\u001b[0m\u001b[0;34m)\u001b[0m\u001b[0;34m\u001b[0m\u001b[0;34m\u001b[0m\u001b[0m\n\u001b[0m\u001b[1;32m      7\u001b[0m \u001b[0mplt\u001b[0m\u001b[0;34m.\u001b[0m\u001b[0mplot\u001b[0m\u001b[0;34m(\u001b[0m\u001b[0mx\u001b[0m\u001b[0;34m,\u001b[0m \u001b[0mcosx\u001b[0m\u001b[0;34m,\u001b[0m \u001b[0mlabel\u001b[0m\u001b[0;34m=\u001b[0m\u001b[0;34m'sin'\u001b[0m\u001b[0;34m)\u001b[0m\u001b[0;34m\u001b[0m\u001b[0;34m\u001b[0m\u001b[0m\n\u001b[1;32m      8\u001b[0m \u001b[0;34m\u001b[0m\u001b[0m\n",
      "\u001b[0;31mNameError\u001b[0m: name 'plt' is not defined"
     ]
    }
   ],
   "source": [
    "x = np.linspace(0., 2*np.pi, num=200, endpoint=True)\n",
    "\n",
    "sinx = np.sin(x)\n",
    "cosx = np.cos(x)\n",
    "\n",
    "plt.plot(x, sinx, label='sin')\n",
    "plt.plot(x, cosx, label='sin')\n",
    "\n",
    "plt.legend()\n",
    "plt.show()"
   ]
  },
  {
   "cell_type": "code",
   "execution_count": null,
   "metadata": {},
   "outputs": [],
   "source": [
    "x = np.linspace(0., 2*np.pi, num=200, endpoint=True)\n",
    "\n",
    "for f in [np.sin, np.cos]:\n",
    "    plt.plot(x, f(x), label=f.__name__)\n",
    "    \n",
    "plt.legend()\n",
    "plt.show()"
   ]
  },
  {
   "cell_type": "code",
   "execution_count": null,
   "metadata": {},
   "outputs": [],
   "source": [
    "del x, f"
   ]
  },
  {
   "cell_type": "markdown",
   "metadata": {},
   "source": [
    "## Exercícios Resolvidos"
   ]
  },
  {
   "cell_type": "code",
   "execution_count": 2,
   "metadata": {},
   "outputs": [],
   "source": [
    "import numpy as np\n",
    "import scipy as sp\n",
    "import sympy as sm\n",
    "import bokeh as bk\n",
    "import pandas as pd\n",
    "import matplotlib.pyplot as plt\n",
    "\n",
    "sm.init_printing()"
   ]
  },
  {
   "cell_type": "markdown",
   "metadata": {},
   "source": [
    "### Métodos numéricos"
   ]
  },
  {
   "cell_type": "markdown",
   "metadata": {},
   "source": [
    "#### Diferenciação\n",
    "\n",
    "* Esquema em diferenças finitas, explícito, centrado e com precisão de O($\\Delta x^2$):\n",
    "\n",
    "\\begin{equation}\n",
    "    \\frac{\\partial f}{\\partial x} = f_i' = \\dfrac{f_{i+1}-f_{i-1}}{2\\Delta x}\n",
    "\\end{equation}\n",
    "\n",
    "\\begin{equation}\n",
    "\\begin{split}\n",
    "\\begin{bmatrix} f'_{0} \\\\ f'_{1} \\\\ \\vdots \\\\ f'_{i} \\\\ \\vdots \\\\ f'_{n-2}\\\\ f'_{n-1}\\end{bmatrix} =\n",
    "\\underbrace{\n",
    "\\frac{1}{2 \\Delta x}\n",
    "\\begin{bmatrix}\n",
    "0 & 1 & & & & & -1 \\\\\n",
    "-1 & 0 & 1 & & \\\\\n",
    " & \\ddots & \\ddots & \\ddots & & & \\\\\n",
    "& & -1 & 0 & 1 & \\\\\n",
    "& & & \\ddots & \\ddots & \\ddots & \\\\\n",
    "& & & & -1 & 0 & 1\\\\\n",
    "1 & & & & & -1 & 0\n",
    "\\end{bmatrix}\n",
    "}_{D_x = \\text{ Operador diferencial de primeira ordem}}\n",
    "\\begin{bmatrix} f_{0} \\\\ f_{1} \\\\ \\vdots \\\\ f_{i} \\\\ \\vdots \\\\ f_{n-2}\\\\ f_{n-1}\\end{bmatrix}\n",
    "\\\\\n",
    "\\mbox{com $2\\leq i \\leq n -3$ e $f_0 = f_n$}\n",
    "\\end{split}\n",
    "\\label{eq.dxx_matrix}\n",
    "\\end{equation}\n",
    "\n",
    "\\begin{equation}\n",
    "    f' = D_x f\n",
    "\\end{equation}"
   ]
  },
  {
   "cell_type": "markdown",
   "metadata": {},
   "source": [
    "* Esquema em diferenças finitas, explícito, centrado e com precisão de O($\\Delta x^2$):\n",
    "\n",
    "\\begin{equation}\n",
    "    \\frac{\\partial^2 f}{\\partial x^2} = f_i'' = \\dfrac{f_{i+1} - 2 f_{i} + f_{i-1}}{(\\Delta x)^2}\n",
    "\\end{equation}\n",
    "\n",
    "\\begin{equation}\n",
    "\\begin{split}\n",
    "\\begin{bmatrix} f''_{0} \\\\ f''_{1} \\\\ \\vdots \\\\ f''_{i} \\\\ \\vdots \\\\ f''_{n-2}\\\\ f''_{n-1}\\end{bmatrix} =\n",
    "\\underbrace{\n",
    "\\frac{1}{(\\Delta x)^2}\n",
    "\\begin{bmatrix}\n",
    "-2 & 1 & & & & & 1\\\\\n",
    "1 & -2 & 1 & & \\\\\n",
    " & \\ddots & \\ddots & \\ddots & & & \\\\\n",
    "& & 1 & -2 & 1 & \\\\\n",
    "& & & \\ddots & \\ddots & \\ddots & \\\\\n",
    "& & & & 1 & -2 & 1\\\\\n",
    "1 & & & & & 1 & -2\n",
    "\\end{bmatrix}\n",
    "}_{D_x^2 = \\text{ Operador diferencial de segunda ordem}}\n",
    "\\begin{bmatrix} f_{0} \\\\ f_{1} \\\\ \\vdots \\\\ f_{i} \\\\ \\vdots \\\\ f_{n-2}\\\\ f_{n-1}\\end{bmatrix}\n",
    "\\\\\n",
    "\\mbox{com $2\\leq i \\leq n -3$ e $f_0 = f_n$}\n",
    "\\end{split}\n",
    "\\label{eq.dxx_matrix}\n",
    "\\end{equation}\n",
    "\n",
    "\\begin{equation}\n",
    "    f'' = D_x^2 f\n",
    "\\end{equation}"
   ]
  },
  {
   "cell_type": "code",
   "execution_count": 55,
   "metadata": {},
   "outputs": [],
   "source": [
    "import scipy.sparse as sps\n",
    "\n",
    "x = np.linspace(0., 2*np.pi, num=200, endpoint=False)\n",
    "\n",
    "dx = (x[1]-x[0])\n",
    "\n",
    "#Operador diferencial de primeira ordem\n",
    "Dx = sps.diags([-1., 0., 1.],\n",
    "              offsets=[-1, 0, 1],\n",
    "              shape=(x.size,x.size)\n",
    "              ).toarray()\n",
    "\n",
    "#Operador diferencial de segunda ordem\n",
    "Dx2 = sps.diags([1., -2., 1.],\n",
    "               offsets=[-1, 0, 1],\n",
    "               shape=(x.size,x.size)\n",
    "               ).toarray()\n",
    "\n",
    "Dx /= 2*dx\n",
    "Dx2 /= dx**2.\n",
    "\n",
    "#Condições de contorno Periódicas\n",
    "for D in [Dx, Dx2]:\n",
    "    D[0,-1] = D[1,0]\n",
    "    D[-1,0] = D[-2,-1]"
   ]
  },
  {
   "cell_type": "code",
   "execution_count": 63,
   "metadata": {},
   "outputs": [],
   "source": [
    "def operador_diferencial(xf=2*np.pi, xi=0., nx=7, P=False):\n",
    "    '''\n",
    "    Calcula os operadores diferenciais para primeira e segunda derivada,\n",
    "    considerando uma malha equidistante, com um erro da ordem de dx**2.\n",
    "    \n",
    "    Parâmetros\n",
    "    ----------\n",
    "    x : (vetor)\n",
    "        Distribuição espacial dos pontos.\n",
    "    P : bool, opcional\n",
    "        Define que a condição de contorno é periódica quando True.\n",
    "        Padrão é False.\n",
    "    \n",
    "    Retorna\n",
    "    -------\n",
    "    x, Dx e Dx2, respectivamente o vetor posição e os operadores diferenciais para primeira e segunda ordem.\n",
    "    '''\n",
    "    from scipy.sparse import diags\n",
    "    from numpy import linspace\n",
    "    x = linspace(xi, xf, num=nx, endpoint=not P)\n",
    "    dx = (x[1]-x[0])\n",
    "    #Operador diferencial de primeira ordem\n",
    "    Dx = diags([-1., 1.],\n",
    "              offsets=[-1, 1],\n",
    "              shape=(x.size,x.size)\n",
    "              ).toarray()\n",
    "    #Operador diferencial de segunda ordem\n",
    "    Dx2 = diags([1., -2., 1.],\n",
    "               offsets=[-1, 0, 1],\n",
    "               shape=(x.size,x.size)\n",
    "               ).toarray()\n",
    "    #\n",
    "    if P: #Condições de contorno Periódicas\n",
    "        for D in [Dx, Dx2]:\n",
    "            D[0,-1] = D[1,0]\n",
    "            D[-1,0] = D[-2,-1]\n",
    "    else: #Não Periódica\n",
    "        Dx[0,0], Dx[0,1], Dx[0,2] = -3., 4., -1.\n",
    "        Dx[-1,-3], Dx[0,-2], Dx[0,-1] = 1., -4., 3.\n",
    "        Dx2[0,0], Dx2[0,1], Dx2[0,2] = 1., -2., 1.\n",
    "        Dx[-1,-3], Dx[0,-2], Dx[0,-1] = 1., -2., 1.\n",
    "    #\n",
    "    Dx /= 2*dx\n",
    "    Dx2 /= dx**2.\n",
    "    return x, Dx, Dx2"
   ]
  },
  {
   "cell_type": "code",
   "execution_count": 64,
   "metadata": {},
   "outputs": [
    {
     "name": "stdout",
     "output_type": "stream",
     "text": [
      "\n",
      "    Calcula os operadores diferenciais para primeira e segunda derivada,\n",
      "    considerando uma malha equidistante, com um erro da ordem de dx**2.\n",
      "    \n",
      "    Parâmetros\n",
      "    ----------\n",
      "    x : (vetor)\n",
      "        Distribuição espacial dos pontos.\n",
      "    P : bool, opcional\n",
      "        Define que a condição de contorno é periódica quando True.\n",
      "        Padrão é False.\n",
      "    \n",
      "    Retorna\n",
      "    -------\n",
      "    x, Dx e Dx2, respectivamente o vetor posição e os operadores diferenciais para primeira e segunda ordem.\n",
      "    \n"
     ]
    }
   ],
   "source": [
    "print(operador_diferencial.__doc__)"
   ]
  },
  {
   "cell_type": "code",
   "execution_count": null,
   "metadata": {},
   "outputs": [],
   "source": [
    "f = np.sin(x)\n",
    "\n",
    "plt.plot(x, f, label=\"f(x)\")\n",
    "plt.plot(x, Dx.dot(f), label=\"f'(x)\")\n",
    "plt.plot(x, Dx2.dot(f), label=\"f''(x)\")\n",
    "\n",
    "plt.legend()\n",
    "plt.show()"
   ]
  },
  {
   "cell_type": "markdown",
   "metadata": {},
   "source": [
    "* Esquema em diferenças finitas, explícito, diferença para frente e com precisão de O($\\Delta x^1$):\n",
    "\n",
    "\\begin{equation}\n",
    "    \\frac{\\partial f}{\\partial t} = \\dfrac{f_{k+1}-f_{k}}{\\Delta t}\n",
    "\\end{equation}"
   ]
  },
  {
   "cell_type": "markdown",
   "metadata": {},
   "source": [
    "* Esquema em diferenças finitas, implícito, centrado e com precisão de O($\\Delta x^6$):\n",
    "\n",
    "\\begin{equation}\n",
    "    \\frac{1}{3} f_{i-1}' + f_{i}' + \\frac{1}{3} f_{i+1}' = \\frac{14}{9} \\frac{f_{i+1}-f_{i-1}}{2\\Delta x} + \\frac{1}{9} \\frac{f_{i+2}-f_{i-2}}{4\\Delta x}\n",
    "\\end{equation}\n",
    "\n",
    "\\begin{equation}\n",
    "\\begin{split}\n",
    "\\underbrace{\n",
    "\\begin{bmatrix}\n",
    "1 & 1/3 & & & & & 1/3 \\\\\n",
    "1/3 & 1 & 1/3 & & \\\\\n",
    " & \\ddots & \\ddots & \\ddots & & & \\\\\n",
    "& & 1/3 & 1 & 1/3 & \\\\\n",
    "& & & \\ddots & \\ddots & \\ddots & \\\\\n",
    "& & & & 1/3 & 1 & 1/3\\\\\n",
    "1/3 & & & & & 1/3 & 1\n",
    "\\end{bmatrix}\n",
    "}_{A}\n",
    "\\begin{bmatrix} f'_{0} \\\\ f'_{1} \\\\ \\vdots \\\\ f'_{i} \\\\ \\vdots \\\\ f'_{n-2}\\\\ f'_{n-1}\\end{bmatrix} =\n",
    "\\underbrace{\n",
    "\\frac{1}{\\Delta x}\n",
    "\\begin{bmatrix}\n",
    "0 & 7/9 & 1/36 & & & 1/36 & 7/9 \\\\\n",
    "7/9 & 0 & 7/9 & 1/36 & & & 1/36\\\\\n",
    "& \\ddots & \\ddots & \\ddots & & & \\\\\n",
    "& 1/36 & 7/9 & 0 & 7/9 & 1/36 \\\\\n",
    "& & & \\ddots & \\ddots & \\ddots & \\\\\n",
    "1/36 & & & 1/36 & 7/9 & 0 & 7/9 \\\\\n",
    "7/9 & 1/36 & & & 1/36 & 7/9 & 0\n",
    "\\end{bmatrix}\n",
    "}_{B}\n",
    "\\begin{bmatrix} f_{0} \\\\ f_{1} \\\\ \\vdots \\\\ f_{i} \\\\ \\vdots \\\\ f_{n-2}\\\\ f_{n-1}\\end{bmatrix}\n",
    "\\\\\n",
    "\\mbox{com $2\\leq i \\leq n -3$, $f_0 = f_n$ e $f_0' = f_n'$}\n",
    "\\end{split}\n",
    "\\label{eq.dxx_matrix}\n",
    "\\end{equation}\n",
    "\n",
    "\\begin{equation}\n",
    "    f' = \\underbrace{A^{-1}B}_{D_x} f\n",
    "\\end{equation}"
   ]
  },
  {
   "cell_type": "markdown",
   "metadata": {},
   "source": [
    "#### Integração\n",
    "\n",
    "Regra do Trapézio:\n",
    "\n",
    "\\begin{equation}\n",
    "\\int_a^b f(x)dx \\approx \\dfrac{f(a) + f(b)}{2} (b-a)\n",
    "\\end{equation}\n",
    "\n",
    "Pode-se dividir em $N$ intervalos\n",
    "\n",
    "\\begin{equation}\n",
    "\\begin{split}\n",
    "\\int_a^b fdx \\approx \\sum_{i=0}^{N-1} \\dfrac{f_{i-1} + f_i}{2} \\Delta x = \\\\\n",
    "\\dfrac{\\Delta x}{2} \\left( f_0 + 2f_1 + 2f_2 + \\dots + 2f_{n-3} + 2f_{n-2} + f_{n-1}\\right)\n",
    "\\end{split}\n",
    "\\end{equation}\n",
    "\n",
    "Escrito na forma matricial:\n",
    "\n",
    "\\begin{equation}\n",
    "\\int_a^b fdx = \\sum \\left(\n",
    "\\underbrace{\n",
    "\\Delta x\n",
    "\\begin{bmatrix}\n",
    "1/2 & & & & & & \\\\\n",
    "& 1 & & & & & \\\\\n",
    "& & \\ddots & & & & \\\\\n",
    "& & & 1 & & \\\\\n",
    "& & & & \\ddots & \\\\\n",
    "& & & & & 1 & \\\\\n",
    "& & & & & & 1/2\n",
    "\\end{bmatrix}\n",
    "}_{I_x = \\text{ Operador integral}}\n",
    "\\begin{bmatrix} f_{0} \\\\ f_{1} \\\\ \\vdots \\\\ f_{i} \\\\ \\vdots \\\\ f_{n-2}\\\\ f_{n-1}\\end{bmatrix}\n",
    "\\right)\n",
    "\\end{equation}"
   ]
  },
  {
   "cell_type": "code",
   "execution_count": 21,
   "metadata": {},
   "outputs": [
    {
     "data": {
      "image/png": "[encoded data removed]",
      "text/latex": [
       "$$2.220446049250313e-16$$"
      ],
      "text/plain": [
       "2.220446049250313e-16"
      ]
     },
     "execution_count": 21,
     "metadata": {},
     "output_type": "execute_result"
    }
   ],
   "source": [
    "x = np.linspace(0., 2*np.pi, num=201, endpoint=True)\n",
    "f = np.sin(x)\n",
    "\n",
    "dx = (x[1]-x[0])\n",
    "#Operador integral\n",
    "Ix = dx*sps.eye(x.size).toarray()\n",
    "\n",
    "#Condições de contorno\n",
    "for i in [0, -1]:\n",
    "    Ix[i] *= 0.5\n",
    "\n",
    "#Integral:\n",
    "Ix.dot(f).sum()"
   ]
  },
  {
   "cell_type": "markdown",
   "metadata": {},
   "source": [
    "Ou alternativamente, utilizando o `scipy`:"
   ]
  },
  {
   "cell_type": "code",
   "execution_count": 16,
   "metadata": {},
   "outputs": [
    {
     "data": {
      "image/png": "[encoded data removed]",
      "text/latex": [
       "$$0.0$$"
      ],
      "text/plain": [
       "0.0"
      ]
     },
     "execution_count": 16,
     "metadata": {},
     "output_type": "execute_result"
    }
   ],
   "source": [
    "import scipy.integrate\n",
    "sp.integrate.trapz(f,x)"
   ]
  },
  {
   "cell_type": "code",
   "execution_count": null,
   "metadata": {},
   "outputs": [],
   "source": []
  },
  {
   "cell_type": "markdown",
   "metadata": {},
   "source": [
    "* [Finite Difference Coefficients Calculator](http://web.media.mit.edu/~crtaylor/calculator.html)\n",
    "* [Trapezoidal rule](https://en.wikipedia.org/wiki/Trapezoidal_rule)\n",
    "* MOIN, Parviz. **Fundamentals of engineering numerical analysis**. Cambridge University Press, 2010."
   ]
  },
  {
   "cell_type": "markdown",
   "metadata": {},
   "source": [
    "### Fenômenos de Transporte"
   ]
  },
  {
   "cell_type": "markdown",
   "metadata": {},
   "source": [
    "#### 1D Radiação + Convecção"
   ]
  },
  {
   "cell_type": "code",
   "execution_count": null,
   "metadata": {},
   "outputs": [],
   "source": [
    "k, t1, t2, l, epsi, sigma, tviz, too, h = sm.symbols(\"k t_1 t_2 L \\epsilon \\sigma t_{viz} t_\\infty h\")"
   ]
  },
  {
   "cell_type": "code",
   "execution_count": null,
   "metadata": {},
   "outputs": [],
   "source": [
    "eq1 = sm.Eq(k*(t1-t2)/l,epsi*sigma*(t2**4.-tviz**4.)+h*(t2-too))\n",
    "eq1"
   ]
  },
  {
   "cell_type": "code",
   "execution_count": null,
   "metadata": {},
   "outputs": [],
   "source": [
    "print(eq1.subs.__doc__)"
   ]
  },
  {
   "cell_type": "code",
   "execution_count": null,
   "metadata": {},
   "outputs": [],
   "source": [
    "dic = {k: 1., t1: 0., l: 1., epsi: 1., sigma: 1., tviz: 1., too: 1., h: 1.}\n",
    "eq1.subs(dic)"
   ]
  },
  {
   "cell_type": "code",
   "execution_count": null,
   "metadata": {},
   "outputs": [],
   "source": [
    "print(sm.solve.__doc__)"
   ]
  },
  {
   "cell_type": "code",
   "execution_count": null,
   "metadata": {},
   "outputs": [],
   "source": [
    "sol = sm.solve(eq1.subs(dic), t2)"
   ]
  },
  {
   "cell_type": "code",
   "execution_count": null,
   "metadata": {},
   "outputs": [],
   "source": [
    "sol"
   ]
  },
  {
   "cell_type": "code",
   "execution_count": null,
   "metadata": {},
   "outputs": [],
   "source": [
    "for val in sol:\n",
    "    if val.is_real:\n",
    "        if val.is_positive:\n",
    "            print(val)  "
   ]
  },
  {
   "cell_type": "code",
   "execution_count": null,
   "metadata": {},
   "outputs": [],
   "source": [
    "del k, t1, t2, l, epsi, sigma, tviz, too, h, eq1, dic, sol"
   ]
  },
  {
   "cell_type": "markdown",
   "metadata": {},
   "source": [
    "### 2D(t)\n",
    "\n",
    "Uma placa de alumínio de $40cm \\times 40cm$ inicialmente possui temperatura em toda a sua extensão igual a $0^oC$. Instantaneamente , suas bordas são levadas às temperaturas de $75^oC$ em $x=0$; $50^oC$ em $x=40cm$; $0^oC$ em $y=0$ e $100^oC$ em $y=40$. A difusividade térmica do alumínio é $0,835cm^2/s$. Escolha um $\\Delta t$ adequado com o critério de estabilidade para formulação explícita e calcule a evolução da temperatura para a posição central da placa até o tempo de $400s$. Para o tempo de $200s$ apresente o perfil de temperatura em todos os pontos discretos do domínio, usando $\\Delta x=4cm$., dt=4\n",
    "\n",
    "Equação bidimensional:\n",
    "\n",
    "\\begin{equation}\n",
    "\\alpha \\left( \\dfrac{\\partial ^2 T}{\\partial x^2} + \\dfrac{\\partial ^2 T}{\\partial y^2} \\right) =\\dfrac{\\partial T}{\\partial t}\n",
    "\\end{equation}\n",
    "\n",
    "Discretizando com a derivada segunda numa representação por diferença central e a derivada primeira com diferença ascendente:\n",
    "\n",
    "\\begin{equation}\n",
    "\\dfrac{T^{n+1}_{l,j}-T^{n}_{l,j}}{\\Delta t}=\\alpha \\left[ \\dfrac{T^{n}_{l-1,j}-2T^{n}_{l,j}+T^{n}_{l+1,j}}{(\\Delta x)^2} +\\dfrac{T^{n}_{l,j-1}-2T^{n}_{l,j}+T^{n}_{l,j+1}}{(\\Delta y)^2}  \\right]\n",
    "\\end{equation}"
   ]
  },
  {
   "cell_type": "code",
   "execution_count": null,
   "metadata": {},
   "outputs": [],
   "source": [
    "x = np.linspace(0., 40., num=11, endpoint=True)\n",
    "y = np.linspace(0., 40., num=11, endpoint=True)\n",
    "t = np.linspace(0., 400., num=101, endpoint=True)\n",
    "\n",
    "a =0.835\n",
    "\n",
    "T = np.zeros((x.size,y.size,t.size))\n",
    "\n",
    "T[0,:,:] = 75.\n",
    "T[-1,:,:] = 50.\n",
    "T[:,0,:] = 0.\n",
    "T[:,-1,:] = 100."
   ]
  },
  {
   "cell_type": "code",
   "execution_count": null,
   "metadata": {},
   "outputs": [],
   "source": [
    "dt = t[1]-t[0]\n",
    "dx2 = (x[1]-x[0])**2.\n",
    "dy2 = (y[1]-y[0])**2.\n",
    "for n in range(t.size-1):\n",
    "    for i in range(1,x.size-1):\n",
    "        for j in range(1,y.size-1):\n",
    "            T[i,j,n+1] = dt*a*((T[i-1,j,n]-2.*T[i,j,n]+T[i+1,j,n])/dx2+(T[i,j-1,n]-2.*T[i,j,n]+T[i,j+1,n])/dy2)+T[i,j,n]"
   ]
  },
  {
   "cell_type": "code",
   "execution_count": null,
   "metadata": {},
   "outputs": [],
   "source": [
    "#Adicionar subplot\n",
    "fig, ax = plt.subplots(nrows=1, ncols=5, sharex=True, sharey=True)\n",
    "\n",
    "for i, n in enumerate(T[:,:,::25].T):\n",
    "    ax[i].imshow(n)\n",
    "    ax[i].set_title('t={}'.format(t[i*25]))\n",
    "    \n",
    "plt.show()"
   ]
  },
  {
   "cell_type": "code",
   "execution_count": null,
   "metadata": {
    "scrolled": true
   },
   "outputs": [],
   "source": [
    "plt.plot(t, T[5,5,:])\n",
    "plt.title('Evolução da temperatura no centro da placa')\n",
    "plt.xlabel('t')\n",
    "plt.ylabel('T')\n",
    "plt.show()"
   ]
  },
  {
   "cell_type": "code",
   "execution_count": null,
   "metadata": {},
   "outputs": [],
   "source": [
    "del T, x, y, t, a, dx2, dy2, dt, i, n"
   ]
  },
  {
   "cell_type": "markdown",
   "metadata": {},
   "source": [
    "#### Convecção / Difusão\n",
    "\n",
    "Resolver a EDP:\n",
    "\\begin{equation}\n",
    "    \\dfrac{\\partial T}{\\partial t}+u\\dfrac{\\partial T}{\\partial x}=\\alpha \\dfrac{\\partial^2 T}{\\partial x^2} \\quad 0\\leq x \\leq 1 ; 0\\leq t \\leq 8\n",
    "\\end{equation}\n",
    "Condições de contorno:\n",
    "\\begin{equation}\n",
    "    T(0,t)=T(1,t)=0\n",
    "\\end{equation}\n",
    "Condição inicial:\n",
    "\\begin{equation}\n",
    "    T(x,0)=  \\left\\{ \\begin{tabular}{c l}\n",
    "0 & se \\\\\n",
    "0 & se \\end{tabular}\n",
    "\\right.\n",
    "\\end{equation}\n",
    "\n",
    "Discretizando com a derivada segunda numa representação por diferença central e a derivada primeira com diferença ascendente:\n",
    "\\begin{equation}\n",
    "\\dfrac{T_{i,k+1}-T_{i,k}}{\\Delta t}=\\alpha \\dfrac{T_{i-1,k}-2T_{i,k}+T_{i+1,k}}{(\\Delta x)^2} -u\\dfrac{T_{i+1,k}-T_{i-1,k}}{2\\Delta x}\n",
    "\\end{equation}"
   ]
  },
  {
   "cell_type": "markdown",
   "metadata": {},
   "source": [
    "O problema pode ser escrito na forma matricial como:\n",
    "\\begin{equation}\n",
    "\\begin{split}\n",
    "\\begin{bmatrix} T_{0,k+1} \\\\ T_{1,k+1} \\\\ \\vdots \\\\ T_{i,k+1} \\\\ \\vdots \\\\ T_{n-2,k+1}\\\\ T_{n-1,k+1}\\end{bmatrix} =\n",
    "\\begin{bmatrix} T_{0,k} \\\\ T_{1,k} \\\\ \\vdots \\\\ T_{i,k} \\\\ \\vdots \\\\ T_{n-2,k}\\\\ T_{n-1,k}\\end{bmatrix} +\n",
    "\\frac{\\alpha \\Delta t}{(\\Delta x)^2}\n",
    "\\begin{bmatrix}\n",
    "0 & 0 & & & & & \\\\\n",
    "1 & -2 & 1 & & \\\\\n",
    " & \\ddots & \\ddots & \\ddots & & & \\\\\n",
    "& & 1 & -2 & 1 & \\\\\n",
    "& & & \\ddots & \\ddots & \\ddots & \\\\\n",
    "& & & & 1 & -2 & 1\\\\\n",
    " & & & & & 0 & 0\n",
    "\\end{bmatrix}\n",
    "\\begin{bmatrix} T_{0,k} \\\\ T_{1,k} \\\\ \\vdots \\\\ T_{i,k} \\\\ \\vdots \\\\ T_{n-2,k}\\\\ T_{n-1,k}\\end{bmatrix} -\n",
    "\\frac{u \\Delta t}{2\\Delta x}\n",
    "\\begin{bmatrix}\n",
    "0 & 0 & & & & & \\\\\n",
    "-1 & 0 & 1 & & \\\\\n",
    " & \\ddots & \\ddots & \\ddots & & & \\\\\n",
    "& & -1 & 0 & 1 & \\\\\n",
    "& & & \\ddots & \\ddots & \\ddots & \\\\\n",
    "& & & & -1 & 0 & 1\\\\\n",
    " & & & & & 0 & 0\n",
    "\\end{bmatrix}\n",
    "\\begin{bmatrix} T_{0,k} \\\\ T_{1,k} \\\\ \\vdots \\\\ T_{i,k} \\\\ \\vdots \\\\ T_{n-2,k}\\\\ T_{n-1,k}\\end{bmatrix}\n",
    "\\\\\n",
    "\\mbox{com $2\\leq i \\leq n -3$,}\n",
    "\\end{split}\n",
    "\\label{eq.dxx_matrix}\n",
    "\\end{equation}"
   ]
  },
  {
   "cell_type": "markdown",
   "metadata": {},
   "source": [
    "ou simplesmente:\n",
    "\\begin{equation}\n",
    "   T_{k+1} = T_{k} + \\underbrace{ \\Delta t \\left( \\alpha D_x - u D_x^2 \\right)}_{A} T_{k},\n",
    "\\end{equation}\n",
    "onde $D_x$ e $D_x^2$ são os operadores diferenciais de primeira e segunda ordem, respectivamente."
   ]
  },
  {
   "cell_type": "code",
   "execution_count": null,
   "metadata": {},
   "outputs": [],
   "source": [
    "import scipy.sparse as sps\n",
    "\n",
    "x = np.linspace(0., 1, num=101, endpoint=True)\n",
    "t = np.linspace(0., 8., num=8001, endpoint=True)\n",
    "\n",
    "dx = (x[-1]-x[0])/(x.size-1)\n",
    "dt = (t[-1]-t[0])/(t.size-1)\n",
    "\n",
    "#Operador diferencial de primeira ordem\n",
    "Dx = sps.diags([-1., 0., 1.],\n",
    "              offsets=[-1, 0, 1],\n",
    "              shape=(x.size,x.size)\n",
    "              ).toarray()\n",
    "\n",
    "#Operador diferencial de segunda ordem\n",
    "Dx2 = sps.diags([1., -2., 1.],\n",
    "              offsets=[-1, 0, 1],\n",
    "              shape=(x.size,x.size)\n",
    "               ).toarray()\n",
    "\n",
    "#Condições de contorno\n",
    "for D in [Dx, Dx2]:\n",
    "    D[0,:] = 0.\n",
    "    D[-1,:] = 0."
   ]
  },
  {
   "cell_type": "code",
   "execution_count": null,
   "metadata": {},
   "outputs": [],
   "source": [
    "def convdiff(alpha, u):\n",
    "\n",
    "    #Condição inicial\n",
    "    T = np.zeros((x.size))\n",
    "    for i, ival in enumerate(x):\n",
    "        if ival > 0.2:\n",
    "            break\n",
    "        T[i] = 1. - (10. * ival - 1)**2.\n",
    "\n",
    "    A = dt*(alpha*Dx2/(dx)**2.-u*Dx/(2.*dx))\n",
    "    \n",
    "    return A, T"
   ]
  },
  {
   "cell_type": "code",
   "execution_count": null,
   "metadata": {},
   "outputs": [],
   "source": [
    "#Parâmetro de visualização: a cada quantos passos de tempo se deve graficar os resultados\n",
    "visu = 2000. \n",
    "\n",
    "alpha, u = 0.001, 0.08\n",
    "\n",
    "A, T = convdiff(alpha, u)\n",
    "\n",
    "for n in range(t.size):\n",
    "    T += A.dot(T)\n",
    "    if n % visu == 0:\n",
    "        plt.plot(x, T, label='t={}'.format(t[n]))\n",
    "\n",
    "plt.xlabel('x')\n",
    "plt.ylabel('T(x)')\n",
    "plt.legend()\n",
    "plt.show()"
   ]
  },
  {
   "cell_type": "code",
   "execution_count": null,
   "metadata": {},
   "outputs": [],
   "source": [
    "fig, ax = plt.subplots(nrows=3, ncols=3, sharex=True, sharey=True)\n",
    "\n",
    "for i, alpha in enumerate([0., 0.0005, 0.001]):\n",
    "    for j, u in enumerate([0., 0.04, 0.08]):\n",
    "        A, T = convdiff(alpha, u)\n",
    "        for n in range(t.size):\n",
    "            T += A.dot(T)\n",
    "            if n % visu == 0:\n",
    "                ax[i,j].plot(x, T, label='t={}'.format(t[n]))\n",
    "                ax[-1,j].set_xlabel(r'$u = {}$'.format(u))\n",
    "                ax[i,0].set_ylabel(r'$\\alpha = {}$'.format(alpha))\n",
    "\n",
    "plt.show()"
   ]
  },
  {
   "cell_type": "code",
   "execution_count": null,
   "metadata": {},
   "outputs": [],
   "source": [
    "del x, t, dx, dt, D, Dx, Dx2, visu, alpha, u, A, T\n",
    "plt.close('all')"
   ]
  },
  {
   "cell_type": "markdown",
   "metadata": {},
   "source": [
    "### Vibrações Mecânicas"
   ]
  },
  {
   "cell_type": "markdown",
   "metadata": {},
   "source": [
    "### Controle e Automação"
   ]
  },
  {
   "cell_type": "markdown",
   "metadata": {},
   "source": [
    "### Engenharia Econômica"
   ]
  },
  {
   "cell_type": "markdown",
   "metadata": {},
   "source": [
    "## Exercícios Propostos"
   ]
  },
  {
   "cell_type": "markdown",
   "metadata": {},
   "source": [
    "### Eletronica"
   ]
  },
  {
   "cell_type": "markdown",
   "metadata": {},
   "source": [
    "<img src=\"circuit.png\" width=\"480\">"
   ]
  },
  {
   "cell_type": "markdown",
   "metadata": {},
   "source": [
    "Pela primeira lei de Kirchhoff:\n",
    "\\begin{equation}\n",
    "    I_1 + I_2 - I_3 = 0\n",
    "\\end{equation}\n",
    "\n",
    "Pela segunda lei de Kirchhoff:\n",
    "\\begin{equation}\n",
    "R_4 I_1 + R_3 I_3 + R_1 I_1 = V_1\n",
    "\\end{equation}\n",
    "\\begin{equation}\n",
    "R_5 I_2 + R_3 I_3 + R_2 I_2 = V_2\n",
    "\\end{equation}"
   ]
  },
  {
   "cell_type": "code",
   "execution_count": null,
   "metadata": {},
   "outputs": [],
   "source": [
    "r1, r2, r3, r4, r5 = 10., 22., 47., 22., 10.\n",
    "v1, v2 = 9., 9.\n",
    "\n",
    "A = [[1., 1., -1.],\n",
    "     [r1+r4, 0., r3],\n",
    "     [0., r2+r5, r3]]\n",
    "\n",
    "B = [0., v1, v2]"
   ]
  },
  {
   "cell_type": "code",
   "execution_count": null,
   "metadata": {},
   "outputs": [],
   "source": [
    "I = np.linalg.solve(A,B)"
   ]
  },
  {
   "cell_type": "code",
   "execution_count": null,
   "metadata": {},
   "outputs": [],
   "source": [
    "for i, ival in enumerate(I):\n",
    "    print('I{} = {}'.format(i, ival))"
   ]
  },
  {
   "cell_type": "markdown",
   "metadata": {},
   "source": [
    "### Resistência dos Materiais"
   ]
  },
  {
   "cell_type": "markdown",
   "metadata": {},
   "source": [
    "<img src=\"trelica.png\" width=\"640\">"
   ]
  },
  {
   "cell_type": "markdown",
   "metadata": {},
   "source": [
    "\\begin{equation}\n",
    "  F_{1x} - F_{12} - \\cos(30^o) F_{15} = 0\\\\\n",
    "  F_{1y} - \\sin(30^o) F_{15} = 0 \\\\\n",
    "  F_{12} - F_{23} + \\cos(60^o) F_{25} - \\cos(60^o) F_{27} = 0 \\\\\n",
    "  - \\sin(60^o) F_{25} - \\sin(60^o) F_{27} = 0 \\\\\n",
    "  F_{23} - F_{34} + \\cos(60^o) F_{37} - \\cos(60^o) F_{36} = 0 \\\\\n",
    "  - \\sin(60^o) F_{37} - \\sin(60^o) F_{36} = 0 \\\\\n",
    "  F_{34} + \\cos(30^o) F_{46} = 0 \\\\\n",
    "  F_{4y} - \\sin(30^o) F_{46} = 0 \\\\\n",
    "  \\cos(30^o) F_{15} - \\cos(60^o) F_{25} - \\cos(30^o) F_{57} = 0 \\\\\n",
    "  \\sin(30^o) F_{15} + \\sin(60^o) F_{25} - \\sin(30^o) F_{57} - F_{5} = 0 \\\\\n",
    "   - \\cos(30^o) F_{46} + \\cos(60^o) F_{36} + \\cos(30^o) F_{67} = 0 \\\\\n",
    "  \\sin(30^o) F_{46} + \\sin(60^o) F_{36} - \\sin(30^o) F_{67} - F_{6} = 0 \\\\\n",
    "  \\cos(30^o) F_{57} + \\cos(60^o) F_{27} - \\cos(30^o) F_{67} - \\cos(60^o) F_{37} = 0 \\\\\n",
    "  \\sin(30^o) F_{57} + \\sin(60^o) F_{27} + \\sin(30^o) F_{67} + \\sin(60^o) F_{37} - F_7 = 0\n",
    "\\end{equation}"
   ]
  },
  {
   "cell_type": "markdown",
   "metadata": {},
   "source": [
    "\\begin{equation}\n",
    "\\begin{split}\n",
    "\\begin{bmatrix}\n",
    "1\t&\t0\t&\t0\t&\t-\\cos\t&\t-1\t&\t0\t&\t0\t&\t0\t&\t0\t&\t0\t&\t0\t&\t0\t&\t0\t&\t0\t\\\\\n",
    "0\t&\t1\t&\t0\t&\t-\\sin\t&\t0\t&\t0\t&\t0\t&\t0\t&\t0\t&\t0\t&\t0\t&\t0\t&\t0\t&\t0\t\\\\\n",
    "0\t&\t0\t&\t0\t&\t0\t&\t1\t&\t-1\t&\t\\sin\t&\t-\\sin\t&\t0\t&\t0\t&\t0\t&\t0\t&\t0\t&\t0\t\\\\\n",
    "0\t&\t0\t&\t0\t&\t0\t&\t0\t&\t0\t&\t-\\cos\t&\t-\\cos\t&\t0\t&\t0\t&\t0\t&\t0\t&\t0\t&\t0\t\\\\\n",
    "0\t&\t0\t&\t0\t&\t0\t&\t0\t&\t1\t&\t0\t&\t0\t&\t-1\t&\t-\\sin\t&\t\\sin\t&\t0\t&\t0\t&\t0\t\\\\\n",
    "0\t&\t0\t&\t0\t&\t0\t&\t0\t&\t0\t&\t0\t&\t0\t&\t0\t&\t-\\cos\t&\t-\\cos\t&\t0\t&\t0\t&\t0\t\\\\\n",
    "0\t&\t0\t&\t0\t&\t0\t&\t0\t&\t0\t&\t0\t&\t0\t&\t1\t&\t0\t&\t0\t&\t\\cos\t&\t0\t&\t0\t\\\\\n",
    "0\t&\t0\t&\t1\t&\t0\t&\t0\t&\t0\t&\t0\t&\t0\t&\t0\t&\t0\t&\t0\t&\t-\\sin\t&\t0\t&\t0\t\\\\\n",
    "0\t&\t0\t&\t0\t&\t\\cos\t&\t0\t&\t0\t&\t-\\sin\t&\t0\t&\t0\t&\t0\t&\t0\t&\t0\t&\t-\\cos\t&\t0\t\\\\\n",
    "0\t&\t0\t&\t0\t&\t\\sin\t&\t0\t&\t0\t&\t\\cos\t&\t0\t&\t0\t&\t0\t&\t0\t&\t0\t&\t-\\sin\t&\t0\t\\\\\n",
    "0\t&\t0\t&\t0\t&\t0\t&\t0\t&\t0\t&\t0\t&\t0\t&\t0\t&\t\\sin\t&\t0\t&\t-\\cos\t&\t0\t&\t\\cos\t\\\\\n",
    "0\t&\t0\t&\t0\t&\t0\t&\t0\t&\t0\t&\t0\t&\t0\t&\t0\t&\t\\cos\t&\t0\t&\t\\sin\t&\t0\t&\t-\\sin\t\\\\\n",
    "0\t&\t0\t&\t0\t&\t0\t&\t0\t&\t0\t&\t0\t&\t\\sin\t&\t0\t&\t0\t&\t-\\sin\t&\t0\t&\t\\cos\t&\t-\\cos\t\\\\\n",
    "0\t&\t0\t&\t0\t&\t0\t&\t0\t&\t0\t&\t0\t&\t\\cos\t&\t0\t&\t0\t&\t\\cos\t&\t0\t&\t\\sin\t&\t\\sin\n",
    "\\end{bmatrix}\n",
    "\\begin{bmatrix}\n",
    "F_{1x} \\\\ F_{1y} \\\\ F_{4y} \\\\ F_{15} \\\\ F_{12} \\\\ F_{23} \\\\ F_{25} \\\\ F_{27} \\\\ F_{34} \\\\ F_{36} \\\\ F_{37} \\\\ F_{46} \\\\ F_{57} \\\\ F_{67}\n",
    "\\end{bmatrix}\n",
    "=\n",
    "\\begin{bmatrix} 0 \\\\ 0 \\\\ 0 \\\\ 0 \\\\ 0 \\\\ 0 \\\\ 0 \\\\ 0 \\\\ 0 \\\\ F_5 \\\\ 0 \\\\ F_6 \\\\ 0 \\\\ F_7 \\end{bmatrix}\n",
    "\\end{split}\n",
    "\\end{equation}"
   ]
  },
  {
   "cell_type": "code",
   "execution_count": null,
   "metadata": {},
   "outputs": [],
   "source": [
    "angle = np.deg2rad(30.)\n",
    "F5, F6, F6 = 1., 1., 2.\n",
    "cos, sin = np.cos(angle), np.sin(angle)"
   ]
  },
  {
   "cell_type": "code",
   "execution_count": null,
   "metadata": {},
   "outputs": [],
   "source": [
    "A = np.array([[1.,0.,0.,-cos,-1.,0.,0.,0.,0.,0.,0.,0.,0.,0.],\n",
    "             [0.,1.,0.,-sin,0.,0.,0.,0.,0.,0.,0.,0.,0.,0.],\n",
    "             [0.,0.,0.,0.,1.,-1.,sin,-sin,0.,0.,0.,0.,0.,0.],\n",
    "             [0.,0.,0.,0.,0.,0.,-cos,-cos,0.,0.,0.,0.,0.,0.],\n",
    "             [0.,0.,0.,0.,0.,1.,0.,0.,-1.,-sin,sin,0.,0.,0.],\n",
    "             [0.,0.,0.,0.,0.,0.,0.,0.,0.,-cos,-cos,0.,0.,0.],\n",
    "             [0.,0.,0.,0.,0.,0.,0.,0.,1.,0.,0.,cos,0.,0.],\n",
    "             [0.,0.,1.,0.,0.,0.,0.,0.,0.,0.,0.,-sin,0.,0.],\n",
    "             [0.,0.,0.,cos,0.,0.,-sin,0.,0.,0.,0.,0.,-cos,0.],\n",
    "             [0.,0.,0.,sin,0.,0.,cos,0.,0.,0.,0.,0.,-sin,0.],\n",
    "             [0.,0.,0.,0.,0.,0.,0.,0.,0.,sin,0.,-cos,0.,cos],\n",
    "             [0.,0.,0.,0.,0.,0.,0.,0.,0.,cos,0.,sin,0.,-sin],\n",
    "             [0.,0.,0.,0.,0.,0.,0.,sin,0.,0.,-sin,0.,cos,-cos],\n",
    "             [0.,0.,0.,0.,0.,0.,0.,cos,0.,0.,cos,0.,sin,sin]])\n",
    "\n",
    "B = np.array([0.,0.,0.,0.,0.,0.,0.,0.,0.,F5,0.,F6,0.,F7])"
   ]
  },
  {
   "cell_type": "code",
   "execution_count": null,
   "metadata": {},
   "outputs": [],
   "source": [
    "I = np.linalg.solve(A,B)\n",
    "#from scipy.sparse.linalg import lsqr\n",
    "#I = lsqr(A,B)[0]"
   ]
  },
  {
   "cell_type": "code",
   "execution_count": null,
   "metadata": {},
   "outputs": [],
   "source": [
    "for i, key in enumerate(['F1x','F1y','F4y','F15','F12','F23','F25','F27','F34','F36','F37','F46','F57','F67']):\n",
    "    print(i,key,I[i])"
   ]
  },
  {
   "cell_type": "code",
   "execution_count": null,
   "metadata": {},
   "outputs": [],
   "source": [
    "l = 2. #[m]\n",
    "angle = np.deg2rad(30.)\n",
    "\n",
    "#T=O/A\n",
    "\n",
    "points = {'1': [0., 0.],\n",
    "          '2': [l, 0.],\n",
    "          '3': [2.*l, 0.],\n",
    "          '4': [3.*l, 0.],\n",
    "          '5': [.75*l, .75*l*np.tan(angle)],\n",
    "          '6': [2.25*l, .75*l*np.tan(angle)],\n",
    "          '7': [1.5*l, 1.5*l*np.tan(angle)]\n",
    "          }"
   ]
  },
  {
   "cell_type": "code",
   "execution_count": null,
   "metadata": {},
   "outputs": [],
   "source": [
    "for key, p in points.items():\n",
    "    #print(key, p)\n",
    "    plt.scatter(p[0], p[1], label=key)\n",
    "#plt.legend()\n",
    "plt.show()"
   ]
  },
  {
   "cell_type": "code",
   "execution_count": null,
   "metadata": {},
   "outputs": [],
   "source": []
  }
 ],
 "metadata": {
  "celltoolbar": "Slideshow",
  "kernelspec": {
   "display_name": "Python 3",
   "language": "python",
   "name": "python3"
  },
  "language_info": {
   "codemirror_mode": {
    "name": "ipython",
    "version": 3
   },
   "file_extension": ".py",
   "mimetype": "text/x-python",
   "name": "python",
   "nbconvert_exporter": "python",
   "pygments_lexer": "ipython3",
   "version": "3.7.2"
  },
  "toc": {
   "base_numbering": 1,
   "nav_menu": {},
   "number_sections": true,
   "sideBar": true,
   "skip_h1_title": true,
   "title_cell": "Sumário",
   "title_sidebar": "Sumário",
   "toc_cell": true,
   "toc_position": {
    "height": "calc(100% - 180px)",
    "left": "10px",
    "top": "150px",
    "width": "334.6px"
   },
   "toc_section_display": true,
   "toc_window_display": true
  },
  "varInspector": {
   "cols": {
    "lenName": 16,
    "lenType": 16,
    "lenVar": 40
   },
   "kernels_config": {
    "python": {
     "delete_cmd_postfix": "",
     "delete_cmd_prefix": "del ",
     "library": "var_list.py",
     "varRefreshCmd": "print(var_dic_list())"
    },
    "r": {
     "delete_cmd_postfix": ") ",
     "delete_cmd_prefix": "rm(",
     "library": "var_list.r",
     "varRefreshCmd": "cat(var_dic_list()) "
    }
   },
   "oldHeight": 413.85,
   "position": {
    "height": "576.85px",
    "left": "1476px",
    "right": "20px",
    "top": "189px",
    "width": "342px"
   },
   "types_to_exclude": [
    "module",
    "function",
    "builtin_function_or_method",
    "instance",
    "_Feature"
   ],
   "varInspector_section_display": "block",
   "window_display": false
  }
 },
 "nbformat": 4,
 "nbformat_minor": 2
}
