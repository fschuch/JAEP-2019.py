{
 "cells": [
  {
   "cell_type": "markdown",
   "metadata": {
    "slideshow": {
     "slide_type": "slide"
    }
   },
   "source": [
    "<img src=\"JEAP.jpg\" width=\"720\">"
   ]
  },
  {
   "cell_type": "markdown",
   "metadata": {
    "slideshow": {
     "slide_type": "slide"
    },
    "toc": true
   },
   "source": [
    "<h1>Sumário<span class=\"tocSkip\"></span></h1>\n",
    "<div class=\"toc\"><ul class=\"toc-item\"><li><span><a href=\"#Introdução\" data-toc-modified-id=\"Introdução-1\"><span class=\"toc-item-num\">1&nbsp;&nbsp;</span>Introdução</a></span><ul class=\"toc-item\"><li><span><a href=\"#Sobre-o-autor\" data-toc-modified-id=\"Sobre-o-autor-1.1\"><span class=\"toc-item-num\">1.1&nbsp;&nbsp;</span>Sobre o autor</a></span></li><li><span><a href=\"#Sobre-o-material\" data-toc-modified-id=\"Sobre-o-material-1.2\"><span class=\"toc-item-num\">1.2&nbsp;&nbsp;</span>Sobre o material</a></span></li><li><span><a href=\"#Porque-Python?\" data-toc-modified-id=\"Porque-Python?-1.3\"><span class=\"toc-item-num\">1.3&nbsp;&nbsp;</span>Porque Python?</a></span></li><li><span><a href=\"#Porque-Jupyter-Notebooks?\" data-toc-modified-id=\"Porque-Jupyter-Notebooks?-1.4\"><span class=\"toc-item-num\">1.4&nbsp;&nbsp;</span>Porque Jupyter Notebooks?</a></span></li><li><span><a href=\"#Material-Complementar\" data-toc-modified-id=\"Material-Complementar-1.5\"><span class=\"toc-item-num\">1.5&nbsp;&nbsp;</span>Material Complementar</a></span></li></ul></li><li><span><a href=\"#Revisão\" data-toc-modified-id=\"Revisão-2\"><span class=\"toc-item-num\">2&nbsp;&nbsp;</span>Revisão</a></span><ul class=\"toc-item\"><li><span><a href=\"#Listas\" data-toc-modified-id=\"Listas-2.1\"><span class=\"toc-item-num\">2.1&nbsp;&nbsp;</span>Listas</a></span></li><li><span><a href=\"#Dicionários\" data-toc-modified-id=\"Dicionários-2.2\"><span class=\"toc-item-num\">2.2&nbsp;&nbsp;</span>Dicionários</a></span></li><li><span><a href=\"#Módulos\" data-toc-modified-id=\"Módulos-2.3\"><span class=\"toc-item-num\">2.3&nbsp;&nbsp;</span>Módulos</a></span></li><li><span><a href=\"#Principais-Bibliotecas\" data-toc-modified-id=\"Principais-Bibliotecas-2.4\"><span class=\"toc-item-num\">2.4&nbsp;&nbsp;</span>Principais Bibliotecas</a></span></li><li><span><a href=\"#Fortran-vs.-Python\" data-toc-modified-id=\"Fortran-vs.-Python-2.5\"><span class=\"toc-item-num\">2.5&nbsp;&nbsp;</span>Fortran vs. Python</a></span></li></ul></li><li><span><a href=\"#Exercícios-Resolvidos\" data-toc-modified-id=\"Exercícios-Resolvidos-3\"><span class=\"toc-item-num\">3&nbsp;&nbsp;</span>Exercícios Resolvidos</a></span><ul class=\"toc-item\"><li><span><a href=\"#Métodos-numéricos\" data-toc-modified-id=\"Métodos-numéricos-3.1\"><span class=\"toc-item-num\">3.1&nbsp;&nbsp;</span>Métodos numéricos</a></span></li><li><span><a href=\"#Fenômenos-de-Transporte\" data-toc-modified-id=\"Fenômenos-de-Transporte-3.2\"><span class=\"toc-item-num\">3.2&nbsp;&nbsp;</span>Fenômenos de Transporte</a></span></li><li><span><a href=\"#Vibrações-Mecânicas\" data-toc-modified-id=\"Vibrações-Mecânicas-3.3\"><span class=\"toc-item-num\">3.3&nbsp;&nbsp;</span>Vibrações Mecânicas</a></span></li><li><span><a href=\"#Engenharia-Econômica\" data-toc-modified-id=\"Engenharia-Econômica-3.4\"><span class=\"toc-item-num\">3.4&nbsp;&nbsp;</span>Engenharia Econômica</a></span></li><li><span><a href=\"#Eletrônica\" data-toc-modified-id=\"Eletrônica-3.5\"><span class=\"toc-item-num\">3.5&nbsp;&nbsp;</span>Eletrônica</a></span></li><li><span><a href=\"#Resistência-dos-Materiais\" data-toc-modified-id=\"Resistência-dos-Materiais-3.6\"><span class=\"toc-item-num\">3.6&nbsp;&nbsp;</span>Resistência dos Materiais</a></span></li></ul></li><li><span><a href=\"#Exercícios-Propostos\" data-toc-modified-id=\"Exercícios-Propostos-4\"><span class=\"toc-item-num\">4&nbsp;&nbsp;</span>Exercícios Propostos</a></span></li></ul></div>"
   ]
  },
  {
   "cell_type": "markdown",
   "metadata": {
    "slideshow": {
     "slide_type": "slide"
    }
   },
   "source": [
    "## Introdução\n",
    "\n",
    "### Sobre o autor\n",
    "\n",
    "Possui graduação em Engenharia Mecânica pela Pontifícia Universidade Católica do Rio Grande do Sul (2013) e Mestrado em Engenharia e Tecnologia de Materiais pela mesma instituição. Atualmente atua como doutorando no Laboratório de Simulação de Escoamentos Turbulentos, Escola Politécnica da PUCRS. Possui experiencia em mecânica dos fluidos computacional, simulação numérica direta, simulação de grandes escalas, fenômenos de transporte, programação, programação paralela e métodos numéricos.\n",
    "\n",
    "> **Felipe Nornberg Schuch**,<br>\n",
    "> Laboratório de Simulação de Escoamentos Turbulentos (LaSET),<br>\n",
    "> Escola Politécnica, Pontifícia Universidade Católica do Rio Grande do Sul.<br>\n",
    "> felipe.schuch@edu.pucrs.br"
   ]
  },
  {
   "cell_type": "markdown",
   "metadata": {
    "slideshow": {
     "slide_type": "subslide"
    }
   },
   "source": [
    "### Sobre o material\n",
    "\n",
    "* O objetivo desta palestra é **introduzir os principais conceitos empregados em programação e Python**, mais especificamente no contexto interativo da plataforma Jupyter Notebook;\n",
    "* Além de demonstrar como **solucionar diversos problemas de engenharia** por meio de propostas computacionais;\n",
    "* Para tanto, o material inclui uma breve **revisão de conceitos fundamentais**, estruturas de dados e as principais bibliotecas científicas disponíveis. Para maiores detalhes, **pode-se consultar a documentação disponível** ou mesmo as diversas leituras recomendadas que aparecem no decorrer do texto.\n",
    "* Finalmente, **a prática leva a perfeição**, há uma série de exercícios propostos ao final do material, visando a fixação do conhecimento."
   ]
  },
  {
   "cell_type": "markdown",
   "metadata": {
    "slideshow": {
     "slide_type": "skip"
    }
   },
   "source": [
    "### Porque Python?"
   ]
  },
  {
   "cell_type": "markdown",
   "metadata": {
    "slideshow": {
     "slide_type": "subslide"
    }
   },
   "source": [
    "<img src=\"notebook.png\">"
   ]
  },
  {
   "cell_type": "markdown",
   "metadata": {
    "slideshow": {
     "slide_type": "skip"
    }
   },
   "source": [
    "* [10 motivos para você aprender Python](https://www.hostgator.com.br/blog/10-motivos-para-voce-aprender-python/)"
   ]
  },
  {
   "cell_type": "markdown",
   "metadata": {
    "slideshow": {
     "slide_type": "subslide"
    }
   },
   "source": [
    "### Porque Jupyter Notebooks?\n",
    "\n",
    "* Ferramenta web interativa, grátis, de código aberto;\n",
    "* Exploração de dados. Permite executar o código, ver o que acontece, modificar e repetir, onde o cientista tem uma *\"conversa\"* com os dados disponíveis;\n",
    "* Útil para a criação de tutoriais interativos;\n",
    "* Ele fala a nossa língua. Disponível para várias liguagens de programação, como Python, Julia, R e Fortran;\n",
    "* É possível combinar o código com células `Markdown`, para renderizar equações e tabelas, inserir figuras e explicações para o código;\n",
    "* Facilmente extensível para apresentações de slides.\n"
   ]
  },
  {
   "cell_type": "markdown",
   "metadata": {
    "slideshow": {
     "slide_type": "subslide"
    }
   },
   "source": [
    "Material complementar:\n",
    "* [Markdown quick reference](https://en.support.wordpress.com/markdown-quick-reference/)\n",
    "* [Jupyter tools to increase productivity](https://towardsdatascience.com/jupyter-tools-to-increase-productivity-7b3c6b90be09)\n",
    "* [LaTeX/Mathematics](https://en.wikibooks.org/wiki/LaTeX/Mathematics)\n",
    "* [Why Jupyter is data scientists’ computational notebook of choice](https://www.nature.com/articles/d41586-018-07196-1)\n",
    "* [5 reasons why jupyter notebooks suck](https://towardsdatascience.com/5-reasons-why-jupyter-notebooks-suck-4dc201e27086)"
   ]
  },
  {
   "cell_type": "markdown",
   "metadata": {
    "slideshow": {
     "slide_type": "skip"
    }
   },
   "source": [
    "### Material Complementar\n",
    "\n",
    "* [12 Steps to Navier-Stokes](https://github.com/barbagroup/CFDPython)\n",
    "* [An example machine learning notebook](https://nbviewer.jupyter.org/github/rhiever/Data-Analysis-and-Machine-Learning-Projects/blob/master/example-data-science-notebook/Example%2520Machine%2520Learning%2520Notebook.ipynb)\n",
    "* [Mythbusters Demo GPU versus CPU](https://www.youtube.com/watch?v=-P28LKWTzrI)\n",
    "* [Why I write with LaTeX (and why you should too)](https://medium.com/@marko_kovic/why-i-write-with-latex-and-why-you-should-too-ba6a764fadf9)\n",
    "* [New Developer? You should’ve learned Git yesterday](https://codeburst.io/number-one-piece-of-advice-for-new-developers-ddd08abc8bfa)"
   ]
  },
  {
   "cell_type": "markdown",
   "metadata": {
    "slideshow": {
     "slide_type": "slide"
    }
   },
   "source": [
    "## Revisão"
   ]
  },
  {
   "cell_type": "code",
   "execution_count": 1,
   "metadata": {
    "slideshow": {
     "slide_type": "fragment"
    }
   },
   "outputs": [
    {
     "name": "stdout",
     "output_type": "stream",
     "text": [
      "Olá mundo\n"
     ]
    }
   ],
   "source": [
    "'''\n",
    "Isso é um comentário\n",
    "'''\n",
    "\n",
    "print(\"Olá mundo\")\n",
    "\n",
    "# Isso também é um comentário"
   ]
  },
  {
   "cell_type": "code",
   "execution_count": 2,
   "metadata": {
    "slideshow": {
     "slide_type": "fragment"
    }
   },
   "outputs": [],
   "source": [
    "# Declarando variáveis\n",
    "i = 5        #inteiro\n",
    "f = 6.7      #ponto flutuante\n",
    "g = 1e-2     #notação exponencial\n",
    "s = 'abcdef' #string\n",
    "c = 5.0 + 6j #complexo"
   ]
  },
  {
   "cell_type": "code",
   "execution_count": 3,
   "metadata": {
    "slideshow": {
     "slide_type": "fragment"
    }
   },
   "outputs": [
    {
     "data": {
      "text/plain": [
       "6"
      ]
     },
     "execution_count": 3,
     "metadata": {},
     "output_type": "execute_result"
    }
   ],
   "source": [
    "i = i + 1    #acumulador \n",
    "i"
   ]
  },
  {
   "cell_type": "code",
   "execution_count": 4,
   "metadata": {
    "slideshow": {
     "slide_type": "fragment"
    }
   },
   "outputs": [
    {
     "data": {
      "text/plain": [
       "7"
      ]
     },
     "execution_count": 4,
     "metadata": {},
     "output_type": "execute_result"
    }
   ],
   "source": [
    "i += 1       #forma alternativa para acumulador\n",
    "i"
   ]
  },
  {
   "cell_type": "code",
   "execution_count": 5,
   "metadata": {
    "slideshow": {
     "slide_type": "subslide"
    }
   },
   "outputs": [
    {
     "name": "stdout",
     "output_type": "stream",
     "text": [
      "0\n",
      "1\n",
      "2\n",
      "3\n",
      "4\n"
     ]
    }
   ],
   "source": [
    "#laço de zero a 4\n",
    "for i in range(5):\n",
    "    print(i)"
   ]
  },
  {
   "cell_type": "code",
   "execution_count": 6,
   "metadata": {
    "slideshow": {
     "slide_type": "fragment"
    }
   },
   "outputs": [
    {
     "name": "stdout",
     "output_type": "stream",
     "text": [
      "i é igual a 4\n"
     ]
    }
   ],
   "source": [
    "#teste lógico\n",
    "if i == 4:\n",
    "    print('i é igual a 4')\n",
    "else:\n",
    "    print('i não é igual a 4, i é igual a '+str(i))"
   ]
  },
  {
   "cell_type": "markdown",
   "metadata": {
    "slideshow": {
     "slide_type": "skip"
    }
   },
   "source": [
    "Material complementar:\n",
    "\n",
    "* [More Control Flow Tools](https://docs.python.org/3/tutorial/controlflow.html)"
   ]
  },
  {
   "cell_type": "markdown",
   "metadata": {
    "slideshow": {
     "slide_type": "subslide"
    }
   },
   "source": [
    "### Listas\n",
    "\n",
    "* Um exemplo dos principais métodos:"
   ]
  },
  {
   "cell_type": "code",
   "execution_count": 7,
   "metadata": {
    "slideshow": {
     "slide_type": "fragment"
    }
   },
   "outputs": [],
   "source": [
    "fruits = ['orange', 'apple', 'pear', 'banana', 'kiwi', 'apple', 'banana']"
   ]
  },
  {
   "cell_type": "code",
   "execution_count": 8,
   "metadata": {
    "slideshow": {
     "slide_type": "fragment"
    }
   },
   "outputs": [
    {
     "data": {
      "text/plain": [
       "'pear'"
      ]
     },
     "execution_count": 8,
     "metadata": {},
     "output_type": "execute_result"
    }
   ],
   "source": [
    "fruits[2]"
   ]
  },
  {
   "cell_type": "code",
   "execution_count": 9,
   "metadata": {
    "slideshow": {
     "slide_type": "fragment"
    }
   },
   "outputs": [
    {
     "data": {
      "text/plain": [
       "2"
      ]
     },
     "execution_count": 9,
     "metadata": {},
     "output_type": "execute_result"
    }
   ],
   "source": [
    "fruits.count('apple')"
   ]
  },
  {
   "cell_type": "code",
   "execution_count": 10,
   "metadata": {
    "slideshow": {
     "slide_type": "fragment"
    }
   },
   "outputs": [
    {
     "data": {
      "text/plain": [
       "0"
      ]
     },
     "execution_count": 10,
     "metadata": {},
     "output_type": "execute_result"
    }
   ],
   "source": [
    "fruits.count('tangerine')"
   ]
  },
  {
   "cell_type": "code",
   "execution_count": 11,
   "metadata": {
    "slideshow": {
     "slide_type": "fragment"
    }
   },
   "outputs": [
    {
     "data": {
      "text/plain": [
       "3"
      ]
     },
     "execution_count": 11,
     "metadata": {},
     "output_type": "execute_result"
    }
   ],
   "source": [
    "fruits.index('banana')"
   ]
  },
  {
   "cell_type": "code",
   "execution_count": 12,
   "metadata": {
    "slideshow": {
     "slide_type": "fragment"
    }
   },
   "outputs": [
    {
     "data": {
      "text/plain": [
       "6"
      ]
     },
     "execution_count": 12,
     "metadata": {},
     "output_type": "execute_result"
    }
   ],
   "source": [
    "fruits.index('banana', 4)  # Find next banana starting a position 4"
   ]
  },
  {
   "cell_type": "code",
   "execution_count": 13,
   "metadata": {
    "slideshow": {
     "slide_type": "fragment"
    }
   },
   "outputs": [
    {
     "data": {
      "text/plain": [
       "['banana', 'apple', 'kiwi', 'banana', 'pear', 'apple', 'orange']"
      ]
     },
     "execution_count": 13,
     "metadata": {},
     "output_type": "execute_result"
    }
   ],
   "source": [
    "fruits.reverse()\n",
    "fruits"
   ]
  },
  {
   "cell_type": "code",
   "execution_count": 14,
   "metadata": {
    "slideshow": {
     "slide_type": "fragment"
    }
   },
   "outputs": [
    {
     "data": {
      "text/plain": [
       "['banana', 'apple', 'kiwi', 'banana', 'pear', 'apple', 'orange', 'grape']"
      ]
     },
     "execution_count": 14,
     "metadata": {},
     "output_type": "execute_result"
    }
   ],
   "source": [
    "fruits.append('grape')\n",
    "fruits"
   ]
  },
  {
   "cell_type": "code",
   "execution_count": 15,
   "metadata": {
    "slideshow": {
     "slide_type": "fragment"
    }
   },
   "outputs": [
    {
     "data": {
      "text/plain": [
       "['apple', 'apple', 'banana', 'banana', 'grape', 'kiwi', 'orange', 'pear']"
      ]
     },
     "execution_count": 15,
     "metadata": {},
     "output_type": "execute_result"
    }
   ],
   "source": [
    "fruits.sort()\n",
    "fruits"
   ]
  },
  {
   "cell_type": "code",
   "execution_count": 16,
   "metadata": {
    "slideshow": {
     "slide_type": "fragment"
    }
   },
   "outputs": [
    {
     "data": {
      "text/plain": [
       "'pear'"
      ]
     },
     "execution_count": 16,
     "metadata": {},
     "output_type": "execute_result"
    }
   ],
   "source": [
    "fruits.pop()"
   ]
  },
  {
   "cell_type": "code",
   "execution_count": 17,
   "metadata": {
    "slideshow": {
     "slide_type": "fragment"
    }
   },
   "outputs": [
    {
     "name": "stdout",
     "output_type": "stream",
     "text": [
      "apple\n",
      "apple\n",
      "banana\n",
      "banana\n",
      "grape\n",
      "kiwi\n",
      "orange\n"
     ]
    }
   ],
   "source": [
    "for f in fruits:\n",
    "    print(f)"
   ]
  },
  {
   "cell_type": "code",
   "execution_count": 18,
   "metadata": {
    "slideshow": {
     "slide_type": "fragment"
    }
   },
   "outputs": [
    {
     "name": "stdout",
     "output_type": "stream",
     "text": [
      "0 apple\n",
      "1 apple\n",
      "2 banana\n",
      "3 banana\n",
      "4 grape\n",
      "5 kiwi\n",
      "6 orange\n"
     ]
    }
   ],
   "source": [
    "for i, f in enumerate(fruits):\n",
    "    print(i,f)"
   ]
  },
  {
   "cell_type": "markdown",
   "metadata": {
    "slideshow": {
     "slide_type": "subslide"
    }
   },
   "source": [
    "* Usando listas como pilha:\n",
    "Os métodos de lista facilitam muito o uso de uma lista como uma pilha (*Stacks*), onde o último elemento adicionado é o primeiro elemento recuperado (*“last-in, first-out”*). Para adicionar um item ao topo da pilha, use `append()`. Para recuperar um item do topo da pilha, use `pop()` sem um índice explícito. Por exemplo:"
   ]
  },
  {
   "cell_type": "code",
   "execution_count": 19,
   "metadata": {
    "slideshow": {
     "slide_type": "fragment"
    }
   },
   "outputs": [
    {
     "data": {
      "text/plain": [
       "[3, 4, 5, 6, 7]"
      ]
     },
     "execution_count": 19,
     "metadata": {},
     "output_type": "execute_result"
    }
   ],
   "source": [
    "stack = [3, 4, 5]\n",
    "stack.append(6)\n",
    "stack.append(7)\n",
    "stack"
   ]
  },
  {
   "cell_type": "code",
   "execution_count": 20,
   "metadata": {
    "slideshow": {
     "slide_type": "fragment"
    }
   },
   "outputs": [
    {
     "data": {
      "text/plain": [
       "7"
      ]
     },
     "execution_count": 20,
     "metadata": {},
     "output_type": "execute_result"
    }
   ],
   "source": [
    "stack.pop()"
   ]
  },
  {
   "cell_type": "code",
   "execution_count": 21,
   "metadata": {
    "slideshow": {
     "slide_type": "fragment"
    }
   },
   "outputs": [
    {
     "data": {
      "text/plain": [
       "6"
      ]
     },
     "execution_count": 21,
     "metadata": {},
     "output_type": "execute_result"
    }
   ],
   "source": [
    "stack.pop()"
   ]
  },
  {
   "cell_type": "code",
   "execution_count": 22,
   "metadata": {
    "slideshow": {
     "slide_type": "fragment"
    }
   },
   "outputs": [
    {
     "data": {
      "text/plain": [
       "5"
      ]
     },
     "execution_count": 22,
     "metadata": {},
     "output_type": "execute_result"
    }
   ],
   "source": [
    "stack.pop()"
   ]
  },
  {
   "cell_type": "code",
   "execution_count": 23,
   "metadata": {
    "slideshow": {
     "slide_type": "fragment"
    }
   },
   "outputs": [
    {
     "data": {
      "text/plain": [
       "[3, 4]"
      ]
     },
     "execution_count": 23,
     "metadata": {},
     "output_type": "execute_result"
    }
   ],
   "source": [
    "stack"
   ]
  },
  {
   "cell_type": "markdown",
   "metadata": {
    "slideshow": {
     "slide_type": "subslide"
    }
   },
   "source": [
    "### Dicionários\n",
    "\n",
    "Ao contrário das seqüências, que são indexadas por um intervalo de números, **os dicionários são indexados por chaves (*keys*)**, que podem ser de qualquer tipo imutável; *strings* e números sempre podem ser usados como chave.\n",
    "\n",
    "É melhor pensar em um dicionário como um conjunto de pares `key: value`, com a exigência de que as chaves sejam **exclusivas** (dentro de um dicionário).\n",
    "\n",
    "As operações principais em um dicionário estão armazenando um valor com alguma chave e extraindo o valor dado a chave. Também é possível excluir um par `key: value` com `del`. **Se você armazenar usando uma chave que já está em uso, o valor antigo associado a essa chave será esquecido**. É um erro extrair um valor usando uma chave inexistente.\n",
    "\n",
    "A execução de `list()` em um dicionário retorna uma lista de todas as chaves usadas no dicionário, em ordem de inserção (se você quiser classificá-las, use apenas `sorted()`). Para verificar se uma única chave está no dicionário, use a palavra-chave `in`."
   ]
  },
  {
   "cell_type": "code",
   "execution_count": 24,
   "metadata": {
    "slideshow": {
     "slide_type": "subslide"
    }
   },
   "outputs": [
    {
     "data": {
      "text/plain": [
       "{'jack': 4098, 'sape': 4139, 'guido': 4127}"
      ]
     },
     "execution_count": 24,
     "metadata": {},
     "output_type": "execute_result"
    }
   ],
   "source": [
    "tel = {'jack': 4098, 'sape': 4139}\n",
    "tel['guido'] = 4127\n",
    "tel"
   ]
  },
  {
   "cell_type": "code",
   "execution_count": 25,
   "metadata": {
    "slideshow": {
     "slide_type": "fragment"
    }
   },
   "outputs": [
    {
     "data": {
      "text/plain": [
       "4098"
      ]
     },
     "execution_count": 25,
     "metadata": {},
     "output_type": "execute_result"
    }
   ],
   "source": [
    "tel['jack']"
   ]
  },
  {
   "cell_type": "code",
   "execution_count": 26,
   "metadata": {
    "slideshow": {
     "slide_type": "fragment"
    }
   },
   "outputs": [
    {
     "data": {
      "text/plain": [
       "{'jack': 4098, 'guido': 4127, 'irv': 4127}"
      ]
     },
     "execution_count": 26,
     "metadata": {},
     "output_type": "execute_result"
    }
   ],
   "source": [
    "del tel['sape']\n",
    "tel['irv'] = 4127\n",
    "tel"
   ]
  },
  {
   "cell_type": "code",
   "execution_count": 27,
   "metadata": {
    "slideshow": {
     "slide_type": "fragment"
    }
   },
   "outputs": [
    {
     "data": {
      "text/plain": [
       "['jack', 'guido', 'irv']"
      ]
     },
     "execution_count": 27,
     "metadata": {},
     "output_type": "execute_result"
    }
   ],
   "source": [
    "list(tel)"
   ]
  },
  {
   "cell_type": "code",
   "execution_count": 28,
   "metadata": {
    "slideshow": {
     "slide_type": "fragment"
    }
   },
   "outputs": [
    {
     "data": {
      "text/plain": [
       "['guido', 'irv', 'jack']"
      ]
     },
     "execution_count": 28,
     "metadata": {},
     "output_type": "execute_result"
    }
   ],
   "source": [
    "sorted(tel)"
   ]
  },
  {
   "cell_type": "code",
   "execution_count": 29,
   "metadata": {
    "slideshow": {
     "slide_type": "fragment"
    }
   },
   "outputs": [
    {
     "data": {
      "text/plain": [
       "True"
      ]
     },
     "execution_count": 29,
     "metadata": {},
     "output_type": "execute_result"
    }
   ],
   "source": [
    "'guido' in tel"
   ]
  },
  {
   "cell_type": "code",
   "execution_count": 30,
   "metadata": {
    "slideshow": {
     "slide_type": "fragment"
    }
   },
   "outputs": [
    {
     "data": {
      "text/plain": [
       "False"
      ]
     },
     "execution_count": 30,
     "metadata": {},
     "output_type": "execute_result"
    }
   ],
   "source": [
    "'jack' not in tel"
   ]
  },
  {
   "cell_type": "code",
   "execution_count": 31,
   "metadata": {
    "slideshow": {
     "slide_type": "fragment"
    }
   },
   "outputs": [
    {
     "name": "stdout",
     "output_type": "stream",
     "text": [
      "jack 4098\n",
      "guido 4127\n",
      "irv 4127\n"
     ]
    }
   ],
   "source": [
    "for key, t in tel.items():\n",
    "    print(key, t)"
   ]
  },
  {
   "cell_type": "markdown",
   "metadata": {
    "slideshow": {
     "slide_type": "subslide"
    }
   },
   "source": [
    "### Módulos\n",
    "\n",
    "Se você sair do interpretador Python e voltar novamente, as definições feitas (funções e variáveis) serão perdidas. Portanto, se você quiser escrever um programa um pouco mais longo, é melhor usar um editor de texto para preparar a entrada para o interpretador e executá-lo com esse arquivo como entrada. **Isso é conhecido como criar um script**. À medida que seu programa fica mais longo, você pode querer dividi-lo em vários arquivos para **facilitar a manutenção**. Você também pode usar uma função útil que tenha escrito em **vários programas sem copiar sua definição** em cada programa.\n",
    "\n",
    "Para suportar isso, o Python tem uma maneira de colocar as definições em um arquivo e usá-las em um script ou em uma instância interativa do interpretador. **Esse arquivo é chamado de módulo**; As definições de um módulo podem ser importadas para outros módulos ou para o módulo principal.\n",
    "\n",
    "Um módulo é um arquivo contendo definições e instruções do Python. O nome do arquivo é o nome do módulo com o sufixo `.py` acrescentado. Dentro de um módulo, o nome do módulo (como uma string) está disponível como o valor da variável global `__name__`."
   ]
  },
  {
   "cell_type": "markdown",
   "metadata": {
    "slideshow": {
     "slide_type": "subslide"
    }
   },
   "source": [
    "Por exemplo, use seu editor de texto favorito para criar um arquivo chamado `fibo.py` no diretório atual com o seguinte conteúdo:\n",
    "\n",
    "```Python\n",
    "# Fibonacci numbers module\n",
    "\n",
    "def fib(n):    # write Fibonacci series up to n\n",
    "    a, b = 0, 1\n",
    "    while a < n:\n",
    "        print(a, end=' ')\n",
    "        a, b = b, a+b\n",
    "    print()\n",
    "\n",
    "def fib2(n):   # return Fibonacci series up to n\n",
    "    result = []\n",
    "    a, b = 0, 1\n",
    "    while a < n:\n",
    "        result.append(a)\n",
    "        a, b = b, a+b\n",
    "    return result\n",
    "```"
   ]
  },
  {
   "cell_type": "code",
   "execution_count": 32,
   "metadata": {
    "slideshow": {
     "slide_type": "subslide"
    }
   },
   "outputs": [],
   "source": [
    "import fibo"
   ]
  },
  {
   "cell_type": "code",
   "execution_count": 33,
   "metadata": {
    "scrolled": true,
    "slideshow": {
     "slide_type": "fragment"
    }
   },
   "outputs": [
    {
     "name": "stdout",
     "output_type": "stream",
     "text": [
      "0 1 1 2 3 5 8 13 21 34 55 89 144 233 377 610 987 \n"
     ]
    }
   ],
   "source": [
    "fibo.fib(1000)"
   ]
  },
  {
   "cell_type": "code",
   "execution_count": 34,
   "metadata": {
    "slideshow": {
     "slide_type": "fragment"
    }
   },
   "outputs": [
    {
     "data": {
      "text/plain": [
       "[0, 1, 1, 2, 3, 5, 8, 13, 21, 34, 55, 89]"
      ]
     },
     "execution_count": 34,
     "metadata": {},
     "output_type": "execute_result"
    }
   ],
   "source": [
    "fibo.fib2(100)"
   ]
  },
  {
   "cell_type": "code",
   "execution_count": 35,
   "metadata": {
    "slideshow": {
     "slide_type": "fragment"
    }
   },
   "outputs": [
    {
     "data": {
      "text/plain": [
       "'fibo'"
      ]
     },
     "execution_count": 35,
     "metadata": {},
     "output_type": "execute_result"
    }
   ],
   "source": [
    "fibo.__name__"
   ]
  },
  {
   "cell_type": "code",
   "execution_count": 36,
   "metadata": {
    "slideshow": {
     "slide_type": "skip"
    }
   },
   "outputs": [
    {
     "data": {
      "text/plain": [
       "['__builtins__',\n",
       " '__cached__',\n",
       " '__doc__',\n",
       " '__file__',\n",
       " '__loader__',\n",
       " '__name__',\n",
       " '__package__',\n",
       " '__spec__',\n",
       " 'fib',\n",
       " 'fib2']"
      ]
     },
     "execution_count": 36,
     "metadata": {},
     "output_type": "execute_result"
    }
   ],
   "source": [
    "dir(fibo)"
   ]
  },
  {
   "cell_type": "markdown",
   "metadata": {
    "slideshow": {
     "slide_type": "subslide"
    }
   },
   "source": [
    "Material complementar:\n",
    "\n",
    "* [Python - Modules](https://www.tutorialspoint.com/python/python_modules)\n",
    "* [The Python Tutorial - Modules](https://docs.python.org/3/tutorial/modules.html)\n",
    "* [Data Structures](https://docs.python.org/3/tutorial/datastructures.html)\n",
    "* [Dictionaries in Python](https://realpython.com/python-dicts/)\n",
    "* [Classes](https://docs.python.org/2/tutorial/classes.html)"
   ]
  },
  {
   "cell_type": "code",
   "execution_count": 37,
   "metadata": {
    "slideshow": {
     "slide_type": "skip"
    }
   },
   "outputs": [],
   "source": [
    "del c, f, fruits, g, i, key, s, stack, t, tel"
   ]
  },
  {
   "cell_type": "markdown",
   "metadata": {
    "slideshow": {
     "slide_type": "subslide"
    }
   },
   "source": [
    "### Principais Bibliotecas"
   ]
  },
  {
   "cell_type": "markdown",
   "metadata": {
    "slideshow": {
     "slide_type": "subslide"
    }
   },
   "source": [
    "1.  **SciPy**\n",
    "\n",
    "![SciPy](https://www.scipy.org/_static/images/scipy_med.png \"SciPy\")\n",
    "\n",
    "Ferramentas de computação científica para Python. SciPy refere-se a várias entidades relacionadas, mas distintas:\n",
    "\n",
    "* O ecossistema SciPy, uma coleção de software de código aberto para computação científica em Python.\n",
    "* A comunidade de pessoas que usam e desenvolvem essa biblioteca.\n",
    "* Várias conferências dedicadas à computação científica em Python - SciPy, EuroSciPy e SciPy.in.\n",
    "* Fazem parte da família os pacotes, que serão melhor descritos a seguir:\n",
    "    * Numpy\n",
    "    * Matplotlib\n",
    "    * Sympy\n",
    "    * IPython\n",
    "    * Pandas"
   ]
  },
  {
   "cell_type": "markdown",
   "metadata": {
    "slideshow": {
     "slide_type": "subslide"
    }
   },
   "source": [
    "* Além disso, a própria biblioteca SciPy, um componente do conjunto SciPy, fornecendo muitas rotinas numéricas:\n",
    "    * Funções especiais\n",
    "    * Integração numérica\n",
    "    * Diferenciação numérica\n",
    "    * Otimização\n",
    "    * Interpolação\n",
    "    * Transformada de Fourier\n",
    "    * Processamento de sinal\n",
    "    * Algebra linear e Algebra linear esparsa\n",
    "    * Problema de autovalor esparso com ARPACK\n",
    "    * Algoritmos e estruturas de dados espaciais\n",
    "    * Estatistica\n",
    "    * Processamento de imagem multidimensional\n",
    "    * I/O de arquivos"
   ]
  },
  {
   "cell_type": "code",
   "execution_count": 38,
   "metadata": {
    "slideshow": {
     "slide_type": "fragment"
    }
   },
   "outputs": [],
   "source": [
    "import scipy as sp\n",
    "import scipy.sparse as sps"
   ]
  },
  {
   "cell_type": "markdown",
   "metadata": {
    "slideshow": {
     "slide_type": "skip"
    }
   },
   "source": [
    "Material complementar:\n",
    "* [SciPy](https://www.scipy.org/)\n",
    "* [Getting Started](https://www.scipy.org/getting-started.html)\n",
    "* [Scipy Lecture Notes](http://scipy-lectures.org/index.html)"
   ]
  },
  {
   "cell_type": "markdown",
   "metadata": {
    "slideshow": {
     "slide_type": "subslide"
    }
   },
   "source": [
    "2.  **Numpy**\n",
    "\n",
    "![Numpy](https://www.scipy.org/_static/images/numpylogo_med.png \"Numpy\")\n",
    "\n",
    "Numpy é um pacote fundamental para a **computação científica em Python**. Entre outras coisas, destaca-se:\n",
    "* Objetos em arranjos N-dimensionais\n",
    "* Funções sofisticadas\n",
    "* Ferramentas para integrar código C/C++ e Fortran\n",
    "* Conveniente álgebra linear, transformada de Fourier e capacidade de números aleatórios\n",
    "\n",
    "Além de seus usos científicos óbvios, o NumPy também pode ser usado como um contêiner multidimensional eficiente de dados genéricos. Tipos de dados arbitrários podem ser definidos. Isso permite que o NumPy integre-se de forma fácil e rápida a uma ampla variedade de bancos de dados."
   ]
  },
  {
   "cell_type": "code",
   "execution_count": 39,
   "metadata": {
    "slideshow": {
     "slide_type": "subslide"
    }
   },
   "outputs": [],
   "source": [
    "import numpy as np # Importando a biblioteca numpy e definindo-a com o codnome de np"
   ]
  },
  {
   "cell_type": "code",
   "execution_count": 40,
   "metadata": {
    "scrolled": true,
    "slideshow": {
     "slide_type": "subslide"
    }
   },
   "outputs": [
    {
     "name": "stdout",
     "output_type": "stream",
     "text": [
      "arange([start,] stop[, step,], dtype=None)\n",
      "\n",
      "    Return evenly spaced values within a given interval.\n",
      "\n",
      "    Values are generated within the half-open interval ``[start, stop)``\n",
      "    (in other words, the interval including `start` but excluding `stop`).\n",
      "    For integer arguments the function is equivalent to the Python built-in\n",
      "    `range` function, but returns an ndarray rather than a list.\n",
      "\n",
      "    When using a non-integer step, such as 0.1, the results will often not\n",
      "    be consistent.  It is better to use `numpy.linspace` for these cases.\n",
      "\n",
      "    Parameters\n",
      "    ----------\n",
      "    start : number, optional\n",
      "        Start of interval.  The interval includes this value.  The default\n",
      "        start value is 0.\n",
      "    stop : number\n",
      "        End of interval.  The interval does not include this value, except\n",
      "        in some cases where `step` is not an integer and floating point\n",
      "        round-off affects the length of `out`.\n",
      "    step : number, optional\n",
      "        Spacing between values.  For any output `out`, this is the distance\n",
      "        between two adjacent values, ``out[i+1] - out[i]``.  The default\n",
      "        step size is 1.  If `step` is specified as a position argument,\n",
      "        `start` must also be given.\n",
      "    dtype : dtype\n",
      "        The type of the output array.  If `dtype` is not given, infer the data\n",
      "        type from the other input arguments.\n",
      "\n",
      "    Returns\n",
      "    -------\n",
      "    arange : ndarray\n",
      "        Array of evenly spaced values.\n",
      "\n",
      "        For floating point arguments, the length of the result is\n",
      "        ``ceil((stop - start)/step)``.  Because of floating point overflow,\n",
      "        this rule may result in the last element of `out` being greater\n",
      "        than `stop`.\n",
      "\n",
      "    See Also\n",
      "    --------\n",
      "    linspace : Evenly spaced numbers with careful handling of endpoints.\n",
      "    ogrid: Arrays of evenly spaced numbers in N-dimensions.\n",
      "    mgrid: Grid-shaped arrays of evenly spaced numbers in N-dimensions.\n",
      "\n",
      "    Examples\n",
      "    --------\n",
      "    >>> np.arange(3)\n",
      "    array([0, 1, 2])\n",
      "    >>> np.arange(3.0)\n",
      "    array([ 0.,  1.,  2.])\n",
      "    >>> np.arange(3,7)\n",
      "    array([3, 4, 5, 6])\n",
      "    >>> np.arange(3,7,2)\n",
      "    array([3, 5])\n"
     ]
    }
   ],
   "source": [
    "print(np.arange.__doc__) # É sempre possível checar a documentação de uma dada função"
   ]
  },
  {
   "cell_type": "code",
   "execution_count": 41,
   "metadata": {
    "slideshow": {
     "slide_type": "subslide"
    }
   },
   "outputs": [],
   "source": [
    "a = np.arange(15).reshape(3, 5) # Criando um arranjo com 15 elementos e o redimensionando para o formato 3x5"
   ]
  },
  {
   "cell_type": "code",
   "execution_count": 42,
   "metadata": {
    "slideshow": {
     "slide_type": "fragment"
    }
   },
   "outputs": [
    {
     "data": {
      "text/plain": [
       "array([[ 0,  1,  2,  3,  4],\n",
       "       [ 5,  6,  7,  8,  9],\n",
       "       [10, 11, 12, 13, 14]])"
      ]
     },
     "execution_count": 42,
     "metadata": {},
     "output_type": "execute_result"
    }
   ],
   "source": [
    "a # Escrevendo a"
   ]
  },
  {
   "cell_type": "code",
   "execution_count": 43,
   "metadata": {
    "slideshow": {
     "slide_type": "fragment"
    }
   },
   "outputs": [
    {
     "data": {
      "text/plain": [
       "(3, 5)"
      ]
     },
     "execution_count": 43,
     "metadata": {},
     "output_type": "execute_result"
    }
   ],
   "source": [
    "a.shape # Verificando as dimensões do arranjo"
   ]
  },
  {
   "cell_type": "code",
   "execution_count": 44,
   "metadata": {
    "slideshow": {
     "slide_type": "fragment"
    }
   },
   "outputs": [
    {
     "data": {
      "text/plain": [
       "2"
      ]
     },
     "execution_count": 44,
     "metadata": {},
     "output_type": "execute_result"
    }
   ],
   "source": [
    "a.ndim # O número de dimensões"
   ]
  },
  {
   "cell_type": "code",
   "execution_count": 45,
   "metadata": {
    "slideshow": {
     "slide_type": "fragment"
    }
   },
   "outputs": [
    {
     "data": {
      "text/plain": [
       "'int64'"
      ]
     },
     "execution_count": 45,
     "metadata": {},
     "output_type": "execute_result"
    }
   ],
   "source": [
    "a.dtype.name # Classificação quando ao tipo dos elementos"
   ]
  },
  {
   "cell_type": "code",
   "execution_count": 46,
   "metadata": {
    "slideshow": {
     "slide_type": "skip"
    }
   },
   "outputs": [
    {
     "data": {
      "text/plain": [
       "8"
      ]
     },
     "execution_count": 46,
     "metadata": {},
     "output_type": "execute_result"
    }
   ],
   "source": [
    "a.itemsize # Tamanho em bytes de cada elemento"
   ]
  },
  {
   "cell_type": "code",
   "execution_count": 47,
   "metadata": {
    "slideshow": {
     "slide_type": "fragment"
    }
   },
   "outputs": [
    {
     "data": {
      "text/plain": [
       "15"
      ]
     },
     "execution_count": 47,
     "metadata": {},
     "output_type": "execute_result"
    }
   ],
   "source": [
    "a.size # Número total de elementos no arranjo"
   ]
  },
  {
   "cell_type": "code",
   "execution_count": 48,
   "metadata": {
    "slideshow": {
     "slide_type": "fragment"
    }
   },
   "outputs": [
    {
     "data": {
      "text/plain": [
       "numpy.ndarray"
      ]
     },
     "execution_count": 48,
     "metadata": {},
     "output_type": "execute_result"
    }
   ],
   "source": [
    "type(a)"
   ]
  },
  {
   "cell_type": "code",
   "execution_count": 49,
   "metadata": {
    "slideshow": {
     "slide_type": "skip"
    }
   },
   "outputs": [
    {
     "name": "stdout",
     "output_type": "stream",
     "text": [
      "=============== zeros ===============\n",
      "\n",
      "zeros(shape, dtype=float, order='C')\n",
      "\n",
      "    Return a new array of given shape and type, filled with zeros.\n",
      "\n",
      "    Parameters\n",
      "    ----------\n",
      "    shape : int or tuple of ints\n",
      "        Shape of the new array, e.g., ``(2, 3)`` or ``2``.\n",
      "    dtype : data-type, optional\n",
      "        The desired data-type for the array, e.g., `numpy.int8`.  Default is\n",
      "        `numpy.float64`.\n",
      "    order : {'C', 'F'}, optional, default: 'C'\n",
      "        Whether to store multi-dimensional data in row-major\n",
      "        (C-style) or column-major (Fortran-style) order in\n",
      "        memory.\n",
      "\n",
      "    Returns\n",
      "    -------\n",
      "    out : ndarray\n",
      "        Array of zeros with the given shape, dtype, and order.\n",
      "\n",
      "    See Also\n",
      "    --------\n",
      "    zeros_like : Return an array of zeros with shape and type of input.\n",
      "    empty : Return a new uninitialized array.\n",
      "    ones : Return a new array setting values to one.\n",
      "    full : Return a new array of given shape filled with value.\n",
      "\n",
      "    Examples\n",
      "    --------\n",
      "    >>> np.zeros(5)\n",
      "    array([ 0.,  0.,  0.,  0.,  0.])\n",
      "\n",
      "    >>> np.zeros((5,), dtype=int)\n",
      "    array([0, 0, 0, 0, 0])\n",
      "\n",
      "    >>> np.zeros((2, 1))\n",
      "    array([[ 0.],\n",
      "           [ 0.]])\n",
      "\n",
      "    >>> s = (2,2)\n",
      "    >>> np.zeros(s)\n",
      "    array([[ 0.,  0.],\n",
      "           [ 0.,  0.]])\n",
      "\n",
      "    >>> np.zeros((2,), dtype=[('x', 'i4'), ('y', 'i4')]) # custom dtype\n",
      "    array([(0, 0), (0, 0)],\n",
      "          dtype=[('x', '<i4'), ('y', '<i4')])\n",
      "\n",
      "=============== zeros_like ===============\n",
      "\n",
      "\n",
      "    Return an array of zeros with the same shape and type as a given array.\n",
      "\n",
      "    Parameters\n",
      "    ----------\n",
      "    a : array_like\n",
      "        The shape and data-type of `a` define these same attributes of\n",
      "        the returned array.\n",
      "    dtype : data-type, optional\n",
      "        Overrides the data type of the result.\n",
      "\n",
      "        .. versionadded:: 1.6.0\n",
      "    order : {'C', 'F', 'A', or 'K'}, optional\n",
      "        Overrides the memory layout of the result. 'C' means C-order,\n",
      "        'F' means F-order, 'A' means 'F' if `a` is Fortran contiguous,\n",
      "        'C' otherwise. 'K' means match the layout of `a` as closely\n",
      "        as possible.\n",
      "\n",
      "        .. versionadded:: 1.6.0\n",
      "    subok : bool, optional.\n",
      "        If True, then the newly created array will use the sub-class\n",
      "        type of 'a', otherwise it will be a base-class array. Defaults\n",
      "        to True.\n",
      "\n",
      "    Returns\n",
      "    -------\n",
      "    out : ndarray\n",
      "        Array of zeros with the same shape and type as `a`.\n",
      "\n",
      "    See Also\n",
      "    --------\n",
      "    empty_like : Return an empty array with shape and type of input.\n",
      "    ones_like : Return an array of ones with shape and type of input.\n",
      "    full_like : Return a new array with shape of input filled with value.\n",
      "    zeros : Return a new array setting values to zero.\n",
      "\n",
      "    Examples\n",
      "    --------\n",
      "    >>> x = np.arange(6)\n",
      "    >>> x = x.reshape((2, 3))\n",
      "    >>> x\n",
      "    array([[0, 1, 2],\n",
      "           [3, 4, 5]])\n",
      "    >>> np.zeros_like(x)\n",
      "    array([[0, 0, 0],\n",
      "           [0, 0, 0]])\n",
      "\n",
      "    >>> y = np.arange(3, dtype=float)\n",
      "    >>> y\n",
      "    array([ 0.,  1.,  2.])\n",
      "    >>> np.zeros_like(y)\n",
      "    array([ 0.,  0.,  0.])\n",
      "\n",
      "    \n",
      "\n",
      "=============== ones ===============\n",
      "\n",
      "\n",
      "    Return a new array of given shape and type, filled with ones.\n",
      "\n",
      "    Parameters\n",
      "    ----------\n",
      "    shape : int or sequence of ints\n",
      "        Shape of the new array, e.g., ``(2, 3)`` or ``2``.\n",
      "    dtype : data-type, optional\n",
      "        The desired data-type for the array, e.g., `numpy.int8`.  Default is\n",
      "        `numpy.float64`.\n",
      "    order : {'C', 'F'}, optional, default: C\n",
      "        Whether to store multi-dimensional data in row-major\n",
      "        (C-style) or column-major (Fortran-style) order in\n",
      "        memory.\n",
      "\n",
      "    Returns\n",
      "    -------\n",
      "    out : ndarray\n",
      "        Array of ones with the given shape, dtype, and order.\n",
      "\n",
      "    See Also\n",
      "    --------\n",
      "    ones_like : Return an array of ones with shape and type of input.\n",
      "    empty : Return a new uninitialized array.\n",
      "    zeros : Return a new array setting values to zero.\n",
      "    full : Return a new array of given shape filled with value.\n",
      "\n",
      "\n",
      "    Examples\n",
      "    --------\n",
      "    >>> np.ones(5)\n",
      "    array([ 1.,  1.,  1.,  1.,  1.])\n",
      "\n",
      "    >>> np.ones((5,), dtype=int)\n",
      "    array([1, 1, 1, 1, 1])\n",
      "\n",
      "    >>> np.ones((2, 1))\n",
      "    array([[ 1.],\n",
      "           [ 1.]])\n",
      "\n",
      "    >>> s = (2,2)\n",
      "    >>> np.ones(s)\n",
      "    array([[ 1.,  1.],\n",
      "           [ 1.,  1.]])\n",
      "\n",
      "    \n",
      "\n",
      "=============== linspace ===============\n",
      "\n",
      "\n",
      "    Return evenly spaced numbers over a specified interval.\n",
      "\n",
      "    Returns `num` evenly spaced samples, calculated over the\n",
      "    interval [`start`, `stop`].\n",
      "\n",
      "    The endpoint of the interval can optionally be excluded.\n",
      "\n",
      "    .. versionchanged:: 1.16.0\n",
      "        Non-scalar `start` and `stop` are now supported.\n",
      "\n",
      "    Parameters\n",
      "    ----------\n",
      "    start : array_like\n",
      "        The starting value of the sequence.\n",
      "    stop : array_like\n",
      "        The end value of the sequence, unless `endpoint` is set to False.\n",
      "        In that case, the sequence consists of all but the last of ``num + 1``\n",
      "        evenly spaced samples, so that `stop` is excluded.  Note that the step\n",
      "        size changes when `endpoint` is False.\n",
      "    num : int, optional\n",
      "        Number of samples to generate. Default is 50. Must be non-negative.\n",
      "    endpoint : bool, optional\n",
      "        If True, `stop` is the last sample. Otherwise, it is not included.\n",
      "        Default is True.\n",
      "    retstep : bool, optional\n",
      "        If True, return (`samples`, `step`), where `step` is the spacing\n",
      "        between samples.\n",
      "    dtype : dtype, optional\n",
      "        The type of the output array.  If `dtype` is not given, infer the data\n",
      "        type from the other input arguments.\n",
      "\n",
      "        .. versionadded:: 1.9.0\n",
      "\n",
      "    axis : int, optional\n",
      "        The axis in the result to store the samples.  Relevant only if start\n",
      "        or stop are array-like.  By default (0), the samples will be along a\n",
      "        new axis inserted at the beginning. Use -1 to get an axis at the end.\n",
      "\n",
      "        .. versionadded:: 1.16.0\n",
      "\n",
      "    Returns\n",
      "    -------\n",
      "    samples : ndarray\n",
      "        There are `num` equally spaced samples in the closed interval\n",
      "        ``[start, stop]`` or the half-open interval ``[start, stop)``\n",
      "        (depending on whether `endpoint` is True or False).\n",
      "    step : float, optional\n",
      "        Only returned if `retstep` is True\n",
      "\n",
      "        Size of spacing between samples.\n",
      "\n",
      "\n",
      "    See Also\n",
      "    --------\n",
      "    arange : Similar to `linspace`, but uses a step size (instead of the\n",
      "             number of samples).\n",
      "    geomspace : Similar to `linspace`, but with numbers spaced evenly on a log\n",
      "                scale (a geometric progression).\n",
      "    logspace : Similar to `geomspace`, but with the end points specified as\n",
      "               logarithms.\n",
      "\n",
      "    Examples\n",
      "    --------\n",
      "    >>> np.linspace(2.0, 3.0, num=5)\n",
      "    array([ 2.  ,  2.25,  2.5 ,  2.75,  3.  ])\n",
      "    >>> np.linspace(2.0, 3.0, num=5, endpoint=False)\n",
      "    array([ 2. ,  2.2,  2.4,  2.6,  2.8])\n",
      "    >>> np.linspace(2.0, 3.0, num=5, retstep=True)\n",
      "    (array([ 2.  ,  2.25,  2.5 ,  2.75,  3.  ]), 0.25)\n",
      "\n",
      "    Graphical illustration:\n",
      "\n",
      "    >>> import matplotlib.pyplot as plt\n",
      "    >>> N = 8\n",
      "    >>> y = np.zeros(N)\n",
      "    >>> x1 = np.linspace(0, 10, N, endpoint=True)\n",
      "    >>> x2 = np.linspace(0, 10, N, endpoint=False)\n",
      "    >>> plt.plot(x1, y, 'o')\n",
      "    [<matplotlib.lines.Line2D object at 0x...>]\n",
      "    >>> plt.plot(x2, y + 0.5, 'o')\n",
      "    [<matplotlib.lines.Line2D object at 0x...>]\n",
      "    >>> plt.ylim([-0.5, 1])\n",
      "    (-0.5, 1)\n",
      "    >>> plt.show()\n",
      "\n",
      "    \n",
      "\n"
     ]
    }
   ],
   "source": [
    "# outras funções que merecem destaque:\n",
    "for f in [np.zeros, np.zeros_like, np.ones, np.linspace]:\n",
    "    print('=============== '+f.__name__+' ===============\\n')\n",
    "    print(f.__doc__+'\\n')"
   ]
  },
  {
   "cell_type": "markdown",
   "metadata": {
    "slideshow": {
     "slide_type": "skip"
    }
   },
   "source": [
    "Material complementar:\n",
    "* [NumPy](https://www.numpy.org/)\n",
    "* [Quickstart tutorial](https://www.numpy.org/devdocs/user/quickstart.html)"
   ]
  },
  {
   "cell_type": "markdown",
   "metadata": {
    "slideshow": {
     "slide_type": "subslide"
    }
   },
   "source": [
    "3. **Pandas**\n",
    "\n",
    "![Pandas](https://www.scipy.org/_static/images/pandas_badge2.jpg \"Pandas\")\n",
    "\n",
    "O pandas é um pacote Python que fornece **estruturas de dados rápidas, flexíveis e expressivas**, projetadas para tornar o trabalho com dados “relacionais” ou “rotulados” fáceis e intuitivos. O objetivo é ser o alicerce fundamental de alto nível para a análise prática de dados do mundo real em Python. Além disso, tem o objetivo mais amplo de se tornar a mais poderosa e flexível ferramenta de análise / manipulação de dados de código aberto disponível em qualquer linguagem.\n",
    "\n",
    "Pandas é bem adequado para muitos tipos diferentes de dados:\n",
    "* Dados tabulares com colunas de tipos heterogêneos, como em uma **tabela SQL ou planilha do Excel**;\n",
    "* Dados de **séries temporais** ordenados e não ordenados (não necessariamente de frequência fixa);\n",
    "* Dados de matriz arbitrária (homogeneamente digitados ou heterogêneos) com rótulos de linha e coluna;\n",
    "* Qualquer outra forma de conjuntos de dados observacionais / estatísticos. Os dados realmente não precisam ser rotulados para serem colocados em uma estrutura de dados de pandas."
   ]
  },
  {
   "cell_type": "code",
   "execution_count": 50,
   "metadata": {
    "slideshow": {
     "slide_type": "subslide"
    }
   },
   "outputs": [],
   "source": [
    "import pandas as pd"
   ]
  },
  {
   "cell_type": "code",
   "execution_count": 51,
   "metadata": {
    "slideshow": {
     "slide_type": "fragment"
    }
   },
   "outputs": [],
   "source": [
    "df2 = pd.DataFrame({'A': 1.,\n",
    "                    'B': pd.Timestamp('20130102'),\n",
    "                    'C': pd.Series(1, index=list(range(4)), dtype='float32'),\n",
    "                    'D': np.array([3] * 4, dtype='int32'),\n",
    "                    'E': pd.Categorical([\"test\", \"train\", \"test\", \"train\"]),\n",
    "                    'F': 'foo'})"
   ]
  },
  {
   "cell_type": "code",
   "execution_count": 52,
   "metadata": {
    "slideshow": {
     "slide_type": "fragment"
    }
   },
   "outputs": [
    {
     "data": {
      "text/html": [
       "<div>\n",
       "<style scoped>\n",
       "    .dataframe tbody tr th:only-of-type {\n",
       "        vertical-align: middle;\n",
       "    }\n",
       "\n",
       "    .dataframe tbody tr th {\n",
       "        vertical-align: top;\n",
       "    }\n",
       "\n",
       "    .dataframe thead th {\n",
       "        text-align: right;\n",
       "    }\n",
       "</style>\n",
       "<table border=\"1\" class=\"dataframe\">\n",
       "  <thead>\n",
       "    <tr style=\"text-align: right;\">\n",
       "      <th></th>\n",
       "      <th>A</th>\n",
       "      <th>B</th>\n",
       "      <th>C</th>\n",
       "      <th>D</th>\n",
       "      <th>E</th>\n",
       "      <th>F</th>\n",
       "    </tr>\n",
       "  </thead>\n",
       "  <tbody>\n",
       "    <tr>\n",
       "      <th>0</th>\n",
       "      <td>1.0</td>\n",
       "      <td>2013-01-02</td>\n",
       "      <td>1.0</td>\n",
       "      <td>3</td>\n",
       "      <td>test</td>\n",
       "      <td>foo</td>\n",
       "    </tr>\n",
       "    <tr>\n",
       "      <th>1</th>\n",
       "      <td>1.0</td>\n",
       "      <td>2013-01-02</td>\n",
       "      <td>1.0</td>\n",
       "      <td>3</td>\n",
       "      <td>train</td>\n",
       "      <td>foo</td>\n",
       "    </tr>\n",
       "    <tr>\n",
       "      <th>2</th>\n",
       "      <td>1.0</td>\n",
       "      <td>2013-01-02</td>\n",
       "      <td>1.0</td>\n",
       "      <td>3</td>\n",
       "      <td>test</td>\n",
       "      <td>foo</td>\n",
       "    </tr>\n",
       "    <tr>\n",
       "      <th>3</th>\n",
       "      <td>1.0</td>\n",
       "      <td>2013-01-02</td>\n",
       "      <td>1.0</td>\n",
       "      <td>3</td>\n",
       "      <td>train</td>\n",
       "      <td>foo</td>\n",
       "    </tr>\n",
       "  </tbody>\n",
       "</table>\n",
       "</div>"
      ],
      "text/plain": [
       "     A          B    C  D      E    F\n",
       "0  1.0 2013-01-02  1.0  3   test  foo\n",
       "1  1.0 2013-01-02  1.0  3  train  foo\n",
       "2  1.0 2013-01-02  1.0  3   test  foo\n",
       "3  1.0 2013-01-02  1.0  3  train  foo"
      ]
     },
     "execution_count": 52,
     "metadata": {},
     "output_type": "execute_result"
    }
   ],
   "source": [
    "df2"
   ]
  },
  {
   "cell_type": "code",
   "execution_count": 53,
   "metadata": {
    "slideshow": {
     "slide_type": "skip"
    }
   },
   "outputs": [
    {
     "name": "stdout",
     "output_type": "stream",
     "text": [
      "\\begin{tabular}{lrlrrll}\n",
      "\\toprule\n",
      "{} &    A &          B &    C &  D &      E &    F \\\\\n",
      "\\midrule\n",
      "0 &  1.0 & 2013-01-02 &  1.0 &  3 &   test &  foo \\\\\n",
      "1 &  1.0 & 2013-01-02 &  1.0 &  3 &  train &  foo \\\\\n",
      "2 &  1.0 & 2013-01-02 &  1.0 &  3 &   test &  foo \\\\\n",
      "3 &  1.0 & 2013-01-02 &  1.0 &  3 &  train &  foo \\\\\n",
      "\\bottomrule\n",
      "\\end{tabular}\n",
      "\n"
     ]
    }
   ],
   "source": [
    "#função bônus:\n",
    "print(df2.to_latex())"
   ]
  },
  {
   "cell_type": "markdown",
   "metadata": {
    "slideshow": {
     "slide_type": "skip"
    }
   },
   "source": [
    "Material complementar:\n",
    "* [Pandas](https://pandas.pydata.org/)\n",
    "* [10 minutes to pandas](https://pandas.pydata.org/pandas-docs/version/0.25.0/getting_started/10min.html)"
   ]
  },
  {
   "cell_type": "markdown",
   "metadata": {
    "slideshow": {
     "slide_type": "subslide"
    }
   },
   "source": [
    "4. **Sympy**\n",
    "\n",
    "![Sympy](https://scipy.org/_static/images/sympy_logo.png \"Sympy\")\n",
    "\n",
    "SymPy é uma biblioteca Python para **matemática simbólica**. O objetivo é tornar-se um sistema de álgebra computacional (CAS) completo, mantendo o código o mais simples possível para ser compreensível e facilmente extensível. SymPy é escrito inteiramente em Python."
   ]
  },
  {
   "cell_type": "code",
   "execution_count": 54,
   "metadata": {
    "slideshow": {
     "slide_type": "subslide"
    }
   },
   "outputs": [],
   "source": [
    "import sympy as sm\n",
    "sm.init_printing() #Para escrever equações na tela"
   ]
  },
  {
   "cell_type": "code",
   "execution_count": 55,
   "metadata": {
    "slideshow": {
     "slide_type": "fragment"
    }
   },
   "outputs": [],
   "source": [
    "x, t = sm.symbols('x t') # Criando símbolo"
   ]
  },
  {
   "cell_type": "markdown",
   "metadata": {
    "slideshow": {
     "slide_type": "subslide"
    }
   },
   "source": [
    "calcular $\\int (e^x \\sin(x) + e^x \\cos(x)) dx$"
   ]
  },
  {
   "cell_type": "code",
   "execution_count": 56,
   "metadata": {
    "slideshow": {
     "slide_type": "fragment"
    }
   },
   "outputs": [
    {
     "data": {
      "image/png": "[encoded data removed]",
      "text/latex": [
       "$$e^{x} \\sin{\\left (x \\right )}$$"
      ],
      "text/plain": [
       " x       \n",
       "ℯ ⋅sin(x)"
      ]
     },
     "execution_count": 56,
     "metadata": {},
     "output_type": "execute_result"
    }
   ],
   "source": [
    "sm.integrate(sm.exp(x)*sm.sin(x) + sm.exp(x)*sm.cos(x), x)"
   ]
  },
  {
   "cell_type": "markdown",
   "metadata": {
    "slideshow": {
     "slide_type": "subslide"
    }
   },
   "source": [
    "calcular a derivada de $\\sin(x)e^x$"
   ]
  },
  {
   "cell_type": "code",
   "execution_count": 57,
   "metadata": {
    "slideshow": {
     "slide_type": "fragment"
    }
   },
   "outputs": [
    {
     "data": {
      "image/png": "[encoded data removed]",
      "text/latex": [
       "$$e^{x} \\sin{\\left (x \\right )} + e^{x} \\cos{\\left (x \\right )}$$"
      ],
      "text/plain": [
       " x           x       \n",
       "ℯ ⋅sin(x) + ℯ ⋅cos(x)"
      ]
     },
     "execution_count": 57,
     "metadata": {},
     "output_type": "execute_result"
    }
   ],
   "source": [
    "sm.diff(sm.sin(x)*sm.exp(x), x)"
   ]
  },
  {
   "cell_type": "markdown",
   "metadata": {
    "slideshow": {
     "slide_type": "subslide"
    }
   },
   "source": [
    "calcular $\\int_{-\\infty}^{\\infty} \\sin(x^2)$\n"
   ]
  },
  {
   "cell_type": "code",
   "execution_count": 58,
   "metadata": {
    "slideshow": {
     "slide_type": "fragment"
    }
   },
   "outputs": [
    {
     "data": {
      "image/png": "[encoded data removed]",
      "text/latex": [
       "$$\\frac{\\sqrt{2} \\sqrt{\\pi}}{2}$$"
      ],
      "text/plain": [
       "√2⋅√π\n",
       "─────\n",
       "  2  "
      ]
     },
     "execution_count": 58,
     "metadata": {},
     "output_type": "execute_result"
    }
   ],
   "source": [
    "sm.integrate(sm.sin(x**2), (x, -sm.oo, sm.oo))"
   ]
  },
  {
   "cell_type": "markdown",
   "metadata": {
    "slideshow": {
     "slide_type": "subslide"
    }
   },
   "source": [
    "calcular $\\lim_{x \\to 0} \\dfrac{\\sin(x)}{x}$"
   ]
  },
  {
   "cell_type": "code",
   "execution_count": 59,
   "metadata": {
    "slideshow": {
     "slide_type": "fragment"
    }
   },
   "outputs": [
    {
     "data": {
      "image/png": "[encoded data removed]",
      "text/latex": [
       "$$1$$"
      ],
      "text/plain": [
       "1"
      ]
     },
     "execution_count": 59,
     "metadata": {},
     "output_type": "execute_result"
    }
   ],
   "source": [
    "sm.limit(sm.sin(x)/x, x, 0)"
   ]
  },
  {
   "cell_type": "markdown",
   "metadata": {
    "slideshow": {
     "slide_type": "subslide"
    }
   },
   "source": [
    "resolver $x^2 - 2 = 0$"
   ]
  },
  {
   "cell_type": "code",
   "execution_count": 60,
   "metadata": {
    "slideshow": {
     "slide_type": "fragment"
    }
   },
   "outputs": [
    {
     "data": {
      "image/png": "[encoded data removed]",
      "text/latex": [
       "$$\\left [ - \\sqrt{2}, \\quad \\sqrt{2}\\right ]$$"
      ],
      "text/plain": [
       "[-√2, √2]"
      ]
     },
     "execution_count": 60,
     "metadata": {},
     "output_type": "execute_result"
    }
   ],
   "source": [
    "sm.solve(x**2 - 2, x)"
   ]
  },
  {
   "cell_type": "markdown",
   "metadata": {
    "slideshow": {
     "slide_type": "subslide"
    }
   },
   "source": [
    "resolver a equação diferencial $y'' - y = e^t$"
   ]
  },
  {
   "cell_type": "code",
   "execution_count": 61,
   "metadata": {
    "scrolled": true,
    "slideshow": {
     "slide_type": "fragment"
    }
   },
   "outputs": [
    {
     "data": {
      "image/png": "[encoded data removed]",
      "text/latex": [
       "$$y{\\left (t \\right )} = C_{2} e^{- t} + \\left(C_{1} + \\frac{t}{2}\\right) e^{t}$$"
      ],
      "text/plain": [
       "           -t   ⎛     t⎞  t\n",
       "y(t) = C₂⋅ℯ   + ⎜C₁ + ─⎟⋅ℯ \n",
       "                ⎝     2⎠   "
      ]
     },
     "execution_count": 61,
     "metadata": {},
     "output_type": "execute_result"
    }
   ],
   "source": [
    "y = sm.Function('y')\n",
    "eq1 = sm.dsolve(sm.Eq(y(t).diff(t, t) - y(t), sm.exp(t)), y(t))\n",
    "eq1"
   ]
  },
  {
   "cell_type": "code",
   "execution_count": 62,
   "metadata": {
    "slideshow": {
     "slide_type": "fragment"
    }
   },
   "outputs": [
    {
     "name": "stdout",
     "output_type": "stream",
     "text": [
      "y{\\left (t \\right )} = C_{2} e^{- t} + \\left(C_{1} + \\frac{t}{2}\\right) e^{t}\n"
     ]
    }
   ],
   "source": [
    "#Bônus\n",
    "print(sm.latex(eq1))"
   ]
  },
  {
   "cell_type": "markdown",
   "metadata": {
    "slideshow": {
     "slide_type": "skip"
    }
   },
   "source": [
    "Material complementar:\n",
    "* [Sympy](https://www.sympy.org/en/index.html)\n",
    "* [Documentation](https://docs.sympy.org/latest/index.html)"
   ]
  },
  {
   "cell_type": "markdown",
   "metadata": {
    "slideshow": {
     "slide_type": "subslide"
    }
   },
   "source": [
    "5. **Matplotlib**\n",
    "\n",
    "![Matplotlib](https://www.scipy.org/_static/images/matplotlib_med.png \"Matplotlib\")\n",
    "\n",
    "A Matplotlib é uma biblioteca de plotagem 2D do Python, que produz figuras de qualidade de publicação em uma variedade de formatos impressos e ambientes interativos entre plataformas. O Matplotlib pode ser usado em scripts Python, nos shells do Python e do IPython, no notebook Jupyter, nos servidores de aplicativos da web e em quatro kits de ferramentas de interface gráfica do usuário.\n",
    "\n",
    "A **Matplotlib tenta tornar as coisas fáceis simples e as coisas difíceis possíveis**. Você pode gerar gráficos, histogramas, espectros de potência, gráficos de barras, gráficos de erros, diagramas de dispersão, etc., com apenas algumas linhas de código.\n",
    "\n",
    "Material complementar:\n",
    "* [Matplotlib](https://matplotlib.org/)\n",
    "* [Style sheets reference](https://matplotlib.org/3.1.0/gallery/style_sheets/style_sheets_reference.html)\n",
    "* [Gallery](https://matplotlib.org/3.1.0/gallery/index.html)"
   ]
  },
  {
   "cell_type": "code",
   "execution_count": 63,
   "metadata": {
    "slideshow": {
     "slide_type": "subslide"
    }
   },
   "outputs": [],
   "source": [
    "import matplotlib.pyplot as plt"
   ]
  },
  {
   "cell_type": "code",
   "execution_count": 64,
   "metadata": {
    "slideshow": {
     "slide_type": "fragment"
    }
   },
   "outputs": [],
   "source": [
    "#Definindo um novo estilo para as figuras [opcional]\n",
    "plt.style.use(['seaborn-notebook']) "
   ]
  },
  {
   "cell_type": "code",
   "execution_count": 65,
   "metadata": {
    "slideshow": {
     "slide_type": "subslide"
    }
   },
   "outputs": [
    {
     "data": {
      "text/plain": [
       "[<matplotlib.lines.Line2D at 0x150c86836470>]"
      ]
     },
     "execution_count": 65,
     "metadata": {},
     "output_type": "execute_result"
    },
    {
     "data": {
      "image/png": "[encoded data removed]",
      "text/plain": [
       "<Figure size 576x396 with 1 Axes>"
      ]
     },
     "metadata": {
      "needs_background": "light"
     },
     "output_type": "display_data"
    }
   ],
   "source": [
    "x = np.arange(0, 5, 0.1)\n",
    "y = np.sin(x)\n",
    "plt.plot(x, y)"
   ]
  },
  {
   "cell_type": "markdown",
   "metadata": {
    "slideshow": {
     "slide_type": "subslide"
    }
   },
   "source": [
    "6. **Bokeh**\n",
    "\n",
    " ![Bokeh](https://bokeh.pydata.org/en/latest/_static/images/logo.png \"Bokeh\")\n",
    "\n",
    "O Bokeh é uma biblioteca de visualização interativa para Python que permite uma apresentação visual de dados bonita e significativa em navegadores modernos. **Com o Bokeh, você pode criar, de maneira rápida e fácil, plotagens interativas, painéis e aplicativos de dados**.\n",
    "\n",
    "O Bokeh fornece uma maneira elegante e concisa de construir gráficos versáteis e, ao mesmo tempo, oferecer interatividade de alto desempenho para conjuntos de dados grandes ou em fluxo.\n",
    "\n",
    "Material complementar:\n",
    "* [Tutorial](https://mybinder.org/v2/gh/bokeh/bokeh-notebooks/master?filepath=tutorial%2F00%20-%20Introduction%20and%20Setup.ipynb)\n",
    "* [Gallery](https://bokeh.pydata.org/en/latest/docs/gallery.html)"
   ]
  },
  {
   "cell_type": "code",
   "execution_count": 66,
   "metadata": {
    "slideshow": {
     "slide_type": "fragment"
    }
   },
   "outputs": [],
   "source": [
    "import bokeh as bk"
   ]
  },
  {
   "cell_type": "markdown",
   "metadata": {
    "slideshow": {
     "slide_type": "subslide"
    }
   },
   "source": [
    "### Fortran vs. Python"
   ]
  },
  {
   "cell_type": "markdown",
   "metadata": {
    "slideshow": {
     "slide_type": "subslide"
    }
   },
   "source": [
    "É preciso criar o arquivo `escreve_sin_cos.f90`\n",
    "```fortran\n",
    "program escreve_sin_cos\n",
    "\n",
    "    implicit none\n",
    "    \n",
    "    !Declarar variáveis\n",
    "    integer :: i, nx\n",
    "    real(4) :: xi, xf, dx\n",
    "    real(4), allocatable, dimension(:) :: x, sinx, cosx\n",
    "\n",
    "    nx=200\n",
    "    xi = 0.\n",
    "    xf = 3.14\n",
    "\n",
    "    !Alocar variáveis\n",
    "    allocate(x(nx), sinx(nx), cosx(nx))\n",
    "\n",
    "    !Calcular\n",
    "    dx = (xi-xf)/(nx-1)\n",
    "    do i=1, nx\n",
    "        x(i) = real(i-1,4)*dx\n",
    "        sinx(i) = sin(x(i))\n",
    "        cosx(i) = cos(x(i))\n",
    "    end do\n",
    "\n",
    "    !Escrever em disco e abrir em outro\n",
    "    !programa para gerar imagens\n",
    "    open (1, file = \"teste.csv\")\n",
    "    do i=1, nx\n",
    "        write(1,*) x(i), sinx(i), cosx(i)\n",
    "    end do\n",
    "    close(1)\n",
    "    \n",
    "    !Encerrar programa\n",
    "end program escreve_sin_cos\n",
    "```\n",
    "\n",
    "Além de compilar\n",
    "\n",
    "`gfortran -o teste escreve_sin_cos.f90`,\n",
    "\n",
    "executar:\n",
    "\n",
    "`./teste`,\n",
    "\n",
    "e ainda processar o arquivo de saída `teste.csv` em outro software."
   ]
  },
  {
   "cell_type": "code",
   "execution_count": 67,
   "metadata": {
    "slideshow": {
     "slide_type": "subslide"
    }
   },
   "outputs": [
    {
     "data": {
      "image/png": "[encoded data removed]",
      "text/plain": [
       "<Figure size 576x396 with 1 Axes>"
      ]
     },
     "metadata": {
      "needs_background": "light"
     },
     "output_type": "display_data"
    }
   ],
   "source": [
    "x = np.linspace(0., 2*np.pi, num=200, endpoint=True)\n",
    "\n",
    "sinx = np.sin(x)\n",
    "cosx = np.cos(x)\n",
    "\n",
    "plt.plot(x, sinx, label='sin')\n",
    "plt.plot(x, cosx, label='sin')\n",
    "\n",
    "plt.legend()\n",
    "plt.show()"
   ]
  },
  {
   "cell_type": "code",
   "execution_count": 68,
   "metadata": {
    "slideshow": {
     "slide_type": "subslide"
    }
   },
   "outputs": [
    {
     "data": {
      "image/png": "[encoded data removed]",
      "text/plain": [
       "<Figure size 576x396 with 1 Axes>"
      ]
     },
     "metadata": {
      "needs_background": "light"
     },
     "output_type": "display_data"
    }
   ],
   "source": [
    "#Ou ainda:\n",
    "for f in [np.sin, np.cos]:\n",
    "    plt.plot(x, f(x), label=f.__name__)\n",
    "    \n",
    "plt.legend()\n",
    "plt.show()"
   ]
  },
  {
   "cell_type": "code",
   "execution_count": 69,
   "metadata": {
    "slideshow": {
     "slide_type": "skip"
    }
   },
   "outputs": [],
   "source": [
    "del a, cosx, df2, eq1, sinx, t, x, y\n",
    "plt.close('all')"
   ]
  },
  {
   "cell_type": "markdown",
   "metadata": {
    "slideshow": {
     "slide_type": "slide"
    }
   },
   "source": [
    "## Exercícios Resolvidos"
   ]
  },
  {
   "cell_type": "markdown",
   "metadata": {
    "slideshow": {
     "slide_type": "subslide"
    }
   },
   "source": [
    "### Métodos numéricos\n",
    "\n",
    "1. Diferenciação\n",
    "\n",
    "\n",
    "* Esquema em diferenças finitas, explícito, centrado e com precisão de O($\\Delta x^2$):\n",
    "\n",
    "\\begin{equation}\n",
    "    \\frac{\\partial f}{\\partial x} = f_i' = \\dfrac{f_{i+1}-f_{i-1}}{2\\Delta x}\n",
    "\\end{equation}\n",
    "\n",
    "\\begin{equation}\n",
    "\\begin{split}\n",
    "\\begin{bmatrix} f'_{0} \\\\ f'_{1} \\\\ \\vdots \\\\ f'_{i} \\\\ \\vdots \\\\ f'_{n-2}\\\\ f'_{n-1}\\end{bmatrix} =\n",
    "\\underbrace{\n",
    "\\frac{1}{2 \\Delta x}\n",
    "\\begin{bmatrix}\n",
    "0 & 1 & & & & & -1 \\\\\n",
    "-1 & 0 & 1 & & \\\\\n",
    " & \\ddots & \\ddots & \\ddots & & & \\\\\n",
    "& & -1 & 0 & 1 & \\\\\n",
    "& & & \\ddots & \\ddots & \\ddots & \\\\\n",
    "& & & & -1 & 0 & 1\\\\\n",
    "1 & & & & & -1 & 0\n",
    "\\end{bmatrix}\n",
    "}_{D_x = \\text{ Operador diferencial de primeira ordem}}\n",
    "\\begin{bmatrix} f_{0} \\\\ f_{1} \\\\ \\vdots \\\\ f_{i} \\\\ \\vdots \\\\ f_{n-2}\\\\ f_{n-1}\\end{bmatrix}\n",
    "\\\\\n",
    "\\mbox{com $2\\leq i \\leq n -3$ e $f_0 = f_n$}\n",
    "\\end{split}\n",
    "\\end{equation}\n",
    "\n",
    "\\begin{equation}\n",
    "    f' = D_x f\n",
    "\\end{equation}"
   ]
  },
  {
   "cell_type": "markdown",
   "metadata": {
    "slideshow": {
     "slide_type": "subslide"
    }
   },
   "source": [
    "* Esquema em diferenças finitas, explícito, centrado e com precisão de O($\\Delta x^2$):\n",
    "\n",
    "\\begin{equation}\n",
    "    \\frac{\\partial^2 f}{\\partial x^2} = f_i'' = \\dfrac{f_{i+1} - 2 f_{i} + f_{i-1}}{(\\Delta x)^2}\n",
    "\\end{equation}\n",
    "\n",
    "\\begin{equation}\n",
    "\\begin{split}\n",
    "\\begin{bmatrix} f''_{0} \\\\ f''_{1} \\\\ \\vdots \\\\ f''_{i} \\\\ \\vdots \\\\ f''_{n-2}\\\\ f''_{n-1}\\end{bmatrix} =\n",
    "\\underbrace{\n",
    "\\frac{1}{(\\Delta x)^2}\n",
    "\\begin{bmatrix}\n",
    "-2 & 1 & & & & & 1\\\\\n",
    "1 & -2 & 1 & & \\\\\n",
    " & \\ddots & \\ddots & \\ddots & & & \\\\\n",
    "& & 1 & -2 & 1 & \\\\\n",
    "& & & \\ddots & \\ddots & \\ddots & \\\\\n",
    "& & & & 1 & -2 & 1\\\\\n",
    "1 & & & & & 1 & -2\n",
    "\\end{bmatrix}\n",
    "}_{D_x^2 = \\text{ Operador diferencial de segunda ordem}}\n",
    "\\begin{bmatrix} f_{0} \\\\ f_{1} \\\\ \\vdots \\\\ f_{i} \\\\ \\vdots \\\\ f_{n-2}\\\\ f_{n-1}\\end{bmatrix}\n",
    "\\\\\n",
    "\\mbox{com $2\\leq i \\leq n -3$ e $f_0 = f_n$}\n",
    "\\end{split}\n",
    "\\end{equation}\n",
    "\n",
    "\\begin{equation}\n",
    "    f'' = D_x^2 f\n",
    "\\end{equation}"
   ]
  },
  {
   "cell_type": "code",
   "execution_count": 70,
   "metadata": {
    "slideshow": {
     "slide_type": "subslide"
    }
   },
   "outputs": [],
   "source": [
    "x = np.linspace(0., 2.*np.pi, num=200, endpoint=False)\n",
    "\n",
    "dx = (x[1]-x[0])\n",
    "\n",
    "#Operador diferencial de primeira ordem\n",
    "Dx = sps.diags([-1., 0., 1.],\n",
    "              offsets=[-1, 0, 1],\n",
    "              shape=(x.size,x.size)\n",
    "              ).toarray()\n",
    "\n",
    "#Operador diferencial de segunda ordem\n",
    "Dx2 = sps.diags([1., -2., 1.],\n",
    "               offsets=[-1, 0, 1],\n",
    "               shape=(x.size,x.size)\n",
    "               ).toarray()\n",
    "\n",
    "Dx /= 2*dx\n",
    "Dx2 /= dx**2.\n",
    "\n",
    "#Condições de contorno Periódicas\n",
    "for D in [Dx, Dx2]:\n",
    "    D[0,-1] = D[1,0]\n",
    "    D[-1,0] = D[-2,-1]"
   ]
  },
  {
   "cell_type": "markdown",
   "metadata": {
    "slideshow": {
     "slide_type": "subslide"
    }
   },
   "source": [
    "Este é um bom momento para a criação de um módulo, já que operadores diferenciais serão muito utilizados durante os exemplos práticos. Para isso, vamos criar um arquivo nomeado `diferencial.py`, com as seguintes linhas de código:\n",
    "\n",
    "```python\n",
    "from scipy.sparse import diags\n",
    "from numpy import linspace, pi\n",
    "def ordem2(f=2*pi, i=0., n=7, P=False):\n",
    "    '''ordem2(f=2*pi, i=0., n=7, P=False)\n",
    "\n",
    "    Calcula os operadores diferenciais da primeira e segunda derivada, para uma\n",
    "    malha equidistante de i a f, com n pontos, e erro da ordem de h**2.\n",
    "\n",
    "    Parâmetros\n",
    "    ----------\n",
    "    f : real\n",
    "        Valor do contorno superior de x.\n",
    "        Padrão é 2*pi.\n",
    "    i : real\n",
    "        Valor do contorno inferior de x.\n",
    "        Padrão é zero.\n",
    "    n : inteiro\n",
    "        Número de pontos da malha na direção x.\n",
    "        Padrão é 7.\n",
    "    P : bool, opcional\n",
    "        Define que a condição de contorno é periódica quando True.\n",
    "        Padrão é False.\n",
    "\n",
    "    Retorna\n",
    "    -------\n",
    "    x, Dx e Dx2, respectivamente o vetor posição e os operadores diferenciais\n",
    "    para primeira e segunda ordem.\n",
    "    '''\n",
    "    #Vetor posição\n",
    "    x = linspace(i, f, num=n, endpoint=not P)\n",
    "    #Operador diferencial de primeira ordem\n",
    "    Dx = diags([-1., 0., 1.],\n",
    "              offsets=[-1, 0, 1],\n",
    "              shape=(x.size,x.size)\n",
    "              ).toarray()\n",
    "    #Operador diferencial de segunda ordem\n",
    "    Dx2 = diags([1., -2., 1.],\n",
    "               offsets=[-1, 0, 1],\n",
    "               shape=(x.size,x.size)\n",
    "               ).toarray()\n",
    "    #\n",
    "    if P: #Condições de contorno Periódicas\n",
    "        for D in [Dx, Dx2]:\n",
    "            D[0,-1] = D[1,0]\n",
    "            D[-1,0] = D[-2,-1]\n",
    "    else: #Não Periódica\n",
    "        Dx[0,0], Dx[0,1], Dx[0,2] = -3., 4., -1.\n",
    "        Dx[-1,-3], Dx[-1,-2], Dx[-1,-1] = 1., -4., 3.\n",
    "        Dx2[0,0], Dx2[0,1], Dx2[0,2] = 1., -2., 1.\n",
    "        Dx2[-1,-3], Dx2[-1,-2], Dx2[-1,-1] = 1., -2., 1.\n",
    "    #\n",
    "    h = (x[1]-x[0])\n",
    "    Dx /= 2.*h\n",
    "    Dx2 /= h**2.\n",
    "    return x, Dx, Dx2\n",
    "```"
   ]
  },
  {
   "cell_type": "code",
   "execution_count": 71,
   "metadata": {
    "slideshow": {
     "slide_type": "subslide"
    }
   },
   "outputs": [
    {
     "data": {
      "image/png": "[encoded data removed]",
      "text/plain": [
       "<Figure size 576x396 with 1 Axes>"
      ]
     },
     "metadata": {
      "needs_background": "light"
     },
     "output_type": "display_data"
    }
   ],
   "source": [
    "#Agora pode-se importar o novo módulo com\n",
    "import diferencial as dv\n",
    "\n",
    "x, Dx, Dx2 = dv.ordem2(n=100, P=False)\n",
    "\n",
    "f = np.cos\n",
    "\n",
    "plt.plot(x, f(x), label='f(x)')\n",
    "plt.plot(x, Dx.dot(f(x)), label=\"f'(x)\")\n",
    "plt.plot(x, Dx2.dot(f(x)), label=\"f''(x)\")\n",
    "\n",
    "plt.legend()\n",
    "plt.show()"
   ]
  },
  {
   "cell_type": "markdown",
   "metadata": {
    "slideshow": {
     "slide_type": "subslide"
    }
   },
   "source": [
    "* Esquema em diferenças finitas, explícito, diferença para frente e com precisão de O($\\Delta t^1$):\n",
    "\n",
    "\\begin{equation}\n",
    "    \\frac{\\partial f}{\\partial t} = \\dfrac{f_{k+1}-f_{k}}{\\Delta t}\n",
    "\\end{equation}"
   ]
  },
  {
   "cell_type": "markdown",
   "metadata": {
    "slideshow": {
     "slide_type": "subslide"
    }
   },
   "source": [
    "* Esquema em diferenças finitas, implícito, centrado e com precisão de O($\\Delta x^6$):\n",
    "\n",
    "\\begin{equation}\n",
    "    \\frac{1}{3} f_{i-1}' + f_{i}' + \\frac{1}{3} f_{i+1}' = \\frac{14}{9} \\frac{f_{i+1}-f_{i-1}}{2\\Delta x} + \\frac{1}{9} \\frac{f_{i+2}-f_{i-2}}{4\\Delta x}\n",
    "\\end{equation}\n",
    "\n",
    "\\begin{equation}\n",
    "\\begin{split}\n",
    "\\underbrace{\n",
    "\\begin{bmatrix}\n",
    "1 & 1/3 & & & & & 1/3 \\\\\n",
    "1/3 & 1 & 1/3 & & \\\\\n",
    " & \\ddots & \\ddots & \\ddots & & & \\\\\n",
    "& & 1/3 & 1 & 1/3 & \\\\\n",
    "& & & \\ddots & \\ddots & \\ddots & \\\\\n",
    "& & & & 1/3 & 1 & 1/3\\\\\n",
    "1/3 & & & & & 1/3 & 1\n",
    "\\end{bmatrix}\n",
    "}_{A}\n",
    "\\begin{bmatrix} f'_{0} \\\\ f'_{1} \\\\ \\vdots \\\\ f'_{i} \\\\ \\vdots \\\\ f'_{n-2}\\\\ f'_{n-1}\\end{bmatrix} =\n",
    "\\underbrace{\n",
    "\\frac{1}{\\Delta x}\n",
    "\\begin{bmatrix}\n",
    "0 & 7/9 & 1/36 & & & 1/36 & 7/9 \\\\\n",
    "7/9 & 0 & 7/9 & 1/36 & & & 1/36\\\\\n",
    "& \\ddots & \\ddots & \\ddots & & & \\\\\n",
    "& 1/36 & 7/9 & 0 & 7/9 & 1/36 \\\\\n",
    "& & & \\ddots & \\ddots & \\ddots & \\\\\n",
    "1/36 & & & 1/36 & 7/9 & 0 & 7/9 \\\\\n",
    "7/9 & 1/36 & & & 1/36 & 7/9 & 0\n",
    "\\end{bmatrix}\n",
    "}_{B}\n",
    "\\begin{bmatrix} f_{0} \\\\ f_{1} \\\\ \\vdots \\\\ f_{i} \\\\ \\vdots \\\\ f_{n-2}\\\\ f_{n-1}\\end{bmatrix}\n",
    "\\\\\n",
    "\\mbox{com $2\\leq i \\leq n -3$, $f_0 = f_n$ e $f_0' = f_n'$}\n",
    "\\end{split}\n",
    "\\label{eq.dxx_matrix}\n",
    "\\end{equation}\n",
    "\n",
    "\\begin{equation}\n",
    "    f' = \\underbrace{A^{-1}B}_{D_x} f\n",
    "\\end{equation}"
   ]
  },
  {
   "cell_type": "markdown",
   "metadata": {
    "slideshow": {
     "slide_type": "subslide"
    }
   },
   "source": [
    "2. Integração\n",
    "\n",
    "\n",
    "* Regra do Trapézio:\n",
    "\n",
    "\\begin{equation}\n",
    "\\int_a^b f(x)dx \\approx \\dfrac{f(a) + f(b)}{2} (b-a)\n",
    "\\end{equation}\n",
    "\n",
    "Pode-se dividir em $N$ intervalos\n",
    "\n",
    "\\begin{equation}\n",
    "\\int_a^b fdx \\approx \\sum_{i=0}^{N-1} \\dfrac{f_{i} + f_{i+1}}{2} \\Delta x = \\dfrac{\\Delta x}{2} \\left( f_0 + 2f_1 + \\dots + 2f_{n-1} + f_{n}\\right)\n",
    "\\end{equation}\n",
    "\n",
    "Escrito na forma matricial:\n",
    "\n",
    "\\begin{equation}\n",
    "\\int_a^b fdx = \\sum \\left(\n",
    "\\underbrace{\n",
    "\\Delta x\n",
    "\\begin{bmatrix}\n",
    "1/2 & & & & & & \\\\\n",
    "& 1 & & & & & \\\\\n",
    "& & \\ddots & & & & \\\\\n",
    "& & & 1 & & \\\\\n",
    "& & & & \\ddots & \\\\\n",
    "& & & & & 1 & \\\\\n",
    "& & & & & & 1/2\n",
    "\\end{bmatrix}\n",
    "}_{I_x = \\text{ Operador integral}}\n",
    "\\begin{bmatrix} f_{0} \\\\ f_{1} \\\\ \\vdots \\\\ f_{i} \\\\ \\vdots \\\\ f_{n-1}\\\\ f_{n}\\end{bmatrix}\n",
    "\\right)\n",
    "\\end{equation}"
   ]
  },
  {
   "cell_type": "code",
   "execution_count": 72,
   "metadata": {
    "slideshow": {
     "slide_type": "subslide"
    }
   },
   "outputs": [
    {
     "data": {
      "image/png": "[encoded data removed]",
      "text/latex": [
       "$$2.220446049250313e-16$$"
      ],
      "text/plain": [
       "2.220446049250313e-16"
      ]
     },
     "execution_count": 72,
     "metadata": {},
     "output_type": "execute_result"
    }
   ],
   "source": [
    "x = np.linspace(0., 2*np.pi, num=201, endpoint=True)\n",
    "\n",
    "f, dx = np.sin(x), (x[1]-x[0])\n",
    "\n",
    "Ix = dx*sps.eye(x.size).toarray() #Operador integral\n",
    "\n",
    "for i in [0, -1]: #Condições de contorno\n",
    "    Ix[i] *= 0.5\n",
    "\n",
    "Ix.dot(f).sum() #Integral"
   ]
  },
  {
   "cell_type": "code",
   "execution_count": 73,
   "metadata": {
    "slideshow": {
     "slide_type": "fragment"
    }
   },
   "outputs": [
    {
     "data": {
      "image/png": "[encoded data removed]",
      "text/latex": [
       "$$0.0$$"
      ],
      "text/plain": [
       "0.0"
      ]
     },
     "execution_count": 73,
     "metadata": {},
     "output_type": "execute_result"
    }
   ],
   "source": [
    "#Ou alternativamente, utilizando o scipy:\n",
    "import scipy.integrate\n",
    "sp.integrate.trapz(f,x)"
   ]
  },
  {
   "cell_type": "markdown",
   "metadata": {
    "slideshow": {
     "slide_type": "skip"
    }
   },
   "source": [
    "Material complementar:\n",
    "* [Finite Difference Coefficients Calculator](http://web.media.mit.edu/~crtaylor/calculator.html)\n",
    "* [Trapezoidal rule](https://en.wikipedia.org/wiki/Trapezoidal_rule)\n",
    "* MOIN, Parviz. **Fundamentals of engineering numerical analysis**. Cambridge University Press, 2010."
   ]
  },
  {
   "cell_type": "code",
   "execution_count": 74,
   "metadata": {
    "slideshow": {
     "slide_type": "skip"
    }
   },
   "outputs": [],
   "source": [
    "del D, Dx, Dx2, Ix, dx, f, i, x\n",
    "plt.close('all')"
   ]
  },
  {
   "cell_type": "markdown",
   "metadata": {
    "slideshow": {
     "slide_type": "subslide"
    }
   },
   "source": [
    "### Fenômenos de Transporte\n",
    "\n",
    "* Transferência de Calor, massa e quantidade de movimento"
   ]
  },
  {
   "cell_type": "markdown",
   "metadata": {
    "slideshow": {
     "slide_type": "subslide"
    }
   },
   "source": [
    "1. **Radiação e convecção combinadas em transferência de calor permanente unidirecional**. A superfície interior de uma parede de espessura $L=0,25m$ é mantida a $21^oC$, enquanto a temperatura no meio externo é $T_\\infty = 4^oC$. Considere que há troca de calor com a vizinhança $T_{viz} = 250 K$, o coeficiente de convecção é $h=23W/m^2$, a condutividade térmica do material que compõe a parede é $k=0,65 W/m \\cdot ^oC$, a emissividade da superfície externa vale $\\epsilon = 0,8$ e a constante de Stefan-Boltzmann $\\sigma = 5,67 \\times 10^{-8} [W/m^2 \\cdot K^4]$. Determine a temperatura externa da parede $T_2$.\n",
    "\n",
    "<img src=\"radiacao.png\" width=\"220\">\n",
    "\n",
    "\\begin{equation}\n",
    "    k \\left( \\dfrac{T_1-T_2}{L} \\right) = \\epsilon \\sigma \\left( T_2^4 - T_{viz}^4 \\right) + h \\left( T_2 - T_\\infty \\right)\n",
    "\\end{equation}"
   ]
  },
  {
   "cell_type": "code",
   "execution_count": 75,
   "metadata": {
    "slideshow": {
     "slide_type": "subslide"
    }
   },
   "outputs": [
    {
     "name": "stdout",
     "output_type": "stream",
     "text": [
      "T2 = 2.94 graus celsius\n"
     ]
    }
   ],
   "source": [
    "k, t1, t2, l, epsi, sigma, tviz, too, h = sm.symbols(\"k t_1 t_2 L \\epsilon \\sigma t_{viz} t_\\infty h\")\n",
    "\n",
    "eq1 = sm.Eq(k*(t1-t2)/l,epsi*sigma*(t2**4.-tviz**4.)+h*(t2-too))\n",
    "\n",
    "#Dicionário com os valores que serão substituidos na eq1\n",
    "dic = {k: .65, t1: 21.+273., l: .25, epsi: .8, sigma: 5.67e-8, tviz: 255., too: 4.+273., h: 23.}\n",
    "\n",
    "sol = sm.solve(eq1.subs(dic), t2)\n",
    "\n",
    "for val in sol:\n",
    "    if val.is_real: #A solução deve ser real\n",
    "        if val.is_positive: #E positiva\n",
    "            print('T2 = {0:3.2f} graus celsius'.format(val-273.))  "
   ]
  },
  {
   "cell_type": "code",
   "execution_count": 76,
   "metadata": {
    "slideshow": {
     "slide_type": "skip"
    }
   },
   "outputs": [],
   "source": [
    "del k, t1, t2, l, epsi, sigma, tviz, too, h, eq1, dic, sol, val"
   ]
  },
  {
   "cell_type": "markdown",
   "metadata": {
    "slideshow": {
     "slide_type": "subslide"
    }
   },
   "source": [
    "2. **Condição de calor transiente bidimensional**. Uma placa de cobre de $50cm \\times 50cm$ inicialmente possui temperatura em toda a sua extensão igual a $0^oC$. Instantaneamente , suas bordas são levadas às temperaturas de $60^oC$ em $x=0$; $20^oC$ em $x=50cm$; $0^oC$ em $y=0$ e $100^oC$ em $y=50$. A difusividade térmica do cobre é $1,1532cm^2/s$. Considerando um $\\Delta t = 4s$, $\\Delta x = \\Delta y = 5cm$, calcule a evolução da temperatura para a posição central da placa até o tempo de $400s$. Para o tempo de $200s$ apresente o perfil de temperatura em todos os pontos discretos do domínio.\n",
    "    Equação bidimensional:\n",
    "\\begin{equation}\n",
    "\\alpha \\left( \\dfrac{\\partial ^2 T}{\\partial x^2} + \\dfrac{\\partial ^2 T}{\\partial y^2} \\right) =\\dfrac{\\partial T}{\\partial t}\n",
    "\\end{equation}\n",
    "    Discretizando com a derivada segunda numa representação por diferença central e a derivada primeira com diferença ascendente:\n",
    "\n",
    "\\begin{equation}\n",
    "\\dfrac{T^{n+1}_{l,j}-T^{n}_{l,j}}{\\Delta t}=\\alpha \\left[ \\dfrac{T^{n}_{l-1,j}-2T^{n}_{l,j}+T^{n}_{l+1,j}}{(\\Delta x)^2} +\\dfrac{T^{n}_{l,j-1}-2T^{n}_{l,j}+T^{n}_{l,j+1}}{(\\Delta y)^2}  \\right]\n",
    "\\end{equation}"
   ]
  },
  {
   "cell_type": "code",
   "execution_count": 77,
   "metadata": {
    "slideshow": {
     "slide_type": "subslide"
    }
   },
   "outputs": [],
   "source": [
    "x = np.linspace(0., 50., num=11, endpoint=True)\n",
    "y = np.linspace(0., 50., num=11, endpoint=True)\n",
    "t = np.linspace(0., 400., num=101, endpoint=True)\n",
    "\n",
    "a = 1.1532\n",
    "\n",
    "T = np.zeros((x.size,y.size,t.size))\n",
    "\n",
    "T[0,:,:], T[-1,:,:], T[:,0,:], T[:,-1,:] = 60., 20., 0., 100."
   ]
  },
  {
   "cell_type": "code",
   "execution_count": 78,
   "metadata": {
    "slideshow": {
     "slide_type": "fragment"
    }
   },
   "outputs": [],
   "source": [
    "dt = t[1]-t[0]\n",
    "dx2 = (x[1]-x[0])**2.\n",
    "dy2 = (y[1]-y[0])**2.\n",
    "for n in range(t.size-1):\n",
    "    for i in range(1,x.size-1):\n",
    "        for j in range(1,y.size-1):\n",
    "            T[i,j,n+1] = dt*a*((T[i-1,j,n]-2.*T[i,j,n]+T[i+1,j,n])/dx2+(T[i,j-1,n]-2.*T[i,j,n]+T[i,j+1,n])/dy2)+T[i,j,n]"
   ]
  },
  {
   "cell_type": "code",
   "execution_count": 79,
   "metadata": {
    "slideshow": {
     "slide_type": "subslide"
    }
   },
   "outputs": [
    {
     "data": {
      "image/png": "[encoded data removed]",
      "text/plain": [
       "<Figure size 576x396 with 5 Axes>"
      ]
     },
     "metadata": {
      "needs_background": "light"
     },
     "output_type": "display_data"
    }
   ],
   "source": [
    "#Adicionar subplot\n",
    "fig, ax = plt.subplots(nrows=1, ncols=5, sharex=True, sharey=True)\n",
    "\n",
    "for i, n in enumerate(T[:,:,::25].T):\n",
    "    ax[i].imshow(n)\n",
    "    ax[i].set_title('t={}'.format(t[i*25]))\n",
    "    \n",
    "plt.show()"
   ]
  },
  {
   "cell_type": "code",
   "execution_count": 80,
   "metadata": {
    "scrolled": false,
    "slideshow": {
     "slide_type": "subslide"
    }
   },
   "outputs": [
    {
     "data": {
      "image/png": "[encoded data removed]",
      "text/plain": [
       "<Figure size 576x396 with 1 Axes>"
      ]
     },
     "metadata": {
      "needs_background": "light"
     },
     "output_type": "display_data"
    }
   ],
   "source": [
    "plt.plot(t, T[5,5,:])\n",
    "plt.title('Evolução da temperatura no centro da placa')\n",
    "plt.xlabel('t')\n",
    "plt.ylabel('T')\n",
    "plt.show()"
   ]
  },
  {
   "cell_type": "code",
   "execution_count": 81,
   "metadata": {
    "slideshow": {
     "slide_type": "skip"
    }
   },
   "outputs": [],
   "source": [
    "del T, x, y, t, a, dx2, dy2, dt, i, n, ax, fig, j"
   ]
  },
  {
   "cell_type": "markdown",
   "metadata": {
    "slideshow": {
     "slide_type": "subslide"
    }
   },
   "source": [
    "3. **Condução e difusão transiente unidimensional**. Resolver a EDP:\n",
    "\\begin{equation}\n",
    "    \\dfrac{\\partial T}{\\partial t}+u\\dfrac{\\partial T}{\\partial x}=\\alpha \\dfrac{\\partial^2 T}{\\partial x^2} \\quad 0\\leq x \\leq 1 ; 0\\leq t \\leq 8\n",
    "\\end{equation}\n",
    "Condições de contorno:\n",
    "\\begin{equation}\n",
    "    T(0,t)=T(1,t)=0\n",
    "\\end{equation}\n",
    "Condição inicial:\n",
    "\\begin{equation}\n",
    "    T(x,0) =  1 - ( 10 x - 1 )^2 \\quad \\text{ se $0 \\leq x \\leq 0,2$}, \\quad \\text{ senão } T(x,0) = 0\n",
    "\\end{equation}\n",
    "\n",
    "Discretizando com as derivadas espaciais numa representação por diferença central e a derivada temporal com diferença ascendente:\n",
    "\\begin{equation}\n",
    "\\dfrac{T_{i,k+1}-T_{i,k}}{\\Delta t}=\\alpha \\dfrac{T_{i-1,k}-2T_{i,k}+T_{i+1,k}}{(\\Delta x)^2} -u\\dfrac{T_{i+1,k}-T_{i-1,k}}{2\\Delta x}\n",
    "\\end{equation}"
   ]
  },
  {
   "cell_type": "markdown",
   "metadata": {
    "slideshow": {
     "slide_type": "skip"
    }
   },
   "source": [
    "O problema pode ser escrito na forma matricial como:\n",
    "\\begin{equation}\n",
    "\\begin{split}\n",
    "\\begin{bmatrix} T_{0,k+1} \\\\ T_{1,k+1} \\\\ \\vdots \\\\ T_{i,k+1} \\\\ \\vdots \\\\ T_{n-2,k+1}\\\\ T_{n-1,k+1}\\end{bmatrix} =\n",
    "\\begin{bmatrix} T_{0,k} \\\\ T_{1,k} \\\\ \\vdots \\\\ T_{i,k} \\\\ \\vdots \\\\ T_{n-2,k}\\\\ T_{n-1,k}\\end{bmatrix} +\n",
    "\\frac{\\alpha \\Delta t}{(\\Delta x)^2}\n",
    "\\begin{bmatrix}\n",
    "0 & 0 & & & & & \\\\\n",
    "1 & -2 & 1 & & \\\\\n",
    " & \\ddots & \\ddots & \\ddots & & & \\\\\n",
    "& & 1 & -2 & 1 & \\\\\n",
    "& & & \\ddots & \\ddots & \\ddots & \\\\\n",
    "& & & & 1 & -2 & 1\\\\\n",
    " & & & & & 0 & 0\n",
    "\\end{bmatrix}\n",
    "\\begin{bmatrix} T_{0,k} \\\\ T_{1,k} \\\\ \\vdots \\\\ T_{i,k} \\\\ \\vdots \\\\ T_{n-2,k}\\\\ T_{n-1,k}\\end{bmatrix} -\n",
    "\\frac{u \\Delta t}{2\\Delta x}\n",
    "\\begin{bmatrix}\n",
    "0 & 0 & & & & & \\\\\n",
    "-1 & 0 & 1 & & \\\\\n",
    " & \\ddots & \\ddots & \\ddots & & & \\\\\n",
    "& & -1 & 0 & 1 & \\\\\n",
    "& & & \\ddots & \\ddots & \\ddots & \\\\\n",
    "& & & & -1 & 0 & 1\\\\\n",
    " & & & & & 0 & 0\n",
    "\\end{bmatrix}\n",
    "\\begin{bmatrix} T_{0,k} \\\\ T_{1,k} \\\\ \\vdots \\\\ T_{i,k} \\\\ \\vdots \\\\ T_{n-2,k}\\\\ T_{n-1,k}\\end{bmatrix}\n",
    "\\\\\n",
    "\\mbox{com $2\\leq i \\leq n -3$,}\n",
    "\\end{split}\n",
    "\\label{eq.dxx_matrix}\n",
    "\\end{equation}"
   ]
  },
  {
   "cell_type": "markdown",
   "metadata": {
    "slideshow": {
     "slide_type": "fragment"
    }
   },
   "source": [
    "ou simplesmente:\n",
    "\\begin{equation}\n",
    "   T_{k+1} = T_{k} + \\underbrace{ \\Delta t \\left( \\alpha D_x - u D_x^2 \\right)}_{A} T_{k},\n",
    "\\end{equation}\n",
    "\n",
    "onde $D_x$ e $D_x^2$ são os operadores diferenciais de primeira e segunda ordem, respectivamente."
   ]
  },
  {
   "cell_type": "code",
   "execution_count": 82,
   "metadata": {
    "slideshow": {
     "slide_type": "subslide"
    }
   },
   "outputs": [],
   "source": [
    "x, Dx, Dx2 = dv.ordem2(1., n=101)\n",
    "\n",
    "t = np.linspace(0., 8., num=8001, endpoint=True)\n",
    "\n",
    "dt = t[1]-t[0]\n",
    "\n",
    "#Condições de contorno\n",
    "for D in [Dx, Dx2]:\n",
    "    D[0,:] = 0.\n",
    "    D[-1,:] = 0."
   ]
  },
  {
   "cell_type": "code",
   "execution_count": 83,
   "metadata": {
    "slideshow": {
     "slide_type": "subslide"
    }
   },
   "outputs": [],
   "source": [
    "def convdiff(alpha, u):\n",
    "\n",
    "    #Condição inicial\n",
    "    T = np.zeros((x.size))\n",
    "    for i, ival in enumerate(x):\n",
    "        if ival > 0.2:\n",
    "            break\n",
    "        T[i] = 1. - (10. * ival - 1)**2.\n",
    "\n",
    "    A = dt*(alpha*Dx2-u*Dx)\n",
    "    \n",
    "    return A, T"
   ]
  },
  {
   "cell_type": "code",
   "execution_count": 84,
   "metadata": {
    "slideshow": {
     "slide_type": "subslide"
    }
   },
   "outputs": [
    {
     "data": {
      "image/png": "[encoded data removed]",
      "text/plain": [
       "<Figure size 576x396 with 1 Axes>"
      ]
     },
     "metadata": {
      "needs_background": "light"
     },
     "output_type": "display_data"
    }
   ],
   "source": [
    "alpha, u, visu = 0.001, 0.08, 2000 #Parâmetro de visualização: a cada quantos passos de tempo se deve graficar os resultados\n",
    "\n",
    "A, T = convdiff(alpha, u)\n",
    "for n in range(t.size):\n",
    "    T += A.dot(T)\n",
    "    if n % visu == 0:\n",
    "        plt.plot(x, T, label='t={}'.format(t[n]))\n",
    "\n",
    "plt.xlabel('x')\n",
    "plt.ylabel('T(x)')\n",
    "plt.legend()\n",
    "plt.show()"
   ]
  },
  {
   "cell_type": "markdown",
   "metadata": {
    "slideshow": {
     "slide_type": "subslide"
    }
   },
   "source": [
    "Mas o que acontece quando combinados diferentes valores para $\\alpha$ e $u$?"
   ]
  },
  {
   "cell_type": "code",
   "execution_count": 85,
   "metadata": {
    "slideshow": {
     "slide_type": "fragment"
    }
   },
   "outputs": [
    {
     "data": {
      "image/png": "[encoded data removed]",
      "text/plain": [
       "<Figure size 576x396 with 9 Axes>"
      ]
     },
     "metadata": {
      "needs_background": "light"
     },
     "output_type": "display_data"
    }
   ],
   "source": [
    "fig, ax = plt.subplots(nrows=3, ncols=3, sharex=True, sharey=True)\n",
    "\n",
    "for i, alpha in enumerate([0., 0.0005, 0.001]):\n",
    "    for j, u in enumerate([0., 0.04, 0.08]):\n",
    "        A, T = convdiff(alpha, u)\n",
    "        for n in range(t.size):\n",
    "            T += A.dot(T)\n",
    "            if n % visu == 0:\n",
    "                ax[i,j].plot(x, T, label='t={}'.format(t[n]))\n",
    "                ax[-1,j].set_xlabel(r'$u = {}$'.format(u))\n",
    "                ax[i,0].set_ylabel(r'$\\alpha = {}$'.format(alpha))\n",
    "plt.show()"
   ]
  },
  {
   "cell_type": "code",
   "execution_count": 86,
   "metadata": {
    "slideshow": {
     "slide_type": "skip"
    }
   },
   "outputs": [],
   "source": [
    "del A,D,Dx,Dx2,T,alpha,ax,dt,fig,i,j,n,t,u,visu,x\n",
    "plt.close('all')"
   ]
  },
  {
   "cell_type": "markdown",
   "metadata": {
    "slideshow": {
     "slide_type": "subslide"
    }
   },
   "source": [
    "### Vibrações Mecânicas\n",
    "\n",
    "<img src=\"molas.png\" width=\"480\">\n",
    "\n",
    "1. O movimento das massas esquematizadas na figura acima é governado pelo seguinte sistema de equações:\n",
    "\n",
    "\\begin{equation}\n",
    "\\underbrace{\n",
    "\\begin{bmatrix}\n",
    "m_0 & 0 \\\\\n",
    "  0 & m_1\n",
    "\\end{bmatrix}\n",
    "}_{M}\n",
    "\\begin{bmatrix} \\ddot x_0 \\\\ \\ddot x_1 \\end{bmatrix} +\n",
    "\\underbrace{\n",
    "\\begin{bmatrix}\n",
    "c_0 + c_1 & -c_1 \\\\\n",
    "-c_1 & c_1 + c_2\n",
    "\\end{bmatrix}\n",
    "}_{C}\n",
    "\\begin{bmatrix} \\dot x_0 \\\\ \\dot x_1 \\end{bmatrix} +\n",
    "\\underbrace{\n",
    "\\begin{bmatrix}\n",
    "k_0 + k_1 & -k_1 \\\\\n",
    "-k_1 & k_1 + k_2\n",
    "\\end{bmatrix}\n",
    "}_{K}\n",
    "\\begin{bmatrix} x_0 \\\\ x_1 \\end{bmatrix} = 0\n",
    "\\end{equation}\n",
    "\n",
    "    No caso particular em que o coeficiente de amortecimento é nulo $c=0$, a resposta esperada do sistema pode ser escrita como $x = a e^{iwt}$, que substituida no sistema acima resulta em:\n",
    "\n",
    "\\begin{equation}\n",
    "    \\left[ \\underbrace{M^{-1}K}_{A} - \\omega^2I \\right] x = 0\n",
    "\\end{equation}\n",
    "\n",
    "    Sabendo que as frequencias $\\omega$ e modos de vibração $a$ catacterísticos do sistema podem ser obtidos respectivamente como os autovalores e autovetores da matriz $A$, grafique a resposta em função do tempo considerando $m_0=m_1=1$ e $k_0=k_1=k_2=1$."
   ]
  },
  {
   "cell_type": "code",
   "execution_count": 87,
   "metadata": {
    "slideshow": {
     "slide_type": "subslide"
    }
   },
   "outputs": [],
   "source": [
    "m0, m1 = 1., 1.\n",
    "k0, k1, k2 = 1., 1., 1.\n",
    "\n",
    "M = np.array([[m0, 0.],\n",
    "              [0., m1]])\n",
    "K = np.array([[k0+k1, -k1  ],\n",
    "              [-k1  , k1+k2]])\n",
    "\n",
    "from scipy import linalg\n",
    "A = sp.linalg.inv(M).dot(K)\n",
    "\n",
    "e_vals, e_vecs = sp.linalg.eig(A)"
   ]
  },
  {
   "cell_type": "code",
   "execution_count": 88,
   "metadata": {
    "slideshow": {
     "slide_type": "subslide"
    }
   },
   "outputs": [
    {
     "name": "stderr",
     "output_type": "stream",
     "text": [
      "/home/laset/intel/intelpython3/lib/python3.6/site-packages/numpy/core/numeric.py:538: ComplexWarning: Casting complex values to real discards the imaginary part\n",
      "  return array(a, dtype, copy=False, order=order)\n"
     ]
    },
    {
     "data": {
      "image/png": "[encoded data removed]",
      "text/plain": [
       "<Figure size 576x396 with 2 Axes>"
      ]
     },
     "metadata": {
      "needs_background": "light"
     },
     "output_type": "display_data"
    }
   ],
   "source": [
    "fig, ax = plt.subplots(nrows=1, ncols=e_vals.size, sharex=True, sharey=True)\n",
    "t = np.linspace(0., 4*np.pi, num=200, endpoint=True)\n",
    "for i, w in enumerate(e_vals):\n",
    "    for j, a in enumerate(e_vecs[i]):\n",
    "        offset = -(-1)**j #um deslocamento, apenas para melhor visualização\n",
    "        ax[i].plot(offset+a*np.exp(1j*w*t),t, label=r'$x_{}$'.format(j))\n",
    "    ax[i].legend()\n",
    "    ax[i].set_title(r'$\\omega_{} = {}$'.format(i,w.real))\n",
    "    ax[i].set_xlabel('x')\n",
    "    ax[i].set_ylabel('t')\n",
    "plt.show()"
   ]
  },
  {
   "cell_type": "code",
   "execution_count": 89,
   "metadata": {
    "slideshow": {
     "slide_type": "skip"
    }
   },
   "outputs": [],
   "source": [
    "del A,K,M,a,ax,e_vals,e_vecs,fig,i,j,k0,k1,k2,m0,m1,offset,t,w\n",
    "plt.close('all')"
   ]
  },
  {
   "cell_type": "markdown",
   "metadata": {
    "slideshow": {
     "slide_type": "subslide"
    }
   },
   "source": [
    "### Engenharia Econômica"
   ]
  },
  {
   "cell_type": "markdown",
   "metadata": {
    "slideshow": {
     "slide_type": "subslide"
    }
   },
   "source": [
    "### Eletrônica\n",
    "\n",
    "\n",
    "1. Determine as correntes elétricas $I_1$, $I_2$ e $I_3$ que percorrem o circuito abaixo, admitindo que: $R_1=10 \\Omega$, $R_2=22\\Omega$, $R_3=47\\Omega$, $R_4=22\\Omega$, $R_5=10\\Omega$ e $V_1=V_2=9 V$.\n",
    "\n",
    "<img src=\"circuit.png\" width=\"480\">"
   ]
  },
  {
   "cell_type": "markdown",
   "metadata": {
    "slideshow": {
     "slide_type": "fragment"
    }
   },
   "source": [
    "Pela primeira lei de Kirchhoff:\n",
    "\\begin{equation}\n",
    "    I_1 + I_2 - I_3 = 0\n",
    "\\end{equation}\n",
    "\n",
    "Pela segunda lei de Kirchhoff:\n",
    "\\begin{equation}\n",
    "R_4 I_1 + R_3 I_3 + R_1 I_1 = V_1\n",
    "\\end{equation}\n",
    "\\begin{equation}\n",
    "R_5 I_2 + R_3 I_3 + R_2 I_2 = V_2\n",
    "\\end{equation}"
   ]
  },
  {
   "cell_type": "code",
   "execution_count": 90,
   "metadata": {
    "slideshow": {
     "slide_type": "subslide"
    }
   },
   "outputs": [],
   "source": [
    "r1, r2, r3, r4, r5 = 10., 22., 47., 22., 10.\n",
    "v1, v2 = 9., 9.\n",
    "\n",
    "A = [[1., 1., -1.],\n",
    "     [r1+r4, 0., r3],\n",
    "     [0., r2+r5, r3]]\n",
    "\n",
    "B = [0., v1, v2]"
   ]
  },
  {
   "cell_type": "code",
   "execution_count": 91,
   "metadata": {
    "slideshow": {
     "slide_type": "fragment"
    }
   },
   "outputs": [
    {
     "name": "stdout",
     "output_type": "stream",
     "text": [
      "I0 = 0.07142857142857144\n",
      "I1 = 0.07142857142857144\n",
      "I2 = 0.14285714285714285\n"
     ]
    }
   ],
   "source": [
    "I = np.linalg.solve(A,B)\n",
    "\n",
    "for i, ival in enumerate(I):\n",
    "    print('I{} = {}'.format(i, ival))"
   ]
  },
  {
   "cell_type": "markdown",
   "metadata": {
    "slideshow": {
     "slide_type": "skip"
    }
   },
   "source": [
    "Material complementar:\n",
    "* [Kirchhoff's circuit laws](https://en.wikipedia.org/wiki/Kirchhoff%27s_circuit_laws)"
   ]
  },
  {
   "cell_type": "code",
   "execution_count": 92,
   "metadata": {
    "slideshow": {
     "slide_type": "skip"
    }
   },
   "outputs": [],
   "source": [
    "del A,B,I,i,ival,r1,r2,r3,r4,r5,v1,v2"
   ]
  },
  {
   "cell_type": "markdown",
   "metadata": {
    "slideshow": {
     "slide_type": "subslide"
    }
   },
   "source": [
    "### Resistência dos Materiais\n",
    "\n",
    "1. Determine os esforços am cada uma das barras que compôem a treliça abaixo. Para cada um dos nós observa-se que $\\sum F_x = 0$ e $\\sum F_y = 0$ devem ser satisfeitas, resultando em 14 equações e um sistema matricial $14 \\times 14$ a ser resolvido. Como incógnitas, tem-se a força resultante nas 11 barras $F_{ij}$, além da força nos apoios: $F_{1x}$, $F_{1y}$ e $F_{4y}$. Considerar o carregamento como $F_5 = F_6 = 1kN$ e $F_7 = 2kN$.\n",
    "\n",
    "<img src=\"trelica.png\" width=\"640\">"
   ]
  },
  {
   "cell_type": "markdown",
   "metadata": {
    "slideshow": {
     "slide_type": "subslide"
    }
   },
   "source": [
    "\\begin{equation}\n",
    "  F_{1x} - F_{12} - \\cos(30^o) F_{15} = 0\\\\\n",
    "  F_{1y} - \\sin(30^o) F_{15} = 0 \\\\\n",
    "  F_{12} - F_{23} + \\cos(60^o) F_{25} - \\cos(60^o) F_{27} = 0 \\\\\n",
    "  - \\sin(60^o) F_{25} - \\sin(60^o) F_{27} = 0 \\\\\n",
    "  F_{23} - F_{34} + \\cos(60^o) F_{37} - \\cos(60^o) F_{36} = 0 \\\\\n",
    "  - \\sin(60^o) F_{37} - \\sin(60^o) F_{36} = 0 \\\\\n",
    "  F_{34} + \\cos(30^o) F_{46} = 0 \\\\\n",
    "  F_{4y} - \\sin(30^o) F_{46} = 0 \\\\\n",
    "  \\cos(30^o) F_{15} - \\cos(60^o) F_{25} - \\cos(30^o) F_{57} = 0 \\\\\n",
    "  \\sin(30^o) F_{15} + \\sin(60^o) F_{25} - \\sin(30^o) F_{57} - F_{5} = 0 \\\\\n",
    "   - \\cos(30^o) F_{46} + \\cos(60^o) F_{36} + \\cos(30^o) F_{67} = 0 \\\\\n",
    "  \\sin(30^o) F_{46} + \\sin(60^o) F_{36} - \\sin(30^o) F_{67} - F_{6} = 0 \\\\\n",
    "  \\cos(30^o) F_{57} + \\cos(60^o) F_{27} - \\cos(30^o) F_{67} - \\cos(60^o) F_{37} = 0 \\\\\n",
    "  \\sin(30^o) F_{57} + \\sin(60^o) F_{27} + \\sin(30^o) F_{67} + \\sin(60^o) F_{37} - F_7 = 0\n",
    "\\end{equation}"
   ]
  },
  {
   "cell_type": "markdown",
   "metadata": {
    "slideshow": {
     "slide_type": "subslide"
    }
   },
   "source": [
    "\\begin{equation}\n",
    "\\begin{split}\n",
    "\\begin{bmatrix}\n",
    "1\t&\t0\t&\t0\t&\t-\\cos\t&\t-1\t&\t0\t&\t0\t&\t0\t&\t0\t&\t0\t&\t0\t&\t0\t&\t0\t&\t0\t\\\\\n",
    "0\t&\t1\t&\t0\t&\t-\\sin\t&\t0\t&\t0\t&\t0\t&\t0\t&\t0\t&\t0\t&\t0\t&\t0\t&\t0\t&\t0\t\\\\\n",
    "0\t&\t0\t&\t0\t&\t0\t&\t1\t&\t-1\t&\t\\sin\t&\t-\\sin\t&\t0\t&\t0\t&\t0\t&\t0\t&\t0\t&\t0\t\\\\\n",
    "0\t&\t0\t&\t0\t&\t0\t&\t0\t&\t0\t&\t-\\cos\t&\t-\\cos\t&\t0\t&\t0\t&\t0\t&\t0\t&\t0\t&\t0\t\\\\\n",
    "0\t&\t0\t&\t0\t&\t0\t&\t0\t&\t1\t&\t0\t&\t0\t&\t-1\t&\t-\\sin\t&\t\\sin\t&\t0\t&\t0\t&\t0\t\\\\\n",
    "0\t&\t0\t&\t0\t&\t0\t&\t0\t&\t0\t&\t0\t&\t0\t&\t0\t&\t-\\cos\t&\t-\\cos\t&\t0\t&\t0\t&\t0\t\\\\\n",
    "0\t&\t0\t&\t0\t&\t0\t&\t0\t&\t0\t&\t0\t&\t0\t&\t1\t&\t0\t&\t0\t&\t\\cos\t&\t0\t&\t0\t\\\\\n",
    "0\t&\t0\t&\t1\t&\t0\t&\t0\t&\t0\t&\t0\t&\t0\t&\t0\t&\t0\t&\t0\t&\t-\\sin\t&\t0\t&\t0\t\\\\\n",
    "0\t&\t0\t&\t0\t&\t\\cos\t&\t0\t&\t0\t&\t-\\sin\t&\t0\t&\t0\t&\t0\t&\t0\t&\t0\t&\t-\\cos\t&\t0\t\\\\\n",
    "0\t&\t0\t&\t0\t&\t\\sin\t&\t0\t&\t0\t&\t\\cos\t&\t0\t&\t0\t&\t0\t&\t0\t&\t0\t&\t-\\sin\t&\t0\t\\\\\n",
    "0\t&\t0\t&\t0\t&\t0\t&\t0\t&\t0\t&\t0\t&\t0\t&\t0\t&\t\\sin\t&\t0\t&\t-\\cos\t&\t0\t&\t\\cos\t\\\\\n",
    "0\t&\t0\t&\t0\t&\t0\t&\t0\t&\t0\t&\t0\t&\t0\t&\t0\t&\t\\cos\t&\t0\t&\t\\sin\t&\t0\t&\t-\\sin\t\\\\\n",
    "0\t&\t0\t&\t0\t&\t0\t&\t0\t&\t0\t&\t0\t&\t\\sin\t&\t0\t&\t0\t&\t-\\sin\t&\t0\t&\t\\cos\t&\t-\\cos\t\\\\\n",
    "0\t&\t0\t&\t0\t&\t0\t&\t0\t&\t0\t&\t0\t&\t\\cos\t&\t0\t&\t0\t&\t\\cos\t&\t0\t&\t\\sin\t&\t\\sin\n",
    "\\end{bmatrix}\n",
    "\\begin{bmatrix}\n",
    "F_{1x} \\\\ F_{1y} \\\\ F_{4y} \\\\ F_{15} \\\\ F_{12} \\\\ F_{23} \\\\ F_{25} \\\\ F_{27} \\\\ F_{34} \\\\ F_{36} \\\\ F_{37} \\\\ F_{46} \\\\ F_{57} \\\\ F_{67}\n",
    "\\end{bmatrix}\n",
    "=\n",
    "\\begin{bmatrix} 0 \\\\ 0 \\\\ 0 \\\\ 0 \\\\ 0 \\\\ 0 \\\\ 0 \\\\ 0 \\\\ 0 \\\\ F_5 \\\\ 0 \\\\ F_6 \\\\ 0 \\\\ F_7 \\end{bmatrix}\n",
    "\\end{split}\n",
    "\\end{equation}"
   ]
  },
  {
   "cell_type": "code",
   "execution_count": 93,
   "metadata": {
    "slideshow": {
     "slide_type": "subslide"
    }
   },
   "outputs": [],
   "source": [
    "angle = np.deg2rad(30.)\n",
    "F5, F6, F7 = 1., 1., 2.\n",
    "cos, sin = np.cos(angle), np.sin(angle)\n",
    "\n",
    "A = np.array([[1.,0.,0.,-cos,-1.,0.,0.,0.,0.,0.,0.,0.,0.,0.],\n",
    "             [0.,1.,0.,-sin,0.,0.,0.,0.,0.,0.,0.,0.,0.,0.],\n",
    "             [0.,0.,0.,0.,1.,-1.,sin,-sin,0.,0.,0.,0.,0.,0.],\n",
    "             [0.,0.,0.,0.,0.,0.,-cos,-cos,0.,0.,0.,0.,0.,0.],\n",
    "             [0.,0.,0.,0.,0.,1.,0.,0.,-1.,-sin,sin,0.,0.,0.],\n",
    "             [0.,0.,0.,0.,0.,0.,0.,0.,0.,-cos,-cos,0.,0.,0.],\n",
    "             [0.,0.,0.,0.,0.,0.,0.,0.,1.,0.,0.,cos,0.,0.],\n",
    "             [0.,0.,1.,0.,0.,0.,0.,0.,0.,0.,0.,-sin,0.,0.],\n",
    "             [0.,0.,0.,cos,0.,0.,-sin,0.,0.,0.,0.,0.,-cos,0.],\n",
    "             [0.,0.,0.,sin,0.,0.,cos,0.,0.,0.,0.,0.,-sin,0.],\n",
    "             [0.,0.,0.,0.,0.,0.,0.,0.,0.,sin,0.,-cos,0.,cos],\n",
    "             [0.,0.,0.,0.,0.,0.,0.,0.,0.,cos,0.,sin,0.,-sin],\n",
    "             [0.,0.,0.,0.,0.,0.,0.,sin,0.,0.,-sin,0.,cos,-cos],\n",
    "             [0.,0.,0.,0.,0.,0.,0.,cos,0.,0.,cos,0.,sin,sin]])\n",
    "\n",
    "B = np.array([0.,0.,0.,0.,0.,0.,0.,0.,0.,F5,0.,F6,0.,F7])"
   ]
  },
  {
   "cell_type": "code",
   "execution_count": 94,
   "metadata": {
    "slideshow": {
     "slide_type": "subslide"
    }
   },
   "outputs": [
    {
     "name": "stdout",
     "output_type": "stream",
     "text": [
      " 0: F1x =  0.00kN\n",
      " 1: F1y =  2.00kN\n",
      " 2: F4y =  2.00kN\n",
      " 3: F15 =  4.00kN\n",
      " 4: F12 = -3.46kN\n",
      " 5: F23 = -2.60kN\n",
      " 6: F25 =  0.87kN\n",
      " 7: F27 = -0.87kN\n",
      " 8: F34 = -3.46kN\n",
      " 9: F36 =  0.87kN\n",
      "10: F37 = -0.87kN\n",
      "11: F46 =  4.00kN\n",
      "12: F57 =  3.50kN\n",
      "13: F67 =  3.50kN\n"
     ]
    }
   ],
   "source": [
    "I = np.linalg.solve(A,B)\n",
    "\n",
    "for i, key in enumerate(['F1x','F1y','F4y','F15','F12','F23','F25','F27','F34','F36','F37','F46','F57','F67']):\n",
    "    print('{0:2d}: {1} = {2:5.2f}kN'.format(i,key,I[i]))"
   ]
  },
  {
   "cell_type": "code",
   "execution_count": 95,
   "metadata": {
    "slideshow": {
     "slide_type": "skip"
    }
   },
   "outputs": [],
   "source": [
    "del A,B,F5,F6,F7,I,angle,cos,i,key,sin"
   ]
  },
  {
   "cell_type": "markdown",
   "metadata": {
    "slideshow": {
     "slide_type": "slide"
    }
   },
   "source": [
    "## Exercícios Propostos"
   ]
  },
  {
   "cell_type": "markdown",
   "metadata": {
    "slideshow": {
     "slide_type": "subslide"
    }
   },
   "source": [
    "1. **Ciência dos Materiais - Difusão combinada de calor e massa em um caso bidimensional**.\n",
    "\n",
    "    Uma chapa de aço, de espessura $L$, inicialmente na temperatura $T_i$, entra em um forno para tratamento térmico. Ao contato com a atmosfera aquecida e rica em cardono dentro do forno, os contornos da peça atingem temperatura e concentração de $T_p$ e $c_p$, respectivamente. Sabendo que as equações unidimensionais para a difusão de calor e de concentração de carbono são escritas em sua forma adimensional como:\n",
    "\\begin{equation}\n",
    "    \\dfrac{\\partial ^2 \\Theta}{\\partial X^2} = \\dfrac{\\partial \\Theta}{\\partial \\tau},\n",
    "\\end{equation}\n",
    "\\begin{equation}\n",
    "    \\dfrac{\\partial }{\\partial X} \\left( \\dfrac{1}{Le(\\Theta)} \\dfrac{\\partial C}{\\partial X} \\right)  = \\dfrac{\\partial C}{\\partial \\tau},\n",
    "\\end{equation}\n",
    "onde $\\Theta(X, \\tau) = \\dfrac{T(x,t) - T_i}{T_p - T_i}$ representa a temperatura adimensional, $X = \\dfrac{x}{L}$ o sistema de coordenadas, $\\tau = \\dfrac{\\alpha t}{L^2}$ o tempo, $C(X, \\tau) = \\dfrac{c(x,t) - c_i}{c_p - c_i}$ a concentração de carbono e $Le = \\dfrac{\\alpha}{D}$ o número de Lewis. Determine o tempo adimensional necessário para que no centro da peça $C(X/2)=75\\%$. Grafique a evolução da temperatura e da concentração no centro da peça em função do tempo. Em situações reais, a difusão mássica é muito menor que a diffusão térmica, de modo que o número de Lewis seja da ordem de $10^6$, desta maneira, para fins didáticos, assuma que $Le = \\dfrac{4}{1+2\\Theta^{3/2}}$."
   ]
  },
  {
   "cell_type": "markdown",
   "metadata": {
    "slideshow": {
     "slide_type": "subslide"
    }
   },
   "source": [
    "2. **Transferência de calor**. Com base no exemplo resolvido 3.2.1, grafique como a temperatura na parede $T_2$ varia em função da emissividade da superfície externa, considerando $0 \\le \\epsilon \\le 1$."
   ]
  },
  {
   "cell_type": "markdown",
   "metadata": {
    "slideshow": {
     "slide_type": "subslide"
    }
   },
   "source": [
    "3. **Visualizações animadas**. Pode-se tirar proveito de belas animações interativas produzidas pela Matplotlib. Para tanto, dois exercícios resolvidos podem ser revisitados:\n",
    "\n",
    "    a. Primeiramente, o exercício 3.3.1 de vibrações mecânicas, produzindo uma animação para a variação de posição das duas massas com o tempo;\n",
    "\n",
    "    b. O problema 3.2.2 de fenômenos de transporte, gerando uma uma animação para a evolução temporal da temperatura na placa.\n",
    "\n",
    "    Material complementar:\n",
    "    * [Embedding Matplotlib Animations in Jupyter as Interactive JavaScript Widgets](http://louistiao.me/posts/notebooks/embedding-matplotlib-animations-in-jupyter-as-interactive-javascript-widgets/)"
   ]
  },
  {
   "cell_type": "markdown",
   "metadata": {
    "slideshow": {
     "slide_type": "subslide"
    }
   },
   "source": [
    "4. **Resistência dos Materiais**. De volta ao exercício resolvido 3.6.1, encontre um maneira de produzir as matrizes `A` e `B` automaticamente, sendo fornecidos ao código apenas a posição espacial dos nós da treliça, e as forças de ligação entre eles. Compare com a resposta obtida anteriormente para verificação do novo código. Grafique os resultados."
   ]
  },
  {
   "cell_type": "markdown",
   "metadata": {
    "slideshow": {
     "slide_type": "subslide"
    }
   },
   "source": [
    "5. **Fenômenos de Transporte**. Empregar o conceito de operador diferencial estabelecido pelo módulo `diferencial.py` ao exercício resolvido 3.2.2. Comparar com a resposta obtida anteriormente para verificação do novo código."
   ]
  },
  {
   "cell_type": "code",
   "execution_count": null,
   "metadata": {},
   "outputs": [],
   "source": []
  }
 ],
 "metadata": {
  "celltoolbar": "Slideshow",
  "kernelspec": {
   "display_name": "Python 3",
   "language": "python",
   "name": "python3"
  },
  "language_info": {
   "codemirror_mode": {
    "name": "ipython",
    "version": 3
   },
   "file_extension": ".py",
   "mimetype": "text/x-python",
   "name": "python",
   "nbconvert_exporter": "python",
   "pygments_lexer": "ipython3",
   "version": "3.6.8"
  },
  "toc": {
   "base_numbering": 1,
   "nav_menu": {},
   "number_sections": true,
   "sideBar": true,
   "skip_h1_title": true,
   "title_cell": "Sumário",
   "title_sidebar": "Sumário",
   "toc_cell": true,
   "toc_position": {
    "height": "calc(100% - 180px)",
    "left": "10px",
    "top": "150px",
    "width": "334.6px"
   },
   "toc_section_display": true,
   "toc_window_display": true
  },
  "varInspector": {
   "cols": {
    "lenName": 16,
    "lenType": 16,
    "lenVar": 40
   },
   "kernels_config": {
    "python": {
     "delete_cmd_postfix": "",
     "delete_cmd_prefix": "del ",
     "library": "var_list.py",
     "varRefreshCmd": "print(var_dic_list())"
    },
    "r": {
     "delete_cmd_postfix": ") ",
     "delete_cmd_prefix": "rm(",
     "library": "var_list.r",
     "varRefreshCmd": "cat(var_dic_list()) "
    }
   },
   "oldHeight": 413.85,
   "position": {
    "height": "576.85px",
    "left": "1476px",
    "right": "20px",
    "top": "189px",
    "width": "342px"
   },
   "types_to_exclude": [
    "module",
    "function",
    "builtin_function_or_method",
    "instance",
    "_Feature"
   ],
   "varInspector_section_display": "block",
   "window_display": false
  }
 },
 "nbformat": 4,
 "nbformat_minor": 2
}
