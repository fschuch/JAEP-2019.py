{
 "cells": [
  {
   "cell_type": "markdown",
   "metadata": {},
   "source": [
    "# Python: Introdução e Aplicações da Linguagem de Programação em Engenharia\n",
    "\n",
    "> **Felipe Nornberg Schuch**,<br>\n",
    "> Laboratório de Simulação de Escoamentos Turbulentos (LaSET),<br>\n",
    "> Escola Politécnica, Pontifícia Universidade Católica do Rio Grande do Sul.<br>\n",
    "> felipe.schuch@edu.pucrs.br"
   ]
  },
  {
   "cell_type": "markdown",
   "metadata": {},
   "source": [
    "## Introdução"
   ]
  },
  {
   "cell_type": "markdown",
   "metadata": {},
   "source": [
    "### Apresentação"
   ]
  },
  {
   "cell_type": "markdown",
   "metadata": {},
   "source": [
    "### Porque Python? [ref](https://www.hostgator.com.br/blog/10-motivos-para-voce-aprender-python/)\n",
    "\n",
    "1. Simples e fácil de aprender\n",
    "2. Portátil e Extensível\n",
    "3. Desenvolvimento Web\n",
    "4. Inteligência Artificial\n",
    "5. Computação Gráfica\n",
    "6. Enquadramento de Testes\n",
    "7. Big Data\n",
    "8. Scripting e Automação\n",
    "9. Ciência de Dados\n",
    "10. Popularidade"
   ]
  },
  {
   "cell_type": "markdown",
   "metadata": {},
   "source": [
    "### Porque Jupyter Notebooks?\n",
    "\n",
    "* [Markdown quick reference](https://en.support.wordpress.com/markdown-quick-reference/)"
   ]
  },
  {
   "cell_type": "markdown",
   "metadata": {},
   "source": [
    "### Material Complementar\n",
    "\n",
    "* [12 Steps to Navier-Stokes](https://github.com/barbagroup/CFDPython)\n",
    "* [An example machine learning notebook](https://nbviewer.jupyter.org/github/rhiever/Data-Analysis-and-Machine-Learning-Projects/blob/master/example-data-science-notebook/Example%2520Machine%2520Learning%2520Notebook.ipynb)\n",
    "* [Mythbusters Demo GPU versus CPU](https://www.youtube.com/watch?v=-P28LKWTzrI)"
   ]
  },
  {
   "cell_type": "markdown",
   "metadata": {},
   "source": [
    "## Revisão"
   ]
  },
  {
   "cell_type": "code",
   "execution_count": 10,
   "metadata": {},
   "outputs": [
    {
     "name": "stdout",
     "output_type": "stream",
     "text": [
      "Olá mundo\n"
     ]
    }
   ],
   "source": [
    "'''\n",
    "Isso é um comentário\n",
    "'''\n",
    "\n",
    "print(\"Olá mundo\")\n",
    "\n",
    "# Isso também é um comentário"
   ]
  },
  {
   "cell_type": "markdown",
   "metadata": {},
   "source": [
    "### Principais Bibliotecas\n",
    "\n",
    "#### Numpy\n",
    "\n",
    "#### Scipy\n",
    "\n",
    "#### Pandas\n",
    "\n",
    "#### Matplotlib\n",
    "\n",
    "* [Style sheets reference](https://matplotlib.org/3.1.0/gallery/style_sheets/style_sheets_reference.html)\n",
    "* [Gallery](https://matplotlib.org/3.1.0/gallery/index.html)\n",
    "\n",
    "#### Bokeh\n",
    "\n",
    "### Módulos\n",
    "\n",
    "### Classes\n",
    "\n",
    "### Dicionários\n",
    "\n",
    "* [Dictionaries in Python](https://realpython.com/python-dicts/)"
   ]
  },
  {
   "cell_type": "markdown",
   "metadata": {},
   "source": [
    "## Exercícios Resolvidos"
   ]
  },
  {
   "cell_type": "code",
   "execution_count": 11,
   "metadata": {},
   "outputs": [],
   "source": [
    "import numpy as np\n",
    "import scipy as sp\n",
    "import sympy as sm\n",
    "import bokeh as bk\n",
    "import pandas as pd\n",
    "import matplotlib.pyplot as plt"
   ]
  },
  {
   "cell_type": "markdown",
   "metadata": {},
   "source": [
    "### Métodos Numéricos\n",
    "\n",
    "### Transferência de Calor\n",
    "\n",
    "### Mecânica dos Fluidos\n",
    "\n",
    "### Vibrações Mecânicas\n",
    "\n",
    "### Resistência dos Materiais\n",
    "\n",
    "### Ciência dos Materiais\n",
    "\n",
    "### Controle e Automação\n",
    "\n",
    "### Engenharia Econômica"
   ]
  },
  {
   "cell_type": "markdown",
   "metadata": {},
   "source": [
    "## Exercícios Propostos"
   ]
  },
  {
   "cell_type": "code",
   "execution_count": null,
   "metadata": {
    "collapsed": true
   },
   "outputs": [],
   "source": []
  }
 ],
 "metadata": {
  "kernelspec": {
   "display_name": "Python 3",
   "language": "python",
   "name": "python3"
  },
  "language_info": {
   "codemirror_mode": {
    "name": "ipython",
    "version": 3
   },
   "file_extension": ".py",
   "mimetype": "text/x-python",
   "name": "python",
   "nbconvert_exporter": "python",
   "pygments_lexer": "ipython3",
   "version": "3.6.1"
  }
 },
 "nbformat": 4,
 "nbformat_minor": 2
}
